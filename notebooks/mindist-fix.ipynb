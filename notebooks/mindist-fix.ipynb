{
 "cells": [
  {
   "cell_type": "markdown",
   "id": "a9d2f52f-41ea-4d56-87b9-d0e97b212c80",
   "metadata": {},
   "source": [
    "# MINDIST FIX"
   ]
  },
  {
   "cell_type": "code",
   "execution_count": 1,
   "id": "70beaa16-d5bd-4f43-aeb5-11762723ffd5",
   "metadata": {},
   "outputs": [],
   "source": [
    "import toytree\n",
    "import ipcoal"
   ]
  },
  {
   "cell_type": "code",
   "execution_count": 2,
   "id": "607489cc-0e2f-404e-8ba3-1d7cf9623c81",
   "metadata": {},
   "outputs": [
    {
     "data": {
      "text/plain": [
       "{'A': ['0', '1', '2'], 'B': ['3', '4'], 'C': ['5'], 'D': ['6']}"
      ]
     },
     "execution_count": 2,
     "metadata": {},
     "output_type": "execute_result"
    }
   ],
   "source": [
    "S, G, I = ipcoal.msc.get_test_data()\n",
    "I"
   ]
  },
  {
   "cell_type": "code",
   "execution_count": 3,
   "id": "d216a8aa-df36-4494-84e2-809de9f54b3f",
   "metadata": {},
   "outputs": [
    {
     "data": {
      "text/plain": [
       "80.83643587318105"
      ]
     },
     "execution_count": 3,
     "metadata": {},
     "output_type": "execute_result"
    }
   ],
   "source": [
    "ipcoal.msc.get_msc_loglik(S, G, I)"
   ]
  },
  {
   "cell_type": "code",
   "execution_count": 4,
   "id": "872aab82-33ab-4964-b66c-f92b991ba930",
   "metadata": {},
   "outputs": [
    {
     "data": {
      "text/plain": [
       "7.051061652703343"
      ]
     },
     "execution_count": 4,
     "metadata": {},
     "output_type": "execute_result"
    }
   ],
   "source": [
    "ipcoal.smc.get_ms_smc_loglik(S, G, I, 2e-8, [100])"
   ]
  },
  {
   "cell_type": "code",
   "execution_count": 17,
   "id": "1ec4cffc-af84-4105-88c9-7ee0618dae3f",
   "metadata": {},
   "outputs": [
    {
     "data": {
      "text/html": [
       "<div class=\"toyplot\" id=\"t5c2b558bdd954da984b57897c58feed7\" style=\"text-align:center\"><svg class=\"toyplot-canvas-Canvas\" xmlns:toyplot=\"http://www.sandia.gov/toyplot\" xmlns:xlink=\"http://www.w3.org/1999/xlink\" xmlns=\"http://www.w3.org/2000/svg\" width=\"300.0px\" height=\"275.0px\" viewBox=\"0 0 300.0 275.0\" preserveAspectRatio=\"xMidYMid meet\" style=\"background-color:transparent;border-color:#292724;border-style:none;border-width:1.0;fill:rgb(16.1%,15.3%,14.1%);fill-opacity:1.0;font-family:Helvetica;font-size:12px;opacity:1.0;stroke:rgb(16.1%,15.3%,14.1%);stroke-opacity:1.0;stroke-width:1.0\" id=\"t750e4b7a45474587a6d9848242d460ee\"><g class=\"toyplot-coordinates-Cartesian\" id=\"t15dffa51f93340478f02a64739f22621\"><clipPath id=\"t9966ac81e8194d94868a060eed46e23d\"><rect x=\"35.0\" y=\"35.0\" width=\"230.0\" height=\"205.0\"></rect></clipPath><g clip-path=\"url(#t9966ac81e8194d94868a060eed46e23d)\"><g class=\"toytree-mark-Toytree\" id=\"t739c0cba0c644fb3963dd16584195451\"><g class=\"toytree-Edges\" style=\"stroke:rgb(14.5%,14.5%,14.5%);stroke-opacity:1.0;stroke-linecap:round;stroke-width:2.0;fill:none\"><path d=\"M 161.2 190.1 L 161.2 216.4 L 213.1 216.4\" id=\"4,0\" style=\"\"></path><path d=\"M 161.2 190.1 L 161.2 163.8 L 213.1 163.8\" id=\"4,1\" style=\"\"></path><path d=\"M 109.3 150.7 L 109.3 111.2 L 213.1 111.2\" id=\"5,2\" style=\"\"></path><path d=\"M 57.4 104.6 L 57.4 58.6 L 213.1 58.6\" id=\"6,3\" style=\"\"></path><path d=\"M 109.3 150.7 L 109.3 190.1 L 161.2 190.1\" id=\"5,4\" style=\"\"></path><path d=\"M 57.4 104.6 L 57.4 150.7 L 109.3 150.7\" id=\"6,5\" style=\"\"></path></g><g class=\"toytree-AdmixEdges\" style=\"fill:rgb(0.0%,0.0%,0.0%);fill-opacity:0.0;stroke:rgb(90.6%,54.1%,76.5%);stroke-opacity:0.6;font-size:14px;stroke-linecap:round;stroke-width:5\"></g><g class=\"toytree-Nodes\" style=\"fill:rgb(82.7%,82.7%,82.7%);fill-opacity:1.0;stroke:rgb(14.5%,14.5%,14.5%);stroke-opacity:1.0;stroke-width:1.5\"><g id=\"Node-0\" transform=\"translate(213.144,216.43)\"><circle r=\"8.0\"></circle></g><g id=\"Node-1\" transform=\"translate(213.144,163.81)\"><circle r=\"8.0\"></circle></g><g id=\"Node-2\" transform=\"translate(213.144,111.19)\"><circle r=\"8.0\"></circle></g><g id=\"Node-3\" transform=\"translate(213.144,58.5696)\"><circle r=\"8.0\"></circle></g><g id=\"Node-4\" transform=\"translate(161.229,190.12)\"><circle r=\"8.0\"></circle></g><g id=\"Node-5\" transform=\"translate(109.313,150.655)\"><circle r=\"8.0\"></circle></g><g id=\"Node-6\" transform=\"translate(57.3979,104.612)\"><circle r=\"8.0\"></circle></g></g><g class=\"toytree-NodeLabels\" style=\"font-family:Helvetica;font-size:9px;font-weight:300;vertical-align:baseline;white-space:pre;stroke:none\"><g class=\"toytree-NodeLabel\" transform=\"translate(213.144,216.43)\"><text x=\"-2.5020000000000002\" y=\"2.2995\" style=\"fill:rgb(14.5%,14.5%,14.5%);fill-opacity:1.0\">0</text></g><g class=\"toytree-NodeLabel\" transform=\"translate(213.144,163.81)\"><text x=\"-2.5020000000000002\" y=\"2.2995\" style=\"fill:rgb(14.5%,14.5%,14.5%);fill-opacity:1.0\">1</text></g><g class=\"toytree-NodeLabel\" transform=\"translate(213.144,111.19)\"><text x=\"-2.5020000000000002\" y=\"2.2995\" style=\"fill:rgb(14.5%,14.5%,14.5%);fill-opacity:1.0\">2</text></g><g class=\"toytree-NodeLabel\" transform=\"translate(213.144,58.5696)\"><text x=\"-2.5020000000000002\" y=\"2.2995\" style=\"fill:rgb(14.5%,14.5%,14.5%);fill-opacity:1.0\">3</text></g><g class=\"toytree-NodeLabel\" transform=\"translate(161.229,190.12)\"><text x=\"-2.5020000000000002\" y=\"2.2995\" style=\"fill:rgb(14.5%,14.5%,14.5%);fill-opacity:1.0\">4</text></g><g class=\"toytree-NodeLabel\" transform=\"translate(109.313,150.655)\"><text x=\"-2.5020000000000002\" y=\"2.2995\" style=\"fill:rgb(14.5%,14.5%,14.5%);fill-opacity:1.0\">5</text></g><g class=\"toytree-NodeLabel\" transform=\"translate(57.3979,104.612)\"><text x=\"-2.5020000000000002\" y=\"2.2995\" style=\"fill:rgb(14.5%,14.5%,14.5%);fill-opacity:1.0\">6</text></g></g><g class=\"toytree-TipLabels\" style=\"fill:rgb(14.5%,14.5%,14.5%);fill-opacity:1.0;font-family:Helvetica;font-size:12px;font-weight:300;vertical-align:baseline;white-space:pre;stroke:none\"><g class=\"toytree-TipLabel\" transform=\"translate(213.144,216.43)\"><text x=\"15.0\" y=\"3.066\" style=\"fill:rgb(14.5%,14.5%,14.5%);fill-opacity:1.0\">A</text></g><g class=\"toytree-TipLabel\" transform=\"translate(213.144,163.81)\"><text x=\"15.0\" y=\"3.066\" style=\"fill:rgb(14.5%,14.5%,14.5%);fill-opacity:1.0\">B</text></g><g class=\"toytree-TipLabel\" transform=\"translate(213.144,111.19)\"><text x=\"15.0\" y=\"3.066\" style=\"fill:rgb(14.5%,14.5%,14.5%);fill-opacity:1.0\">C</text></g><g class=\"toytree-TipLabel\" transform=\"translate(213.144,58.5696)\"><text x=\"15.0\" y=\"3.066\" style=\"fill:rgb(14.5%,14.5%,14.5%);fill-opacity:1.0\">D</text></g></g></g></g></g></svg><div class=\"toyplot-behavior\"><script>(function()\n",
       "{\n",
       "var modules={};\n",
       "})();</script></div></div>"
      ]
     },
     "metadata": {},
     "output_type": "display_data"
    }
   ],
   "source": [
    "S.draw('s');"
   ]
  },
  {
   "cell_type": "markdown",
   "id": "8994a5da-861e-4777-9c15-9bbc220dad6e",
   "metadata": {},
   "source": [
    "## Create example gene trees with zero-length dists\n",
    "### Internal zero-length"
   ]
  },
  {
   "cell_type": "code",
   "execution_count": 5,
   "id": "33e299f8-0995-49fd-ac3e-8d4cd19c410d",
   "metadata": {},
   "outputs": [
    {
     "data": {
      "text/html": [
       "<div class=\"toyplot\" id=\"td0bce9b5857343ab87f75d87eef5737a\" style=\"text-align:center\"><svg class=\"toyplot-canvas-Canvas\" xmlns:toyplot=\"http://www.sandia.gov/toyplot\" xmlns:xlink=\"http://www.w3.org/1999/xlink\" xmlns=\"http://www.w3.org/2000/svg\" width=\"300.0px\" height=\"275.0px\" viewBox=\"0 0 300.0 275.0\" preserveAspectRatio=\"xMidYMid meet\" style=\"background-color:transparent;border-color:#292724;border-style:none;border-width:1.0;fill:rgb(16.1%,15.3%,14.1%);fill-opacity:1.0;font-family:Helvetica;font-size:12px;opacity:1.0;stroke:rgb(16.1%,15.3%,14.1%);stroke-opacity:1.0;stroke-width:1.0\" id=\"t9f1693ff27724834b77fb8beb86ee9c3\"><g class=\"toyplot-coordinates-Cartesian\" id=\"tebcd1d7ecfa34beba8808a92951f1153\"><clipPath id=\"tb681163b4170453680b2b7ac10eb2f9a\"><rect x=\"35.0\" y=\"35.0\" width=\"230.0\" height=\"205.0\"></rect></clipPath><g clip-path=\"url(#tb681163b4170453680b2b7ac10eb2f9a)\"><g class=\"toytree-mark-Toytree\" id=\"ta78328d9c64244fe8820712dce3479ea\"><g class=\"toytree-Edges\" style=\"stroke:rgb(14.5%,14.5%,14.5%);stroke-opacity:1.0;stroke-linecap:round;stroke-width:2.0;fill:none\"><path d=\"M 122.4 204.9 L 122.4 218.3 L 214.5 218.3\" id=\"7,0\" style=\"\"></path><path d=\"M 122.4 204.9 L 122.4 191.4 L 214.5 191.4\" id=\"7,1\" style=\"\"></path><path d=\"M 153.1 144.2 L 153.1 164.4 L 214.5 164.4\" id=\"9,2\" style=\"\"></path><path d=\"M 190.0 124.0 L 190.0 137.5 L 214.5 137.5\" id=\"8,3\" style=\"\"></path><path d=\"M 190.0 124.0 L 190.0 110.6 L 214.5 110.6\" id=\"8,4\" style=\"\"></path><path d=\"M 81.5 70.1 L 81.5 83.6 L 214.5 83.6\" id=\"11,5\" style=\"\"></path><path d=\"M 81.5 70.1 L 81.5 56.7 L 214.5 56.7\" id=\"11,6\" style=\"\"></path><path d=\"M 122.4 174.6 L 122.4 204.9 L 122.4 204.9\" id=\"10,7\" style=\"\"></path><path d=\"M 153.1 144.2 L 153.1 124.0 L 190.0 124.0\" id=\"9,8\" style=\"\"></path><path d=\"M 122.4 174.6 L 122.4 144.2 L 153.1 144.2\" id=\"10,9\" style=\"\"></path><path d=\"M 50.8 122.3 L 50.8 174.6 L 122.4 174.6\" id=\"12,10\" style=\"\"></path><path d=\"M 50.8 122.3 L 50.8 70.1 L 81.5 70.1\" id=\"12,11\" style=\"\"></path></g><g class=\"toytree-AdmixEdges\" style=\"fill:rgb(0.0%,0.0%,0.0%);fill-opacity:0.0;stroke:rgb(90.6%,54.1%,76.5%);stroke-opacity:0.6;font-size:14px;stroke-linecap:round;stroke-width:5\"></g><g class=\"toytree-Nodes\" style=\"fill:rgb(40.0%,76.1%,64.7%);fill-opacity:1.0;stroke:rgb(14.9%,14.9%,14.9%);stroke-opacity:1.0;stroke-width:1.5\"></g><g class=\"toytree-TipLabels\" style=\"fill:rgb(14.5%,14.5%,14.5%);fill-opacity:1.0;font-family:Helvetica;font-size:12px;font-weight:300;vertical-align:baseline;white-space:pre;stroke:none\"><g class=\"toytree-TipLabel\" transform=\"translate(214.522,218.347)\"><text x=\"15.0\" y=\"3.066\" style=\"fill:rgb(14.5%,14.5%,14.5%);fill-opacity:1.0\">0</text></g><g class=\"toytree-TipLabel\" transform=\"translate(214.522,191.398)\"><text x=\"15.0\" y=\"3.066\" style=\"fill:rgb(14.5%,14.5%,14.5%);fill-opacity:1.0\">1</text></g><g class=\"toytree-TipLabel\" transform=\"translate(214.522,164.449)\"><text x=\"15.0\" y=\"3.066\" style=\"fill:rgb(14.5%,14.5%,14.5%);fill-opacity:1.0\">2</text></g><g class=\"toytree-TipLabel\" transform=\"translate(214.522,137.5)\"><text x=\"15.0\" y=\"3.066\" style=\"fill:rgb(14.5%,14.5%,14.5%);fill-opacity:1.0\">3</text></g><g class=\"toytree-TipLabel\" transform=\"translate(214.522,110.551)\"><text x=\"15.0\" y=\"3.066\" style=\"fill:rgb(14.5%,14.5%,14.5%);fill-opacity:1.0\">4</text></g><g class=\"toytree-TipLabel\" transform=\"translate(214.522,83.6017)\"><text x=\"15.0\" y=\"3.066\" style=\"fill:rgb(14.5%,14.5%,14.5%);fill-opacity:1.0\">5</text></g><g class=\"toytree-TipLabel\" transform=\"translate(214.522,56.6526)\"><text x=\"15.0\" y=\"3.066\" style=\"fill:rgb(14.5%,14.5%,14.5%);fill-opacity:1.0\">6</text></g></g></g></g></g></svg><div class=\"toyplot-behavior\"><script>(function()\n",
       "{\n",
       "var modules={};\n",
       "})();</script></div></div>"
      ]
     },
     "metadata": {},
     "output_type": "display_data"
    }
   ],
   "source": [
    "# set internal node to a zero length\n",
    "G2 = G.set_node_data(\"dist\", {7: 0.0, 1: G[1].dist + G[7].dist, 0: G[0].dist + G[7].dist})\n",
    "G2.draw();"
   ]
  },
  {
   "cell_type": "code",
   "execution_count": 6,
   "id": "66e441b8-39d8-4938-be97-d32e0dc2558a",
   "metadata": {},
   "outputs": [
    {
     "data": {
      "text/plain": [
       "85.08643587318105"
      ]
     },
     "execution_count": 6,
     "metadata": {},
     "output_type": "execute_result"
    }
   ],
   "source": [
    "ipcoal.msc.get_msc_loglik(S, G2, I)"
   ]
  },
  {
   "cell_type": "code",
   "execution_count": 7,
   "id": "ae978b54-f455-46b6-a533-58a350a3c14f",
   "metadata": {},
   "outputs": [
    {
     "data": {
      "text/plain": [
       "6.258731407801232"
      ]
     },
     "execution_count": 7,
     "metadata": {},
     "output_type": "execute_result"
    }
   ],
   "source": [
    "ipcoal.smc.get_ms_smc_loglik(S, G2, I, 2e-8, [100], event_type=2)"
   ]
  },
  {
   "cell_type": "markdown",
   "id": "6ddbec8b-f0c4-4311-a160-db7bc1275d76",
   "metadata": {},
   "source": [
    "### Terminal zero-length"
   ]
  },
  {
   "cell_type": "code",
   "execution_count": 34,
   "id": "93a525df-df77-4279-9e9d-5a861ba83e48",
   "metadata": {},
   "outputs": [
    {
     "data": {
      "text/html": [
       "<div class=\"toyplot\" id=\"t1bcd41d2b73d41589beb26de1b3c3304\" style=\"text-align:center\"><svg class=\"toyplot-canvas-Canvas\" xmlns:toyplot=\"http://www.sandia.gov/toyplot\" xmlns:xlink=\"http://www.w3.org/1999/xlink\" xmlns=\"http://www.w3.org/2000/svg\" width=\"300.0px\" height=\"300.0px\" viewBox=\"0 0 300.0 300.0\" preserveAspectRatio=\"xMidYMid meet\" style=\"background-color:transparent;border-color:#292724;border-style:none;border-width:1.0;fill:rgb(16.1%,15.3%,14.1%);fill-opacity:1.0;font-family:Helvetica;font-size:12px;opacity:1.0;stroke:rgb(16.1%,15.3%,14.1%);stroke-opacity:1.0;stroke-width:1.0\" id=\"t73ec5730c3e7496398e8d8fddf14c31d\"><g class=\"toyplot-coordinates-Cartesian\" id=\"t2042529726fc4f27b26d93b9769d9804\"><clipPath id=\"t372c2586fed845f1bffcaf89c56a0cd5\"><rect x=\"35.0\" y=\"35.0\" width=\"230.0\" height=\"230.0\"></rect></clipPath><g clip-path=\"url(#t372c2586fed845f1bffcaf89c56a0cd5)\"><g class=\"toytree-mark-Toytree\" id=\"t6f05c025b0de4dfc9c1897b21b45bf07\"><g class=\"toytree-Edges\" style=\"stroke:rgb(14.5%,14.5%,14.5%);stroke-opacity:1.0;stroke-linecap:round;stroke-width:2.0;fill:none\"><path d=\"M 73.2 215.6 L 57.8 215.6\" id=\"7,0\" style=\"\"></path><path d=\"M 73.2 215.6 L 88.6 215.6\" id=\"7,1\" style=\"\"></path><path d=\"M 142.3 156.0 L 119.3 215.6\" id=\"9,2\" style=\"\"></path><path d=\"M 165.4 191.8 L 150.0 215.6\" id=\"8,3\" style=\"\"></path><path d=\"M 165.4 191.8 L 180.7 215.6\" id=\"8,4\" style=\"\"></path><path d=\"M 226.8 86.5 L 211.4 215.6\" id=\"11,5\" style=\"\"></path><path d=\"M 226.8 86.5 L 242.2 215.6\" id=\"11,6\" style=\"\"></path><path d=\"M 107.8 126.2 L 73.2 215.6\" id=\"10,7\" style=\"\"></path><path d=\"M 142.3 156.0 L 165.4 191.8\" id=\"9,8\" style=\"\"></path><path d=\"M 107.8 126.2 L 142.3 156.0\" id=\"10,9\" style=\"\"></path><path d=\"M 167.3 56.8 L 107.8 126.2\" id=\"12,10\" style=\"\"></path><path d=\"M 167.3 56.8 L 226.8 86.5\" id=\"12,11\" style=\"\"></path></g><g class=\"toytree-AdmixEdges\" style=\"fill:rgb(0.0%,0.0%,0.0%);fill-opacity:0.0;stroke:rgb(90.6%,54.1%,76.5%);stroke-opacity:0.6;font-size:14px;stroke-linecap:round;stroke-width:5\"></g><g class=\"toytree-Nodes\" style=\"fill:rgb(40.0%,76.1%,64.7%);fill-opacity:1.0;stroke:rgb(14.5%,14.5%,14.5%);stroke-opacity:1.0;stroke-width:1.0\"><g id=\"Node-0\" transform=\"translate(57.8341,215.579)\"><circle r=\"7.5\"></circle></g><g id=\"Node-1\" transform=\"translate(88.5561,215.579)\"><circle r=\"7.5\"></circle></g><g id=\"Node-2\" transform=\"translate(119.278,215.579)\"><circle r=\"7.5\"></circle></g><g id=\"Node-3\" transform=\"translate(150,215.579)\"><circle r=\"7.5\"></circle></g><g id=\"Node-4\" transform=\"translate(180.722,215.579)\"><circle r=\"7.5\"></circle></g><g id=\"Node-5\" transform=\"translate(211.444,215.579)\"><circle r=\"7.5\"></circle></g><g id=\"Node-6\" transform=\"translate(242.166,215.579)\"><circle r=\"7.5\"></circle></g><g id=\"Node-7\" transform=\"translate(73.1951,215.579)\"><circle r=\"7.5\"></circle></g><g id=\"Node-8\" transform=\"translate(165.361,191.754)\"><circle r=\"7.5\"></circle></g><g id=\"Node-9\" transform=\"translate(142.32,156.018)\"><circle r=\"7.5\"></circle></g><g id=\"Node-10\" transform=\"translate(107.757,126.238)\"><circle r=\"7.5\"></circle></g><g id=\"Node-11\" transform=\"translate(226.805,86.5306)\"><circle r=\"7.5\"></circle></g><g id=\"Node-12\" transform=\"translate(167.281,56.7502)\"><circle r=\"7.5\"></circle></g></g><g class=\"toytree-NodeLabels\" style=\"font-family:Helvetica;font-size:9px;font-weight:300;vertical-align:baseline;white-space:pre;stroke:none\"><g class=\"toytree-NodeLabel\" transform=\"translate(57.8341,215.579)\"><text x=\"-2.5020000000000002\" y=\"2.2995\" style=\"fill:rgb(14.5%,14.5%,14.5%);fill-opacity:1.0\">0</text></g><g class=\"toytree-NodeLabel\" transform=\"translate(88.5561,215.579)\"><text x=\"-2.5020000000000002\" y=\"2.2995\" style=\"fill:rgb(14.5%,14.5%,14.5%);fill-opacity:1.0\">1</text></g><g class=\"toytree-NodeLabel\" transform=\"translate(119.278,215.579)\"><text x=\"-2.5020000000000002\" y=\"2.2995\" style=\"fill:rgb(14.5%,14.5%,14.5%);fill-opacity:1.0\">2</text></g><g class=\"toytree-NodeLabel\" transform=\"translate(150,215.579)\"><text x=\"-2.5020000000000002\" y=\"2.2995\" style=\"fill:rgb(14.5%,14.5%,14.5%);fill-opacity:1.0\">3</text></g><g class=\"toytree-NodeLabel\" transform=\"translate(180.722,215.579)\"><text x=\"-2.5020000000000002\" y=\"2.2995\" style=\"fill:rgb(14.5%,14.5%,14.5%);fill-opacity:1.0\">4</text></g><g class=\"toytree-NodeLabel\" transform=\"translate(211.444,215.579)\"><text x=\"-2.5020000000000002\" y=\"2.2995\" style=\"fill:rgb(14.5%,14.5%,14.5%);fill-opacity:1.0\">5</text></g><g class=\"toytree-NodeLabel\" transform=\"translate(242.166,215.579)\"><text x=\"-2.5020000000000002\" y=\"2.2995\" style=\"fill:rgb(14.5%,14.5%,14.5%);fill-opacity:1.0\">6</text></g><g class=\"toytree-NodeLabel\" transform=\"translate(73.1951,215.579)\"><text x=\"-2.5020000000000002\" y=\"2.2995\" style=\"fill:rgb(14.5%,14.5%,14.5%);fill-opacity:1.0\">7</text></g><g class=\"toytree-NodeLabel\" transform=\"translate(165.361,191.754)\"><text x=\"-2.5020000000000002\" y=\"2.2995\" style=\"fill:rgb(14.5%,14.5%,14.5%);fill-opacity:1.0\">8</text></g><g class=\"toytree-NodeLabel\" transform=\"translate(142.32,156.018)\"><text x=\"-2.5020000000000002\" y=\"2.2995\" style=\"fill:rgb(14.5%,14.5%,14.5%);fill-opacity:1.0\">9</text></g><g class=\"toytree-NodeLabel\" transform=\"translate(107.757,126.238)\"><text x=\"-5.0040000000000004\" y=\"2.2995\" style=\"fill:rgb(14.5%,14.5%,14.5%);fill-opacity:1.0\">10</text></g><g class=\"toytree-NodeLabel\" transform=\"translate(226.805,86.5306)\"><text x=\"-5.0040000000000004\" y=\"2.2995\" style=\"fill:rgb(14.5%,14.5%,14.5%);fill-opacity:1.0\">11</text></g><g class=\"toytree-NodeLabel\" transform=\"translate(167.281,56.7502)\"><text x=\"-5.0040000000000004\" y=\"2.2995\" style=\"fill:rgb(14.5%,14.5%,14.5%);fill-opacity:1.0\">12</text></g></g><g class=\"toytree-TipLabels\" style=\"fill:rgb(14.5%,14.5%,14.5%);fill-opacity:1.0;font-family:Helvetica;font-size:12px;font-weight:300;vertical-align:baseline;white-space:pre;stroke:none\"><g class=\"toytree-TipLabel\" transform=\"translate(57.8341,215.579)rotate(90)\"><text x=\"15.0\" y=\"3.066\" style=\"fill:rgb(14.5%,14.5%,14.5%);fill-opacity:1.0\">0</text></g><g class=\"toytree-TipLabel\" transform=\"translate(88.5561,215.579)rotate(90)\"><text x=\"15.0\" y=\"3.066\" style=\"fill:rgb(14.5%,14.5%,14.5%);fill-opacity:1.0\">1</text></g><g class=\"toytree-TipLabel\" transform=\"translate(119.278,215.579)rotate(90)\"><text x=\"15.0\" y=\"3.066\" style=\"fill:rgb(14.5%,14.5%,14.5%);fill-opacity:1.0\">2</text></g><g class=\"toytree-TipLabel\" transform=\"translate(150,215.579)rotate(90)\"><text x=\"15.0\" y=\"3.066\" style=\"fill:rgb(14.5%,14.5%,14.5%);fill-opacity:1.0\">3</text></g><g class=\"toytree-TipLabel\" transform=\"translate(180.722,215.579)rotate(90)\"><text x=\"15.0\" y=\"3.066\" style=\"fill:rgb(14.5%,14.5%,14.5%);fill-opacity:1.0\">4</text></g><g class=\"toytree-TipLabel\" transform=\"translate(211.444,215.579)rotate(90)\"><text x=\"15.0\" y=\"3.066\" style=\"fill:rgb(14.5%,14.5%,14.5%);fill-opacity:1.0\">5</text></g><g class=\"toytree-TipLabel\" transform=\"translate(242.166,215.579)rotate(90)\"><text x=\"15.0\" y=\"3.066\" style=\"fill:rgb(14.5%,14.5%,14.5%);fill-opacity:1.0\">6</text></g></g></g></g><g class=\"toyplot-coordinates-Axis\" id=\"tc401d36d765b4c4e8ea8cad2100c6847\" transform=\"translate(50.0,250.0)rotate(-90.0)translate(0,-15.0)\"><line x1=\"34.421308429027484\" y1=\"0\" x2=\"193.2497895522625\" y2=\"0\" style=\"\"></line><g><line x1=\"34.421308429027484\" y1=\"0\" x2=\"34.421308429027484\" y2=\"5\" style=\"\"></line><line x1=\"84.05520871799605\" y1=\"0\" x2=\"84.05520871799605\" y2=\"5\" style=\"\"></line><line x1=\"133.6891090069646\" y1=\"0\" x2=\"133.6891090069646\" y2=\"5\" style=\"\"></line><line x1=\"183.32300929593316\" y1=\"0\" x2=\"183.32300929593316\" y2=\"5\" style=\"\"></line></g><g><g transform=\"translate(34.421308429027484,-6)\"><text x=\"-2.78\" y=\"-4.440892098500626e-16\" style=\"fill:rgb(16.1%,15.3%,14.1%);fill-opacity:1.0;font-family:helvetica;font-size:10.0px;font-weight:normal;stroke:none;vertical-align:baseline;white-space:pre\">0</text></g><g transform=\"translate(84.05520871799605,-6)\"><text x=\"-16.68\" y=\"-4.440892098500626e-16\" style=\"fill:rgb(16.1%,15.3%,14.1%);fill-opacity:1.0;font-family:helvetica;font-size:10.0px;font-weight:normal;stroke:none;vertical-align:baseline;white-space:pre\">250000</text></g><g transform=\"translate(133.6891090069646,-6)\"><text x=\"-16.68\" y=\"-4.440892098500626e-16\" style=\"fill:rgb(16.1%,15.3%,14.1%);fill-opacity:1.0;font-family:helvetica;font-size:10.0px;font-weight:normal;stroke:none;vertical-align:baseline;white-space:pre\">500000</text></g><g transform=\"translate(183.32300929593316,-6)\"><text x=\"-16.68\" y=\"-4.440892098500626e-16\" style=\"fill:rgb(16.1%,15.3%,14.1%);fill-opacity:1.0;font-family:helvetica;font-size:10.0px;font-weight:normal;stroke:none;vertical-align:baseline;white-space:pre\">750000</text></g></g><g class=\"toyplot-coordinates-Axis-coordinates\" style=\"visibility:hidden\" transform=\"\"><line x1=\"0\" x2=\"0\" y1=\"3.0\" y2=\"-4.5\" style=\"stroke:rgb(43.9%,50.2%,56.5%);stroke-opacity:1.0;stroke-width:1.0\"></line><text x=\"0\" y=\"6\" style=\"alignment-baseline:hanging;fill:rgb(43.9%,50.2%,56.5%);fill-opacity:1.0;font-size:10px;font-weight:normal;stroke:none;text-anchor:middle\"></text></g></g></g></svg><div class=\"toyplot-behavior\"><script>(function()\n",
       "{\n",
       "var modules={};\n",
       "modules[\"toyplot/canvas/id\"] = \"t73ec5730c3e7496398e8d8fddf14c31d\";\n",
       "modules[\"toyplot/canvas\"] = (function(canvas_id)\n",
       "    {\n",
       "        return document.querySelector(\"#\" + canvas_id);\n",
       "    })(modules[\"toyplot/canvas/id\"]);\n",
       "modules[\"toyplot.coordinates.Axis\"] = (\n",
       "        function(canvas)\n",
       "        {\n",
       "            function sign(x)\n",
       "            {\n",
       "                return x < 0 ? -1 : x > 0 ? 1 : 0;\n",
       "            }\n",
       "\n",
       "            function mix(a, b, amount)\n",
       "            {\n",
       "                return ((1.0 - amount) * a) + (amount * b);\n",
       "            }\n",
       "\n",
       "            function log(x, base)\n",
       "            {\n",
       "                return Math.log(Math.abs(x)) / Math.log(base);\n",
       "            }\n",
       "\n",
       "            function in_range(a, x, b)\n",
       "            {\n",
       "                var left = Math.min(a, b);\n",
       "                var right = Math.max(a, b);\n",
       "                return left <= x && x <= right;\n",
       "            }\n",
       "\n",
       "            function inside(range, projection)\n",
       "            {\n",
       "                for(var i = 0; i != projection.length; ++i)\n",
       "                {\n",
       "                    var segment = projection[i];\n",
       "                    if(in_range(segment.range.min, range, segment.range.max))\n",
       "                        return true;\n",
       "                }\n",
       "                return false;\n",
       "            }\n",
       "\n",
       "            function to_domain(range, projection)\n",
       "            {\n",
       "                for(var i = 0; i != projection.length; ++i)\n",
       "                {\n",
       "                    var segment = projection[i];\n",
       "                    if(in_range(segment.range.bounds.min, range, segment.range.bounds.max))\n",
       "                    {\n",
       "                        if(segment.scale == \"linear\")\n",
       "                        {\n",
       "                            var amount = (range - segment.range.min) / (segment.range.max - segment.range.min);\n",
       "                            return mix(segment.domain.min, segment.domain.max, amount)\n",
       "                        }\n",
       "                        else if(segment.scale[0] == \"log\")\n",
       "                        {\n",
       "                            var amount = (range - segment.range.min) / (segment.range.max - segment.range.min);\n",
       "                            var base = segment.scale[1];\n",
       "                            return sign(segment.domain.min) * Math.pow(base, mix(log(segment.domain.min, base), log(segment.domain.max, base), amount));\n",
       "                        }\n",
       "                    }\n",
       "                }\n",
       "            }\n",
       "\n",
       "            var axes = {};\n",
       "\n",
       "            function display_coordinates(e)\n",
       "            {\n",
       "                var current = canvas.createSVGPoint();\n",
       "                current.x = e.clientX;\n",
       "                current.y = e.clientY;\n",
       "\n",
       "                for(var axis_id in axes)\n",
       "                {\n",
       "                    var axis = document.querySelector(\"#\" + axis_id);\n",
       "                    var coordinates = axis.querySelector(\".toyplot-coordinates-Axis-coordinates\");\n",
       "                    if(coordinates)\n",
       "                    {\n",
       "                        var projection = axes[axis_id];\n",
       "                        var local = current.matrixTransform(axis.getScreenCTM().inverse());\n",
       "                        if(inside(local.x, projection))\n",
       "                        {\n",
       "                            var domain = to_domain(local.x, projection);\n",
       "                            coordinates.style.visibility = \"visible\";\n",
       "                            coordinates.setAttribute(\"transform\", \"translate(\" + local.x + \")\");\n",
       "                            var text = coordinates.querySelector(\"text\");\n",
       "                            text.textContent = domain.toFixed(2);\n",
       "                        }\n",
       "                        else\n",
       "                        {\n",
       "                            coordinates.style.visibility= \"hidden\";\n",
       "                        }\n",
       "                    }\n",
       "                }\n",
       "            }\n",
       "\n",
       "            canvas.addEventListener(\"click\", display_coordinates);\n",
       "\n",
       "            var module = {};\n",
       "            module.show_coordinates = function(axis_id, projection)\n",
       "            {\n",
       "                axes[axis_id] = projection;\n",
       "            }\n",
       "\n",
       "            return module;\n",
       "        })(modules[\"toyplot/canvas\"]);\n",
       "(function(axis, axis_id, projection)\n",
       "        {\n",
       "            axis.show_coordinates(axis_id, projection);\n",
       "        })(modules[\"toyplot.coordinates.Axis\"],\"tc401d36d765b4c4e8ea8cad2100c6847\",[{\"domain\": {\"bounds\": {\"max\": Infinity, \"min\": -Infinity}, \"max\": 834000.0010425, \"min\": -173376.00021672}, \"range\": {\"bounds\": {\"max\": Infinity, \"min\": -Infinity}, \"max\": 200.0, \"min\": 0.0}, \"scale\": \"linear\"}]);\n",
       "})();</script></div></div>"
      ]
     },
     "metadata": {},
     "output_type": "display_data"
    }
   ],
   "source": [
    "# set a terminal node to a zero length\n",
    "G3 = G.set_node_data(\"dist\", {0: 0., 1: 0.001, 7: G[7].dist + G[0].dist})\n",
    "G3.draw('p');"
   ]
  },
  {
   "cell_type": "code",
   "execution_count": 35,
   "id": "6d9750eb-94b5-4a97-92b9-c118e3f6dad0",
   "metadata": {},
   "outputs": [
    {
     "data": {
      "text/plain": [
       "153.07287179636208"
      ]
     },
     "execution_count": 35,
     "metadata": {},
     "output_type": "execute_result"
    }
   ],
   "source": [
    "ipcoal.msc.get_msc_loglik(S, G3, I)"
   ]
  },
  {
   "cell_type": "code",
   "execution_count": 23,
   "id": "2d36d1b3-3329-4a12-94c0-739ab8517039",
   "metadata": {},
   "outputs": [
    {
     "ename": "ValueError",
     "evalue": "gene tree cannot be embedded in species tree. Gene tree Node 7 not in Species Tree interval <Node(idx=5)>.",
     "output_type": "error",
     "traceback": [
      "\u001b[0;31m---------------------------------------------------------------------------\u001b[0m",
      "\u001b[0;31m_RemoteTraceback\u001b[0m                          Traceback (most recent call last)",
      "\u001b[0;31m_RemoteTraceback\u001b[0m: \n\"\"\"\nTraceback (most recent call last):\n  File \"/home/deren/Documents/ipcoal/ipcoal/msc/src/embedding.py\", line 89, in _get_fast_genealogy_embedding_table\n    edges.remove(child._idx)\nKeyError: 7\n\nThe above exception was the direct cause of the following exception:\n\nTraceback (most recent call last):\n  File \"/home/deren/miniconda3/envs/py310/lib/python3.10/concurrent/futures/process.py\", line 246, in _process_worker\n    r = call_item.fn(*call_item.args, **call_item.kwargs)\n  File \"/home/deren/Documents/ipcoal/ipcoal/msc/src/embedding.py\", line 266, in get_genealogy_embedding_arrays\n    garr, earr = _get_fast_genealogy_embedding_table(*args)\n  File \"/home/deren/Documents/ipcoal/ipcoal/msc/src/embedding.py\", line 91, in _get_fast_genealogy_embedding_table\n    raise ValueError(\nValueError: gene tree cannot be embedded in species tree. Gene tree Node 7 not in Species Tree interval <Node(idx=5)>.\n\"\"\"",
      "\nThe above exception was the direct cause of the following exception:\n",
      "\u001b[0;31mValueError\u001b[0m                                Traceback (most recent call last)",
      "Cell \u001b[0;32mIn[23], line 1\u001b[0m\n\u001b[0;32m----> 1\u001b[0m \u001b[43mipcoal\u001b[49m\u001b[38;5;241;43m.\u001b[39;49m\u001b[43msmc\u001b[49m\u001b[38;5;241;43m.\u001b[39;49m\u001b[43mget_ms_smc_loglik\u001b[49m\u001b[43m(\u001b[49m\u001b[43mS\u001b[49m\u001b[43m,\u001b[49m\u001b[43m \u001b[49m\u001b[43mG3\u001b[49m\u001b[43m,\u001b[49m\u001b[43m \u001b[49m\u001b[43mI\u001b[49m\u001b[43m,\u001b[49m\u001b[43m \u001b[49m\u001b[38;5;241;43m2e-8\u001b[39;49m\u001b[43m,\u001b[49m\u001b[43m \u001b[49m\u001b[43m[\u001b[49m\u001b[38;5;241;43m100\u001b[39;49m\u001b[43m]\u001b[49m\u001b[43m,\u001b[49m\u001b[43m \u001b[49m\u001b[43mevent_type\u001b[49m\u001b[38;5;241;43m=\u001b[39;49m\u001b[38;5;241;43m2\u001b[39;49m\u001b[43m)\u001b[49m\n",
      "File \u001b[0;32m~/Documents/ipcoal/ipcoal/smc/src/likelihood.py:320\u001b[0m, in \u001b[0;36mget_ms_smc_loglik\u001b[0;34m(species_tree, genealogies, imap, recombination_rate, lengths, event_type, idxs, normalize)\u001b[0m\n\u001b[1;32m    317\u001b[0m     \u001b[38;5;28;01massert\u001b[39;00m \u001b[38;5;28mlen\u001b[39m(lengths) \u001b[38;5;241m==\u001b[39m \u001b[38;5;28mlen\u001b[39m(genealogies), \u001b[38;5;124m\"\u001b[39m\u001b[38;5;124mN trees must match N waiting distances\u001b[39m\u001b[38;5;124m\"\u001b[39m\n\u001b[1;32m    319\u001b[0m \u001b[38;5;66;03m# get embedding and calculate likelihood\u001b[39;00m\n\u001b[0;32m--> 320\u001b[0m embedding \u001b[38;5;241m=\u001b[39m \u001b[43mTreeEmbedding\u001b[49m\u001b[43m(\u001b[49m\u001b[43mspecies_tree\u001b[49m\u001b[43m,\u001b[49m\u001b[43m \u001b[49m\u001b[43mgenealogies\u001b[49m\u001b[43m,\u001b[49m\u001b[43m \u001b[49m\u001b[43mimap\u001b[49m\u001b[43m)\u001b[49m\n\u001b[1;32m    321\u001b[0m \u001b[38;5;28;01mreturn\u001b[39;00m get_ms_smc_loglik_from_embedding(\n\u001b[1;32m    322\u001b[0m     embedding,\n\u001b[1;32m    323\u001b[0m     recombination_rate,\n\u001b[0;32m   (...)\u001b[0m\n\u001b[1;32m    327\u001b[0m     normalize,\n\u001b[1;32m    328\u001b[0m )\n",
      "File \u001b[0;32m~/Documents/ipcoal/ipcoal/smc/src/embedding.py:61\u001b[0m, in \u001b[0;36mTreeEmbedding.__init__\u001b[0;34m(self, species_tree, genealogies, imap, nproc)\u001b[0m\n\u001b[1;32m     59\u001b[0m \u001b[38;5;28mself\u001b[39m\u001b[38;5;241m.\u001b[39mrarr: np\u001b[38;5;241m.\u001b[39mndarray \u001b[38;5;241m=\u001b[39m \u001b[38;5;28;01mNone\u001b[39;00m\n\u001b[1;32m     60\u001b[0m \u001b[38;5;250m\u001b[39m\u001b[38;5;124;03m\"\"\": Node relationships array. (ntrees, nnodes, 3). uint8\"\"\"\u001b[39;00m\n\u001b[0;32m---> 61\u001b[0m \u001b[38;5;28;43mself\u001b[39;49m\u001b[38;5;241;43m.\u001b[39;49m\u001b[43mrun\u001b[49m\u001b[43m(\u001b[49m\u001b[43m)\u001b[49m\n",
      "File \u001b[0;32m~/Documents/ipcoal/ipcoal/smc/src/embedding.py:161\u001b[0m, in \u001b[0;36mTreeEmbedding.run\u001b[0;34m(self)\u001b[0m\n\u001b[1;32m    158\u001b[0m logger\u001b[38;5;241m.\u001b[39mdebug(\u001b[38;5;124m'\u001b[39m\u001b[38;5;124mparsing gtree inputs done\u001b[39m\u001b[38;5;124m'\u001b[39m)\n\u001b[1;32m    160\u001b[0m \u001b[38;5;66;03m# extract embeddings in parallel\u001b[39;00m\n\u001b[0;32m--> 161\u001b[0m \u001b[38;5;28mself\u001b[39m\u001b[38;5;241m.\u001b[39memb, \u001b[38;5;28mself\u001b[39m\u001b[38;5;241m.\u001b[39menc \u001b[38;5;241m=\u001b[39m \u001b[38;5;28;43mself\u001b[39;49m\u001b[38;5;241;43m.\u001b[39;49m\u001b[43m_get_embedding_table_parallel\u001b[49m\u001b[43m(\u001b[49m\u001b[43m)\u001b[49m\n\u001b[1;32m    162\u001b[0m logger\u001b[38;5;241m.\u001b[39mdebug(\u001b[38;5;124m'\u001b[39m\u001b[38;5;124mfilling embedding table done\u001b[39m\u001b[38;5;124m'\u001b[39m)\n\u001b[1;32m    164\u001b[0m \u001b[38;5;66;03m# get summed edge lengths\u001b[39;00m\n",
      "File \u001b[0;32m~/Documents/ipcoal/ipcoal/smc/src/embedding.py:121\u001b[0m, in \u001b[0;36mTreeEmbedding._get_embedding_table_parallel\u001b[0;34m(self, chunksize)\u001b[0m\n\u001b[1;32m    119\u001b[0m encs \u001b[38;5;241m=\u001b[39m []\n\u001b[1;32m    120\u001b[0m \u001b[38;5;28;01mfor\u001b[39;00m key \u001b[38;5;129;01min\u001b[39;00m \u001b[38;5;28msorted\u001b[39m(rasyncs):\n\u001b[0;32m--> 121\u001b[0m     emb, enc \u001b[38;5;241m=\u001b[39m \u001b[43mrasyncs\u001b[49m\u001b[43m[\u001b[49m\u001b[43mkey\u001b[49m\u001b[43m]\u001b[49m\u001b[38;5;241;43m.\u001b[39;49m\u001b[43mresult\u001b[49m\u001b[43m(\u001b[49m\u001b[43m)\u001b[49m\n\u001b[1;32m    122\u001b[0m     embs\u001b[38;5;241m.\u001b[39mappend(emb)\n\u001b[1;32m    123\u001b[0m     encs\u001b[38;5;241m.\u001b[39mappend(enc)\n",
      "File \u001b[0;32m~/miniconda3/envs/py310/lib/python3.10/concurrent/futures/_base.py:451\u001b[0m, in \u001b[0;36mFuture.result\u001b[0;34m(self, timeout)\u001b[0m\n\u001b[1;32m    449\u001b[0m     \u001b[38;5;28;01mraise\u001b[39;00m CancelledError()\n\u001b[1;32m    450\u001b[0m \u001b[38;5;28;01melif\u001b[39;00m \u001b[38;5;28mself\u001b[39m\u001b[38;5;241m.\u001b[39m_state \u001b[38;5;241m==\u001b[39m FINISHED:\n\u001b[0;32m--> 451\u001b[0m     \u001b[38;5;28;01mreturn\u001b[39;00m \u001b[38;5;28;43mself\u001b[39;49m\u001b[38;5;241;43m.\u001b[39;49m\u001b[43m__get_result\u001b[49m\u001b[43m(\u001b[49m\u001b[43m)\u001b[49m\n\u001b[1;32m    453\u001b[0m \u001b[38;5;28mself\u001b[39m\u001b[38;5;241m.\u001b[39m_condition\u001b[38;5;241m.\u001b[39mwait(timeout)\n\u001b[1;32m    455\u001b[0m \u001b[38;5;28;01mif\u001b[39;00m \u001b[38;5;28mself\u001b[39m\u001b[38;5;241m.\u001b[39m_state \u001b[38;5;129;01min\u001b[39;00m [CANCELLED, CANCELLED_AND_NOTIFIED]:\n",
      "File \u001b[0;32m~/miniconda3/envs/py310/lib/python3.10/concurrent/futures/_base.py:403\u001b[0m, in \u001b[0;36mFuture.__get_result\u001b[0;34m(self)\u001b[0m\n\u001b[1;32m    401\u001b[0m \u001b[38;5;28;01mif\u001b[39;00m \u001b[38;5;28mself\u001b[39m\u001b[38;5;241m.\u001b[39m_exception:\n\u001b[1;32m    402\u001b[0m     \u001b[38;5;28;01mtry\u001b[39;00m:\n\u001b[0;32m--> 403\u001b[0m         \u001b[38;5;28;01mraise\u001b[39;00m \u001b[38;5;28mself\u001b[39m\u001b[38;5;241m.\u001b[39m_exception\n\u001b[1;32m    404\u001b[0m     \u001b[38;5;28;01mfinally\u001b[39;00m:\n\u001b[1;32m    405\u001b[0m         \u001b[38;5;66;03m# Break a reference cycle with the exception in self._exception\u001b[39;00m\n\u001b[1;32m    406\u001b[0m         \u001b[38;5;28mself\u001b[39m \u001b[38;5;241m=\u001b[39m \u001b[38;5;28;01mNone\u001b[39;00m\n",
      "\u001b[0;31mValueError\u001b[0m: gene tree cannot be embedded in species tree. Gene tree Node 7 not in Species Tree interval <Node(idx=5)>."
     ]
    }
   ],
   "source": [
    "ipcoal.smc.get_ms_smc_loglik(S, G3, I, 2e-8, [100], event_type=2)"
   ]
  },
  {
   "cell_type": "code",
   "execution_count": 50,
   "id": "20590164-78ac-4cfd-a275-8d83ddf55869",
   "metadata": {},
   "outputs": [
    {
     "data": {
      "text/html": [
       "<div class=\"toyplot\" id=\"t0ab478565e3a4e3c9d06af9454ab8481\" style=\"text-align:center\"><svg class=\"toyplot-canvas-Canvas\" xmlns:toyplot=\"http://www.sandia.gov/toyplot\" xmlns:xlink=\"http://www.w3.org/1999/xlink\" xmlns=\"http://www.w3.org/2000/svg\" width=\"300.0px\" height=\"275.0px\" viewBox=\"0 0 300.0 275.0\" preserveAspectRatio=\"xMidYMid meet\" style=\"background-color:transparent;border-color:#292724;border-style:none;border-width:1.0;fill:rgb(16.1%,15.3%,14.1%);fill-opacity:1.0;font-family:Helvetica;font-size:12px;opacity:1.0;stroke:rgb(16.1%,15.3%,14.1%);stroke-opacity:1.0;stroke-width:1.0\" id=\"t3b555814d18d47889c0361ba311c33d5\"><g class=\"toyplot-coordinates-Cartesian\" id=\"te33e4e99c58b4811a5cd2d410e9babbc\"><clipPath id=\"tc4b21a10909b4e1caa7bca387ea0c5fb\"><rect x=\"35.0\" y=\"35.0\" width=\"230.0\" height=\"205.0\"></rect></clipPath><g clip-path=\"url(#tc4b21a10909b4e1caa7bca387ea0c5fb)\"><g class=\"toytree-mark-Toytree\" id=\"t7b91eb5b84774951a3a864bfa1c351c5\"><g class=\"toytree-Edges\" style=\"stroke:rgb(14.5%,14.5%,14.5%);stroke-opacity:1.0;stroke-linecap:round;stroke-width:2.0;fill:none\"><path d=\"M 194.1 204.9 L 194.1 218.3 L 214.5 218.3\" id=\"7,0\" style=\"\"></path><path d=\"M 194.1 204.9 L 194.1 191.4 L 214.5 191.4\" id=\"7,1\" style=\"\"></path><path d=\"M 122.4 144.2 L 122.4 164.4 L 214.5 164.4\" id=\"9,2\" style=\"\"></path><path d=\"M 122.4 124.0 L 122.4 137.5 L 214.5 137.5\" id=\"8,3\" style=\"\"></path><path d=\"M 122.4 124.0 L 122.4 110.6 L 214.5 110.6\" id=\"8,4\" style=\"\"></path><path d=\"M 81.5 70.1 L 81.5 83.6 L 214.5 83.6\" id=\"11,5\" style=\"\"></path><path d=\"M 81.5 70.1 L 81.5 56.7 L 214.5 56.7\" id=\"11,6\" style=\"\"></path><path d=\"M 122.4 174.6 L 122.4 204.9 L 194.1 204.9\" id=\"10,7\" style=\"\"></path><path d=\"M 122.4 144.2 L 122.4 124.0 L 122.4 124.0\" id=\"9,8\" style=\"\"></path><path d=\"M 122.4 174.6 L 122.4 144.2 L 122.4 144.2\" id=\"10,9\" style=\"\"></path><path d=\"M 50.8 122.3 L 50.8 174.6 L 122.4 174.6\" id=\"12,10\" style=\"\"></path><path d=\"M 50.8 122.3 L 50.8 70.1 L 81.5 70.1\" id=\"12,11\" style=\"\"></path></g><g class=\"toytree-AdmixEdges\" style=\"fill:rgb(0.0%,0.0%,0.0%);fill-opacity:0.0;stroke:rgb(90.6%,54.1%,76.5%);stroke-opacity:0.6;font-size:14px;stroke-linecap:round;stroke-width:5\"></g><g class=\"toytree-Nodes\" style=\"fill:rgb(40.0%,76.1%,64.7%);fill-opacity:1.0;stroke:rgb(14.9%,14.9%,14.9%);stroke-opacity:1.0;stroke-width:1.5\"></g><g class=\"toytree-TipLabels\" style=\"fill:rgb(14.5%,14.5%,14.5%);fill-opacity:1.0;font-family:Helvetica;font-size:12px;font-weight:300;vertical-align:baseline;white-space:pre;stroke:none\"><g class=\"toytree-TipLabel\" transform=\"translate(214.522,218.347)\"><text x=\"15.0\" y=\"3.066\" style=\"fill:rgb(14.5%,14.5%,14.5%);fill-opacity:1.0\">0</text></g><g class=\"toytree-TipLabel\" transform=\"translate(214.522,191.398)\"><text x=\"15.0\" y=\"3.066\" style=\"fill:rgb(14.5%,14.5%,14.5%);fill-opacity:1.0\">1</text></g><g class=\"toytree-TipLabel\" transform=\"translate(214.522,164.449)\"><text x=\"15.0\" y=\"3.066\" style=\"fill:rgb(14.5%,14.5%,14.5%);fill-opacity:1.0\">2</text></g><g class=\"toytree-TipLabel\" transform=\"translate(214.522,137.5)\"><text x=\"15.0\" y=\"3.066\" style=\"fill:rgb(14.5%,14.5%,14.5%);fill-opacity:1.0\">3</text></g><g class=\"toytree-TipLabel\" transform=\"translate(214.522,110.551)\"><text x=\"15.0\" y=\"3.066\" style=\"fill:rgb(14.5%,14.5%,14.5%);fill-opacity:1.0\">4</text></g><g class=\"toytree-TipLabel\" transform=\"translate(214.522,83.6017)\"><text x=\"15.0\" y=\"3.066\" style=\"fill:rgb(14.5%,14.5%,14.5%);fill-opacity:1.0\">5</text></g><g class=\"toytree-TipLabel\" transform=\"translate(214.522,56.6526)\"><text x=\"15.0\" y=\"3.066\" style=\"fill:rgb(14.5%,14.5%,14.5%);fill-opacity:1.0\">6</text></g></g></g></g></g></svg><div class=\"toyplot-behavior\"><script>(function()\n",
       "{\n",
       "var modules={};\n",
       "})();</script></div></div>"
      ]
     },
     "metadata": {},
     "output_type": "display_data"
    }
   ],
   "source": [
    "# set internal node to a zero length\n",
    "G4 = G.set_node_data(\"dist\", {9: 0.0, 8: 0.0}).mod.edges_extend_tips_to_align()\n",
    "G4.draw();"
   ]
  },
  {
   "cell_type": "code",
   "execution_count": 51,
   "id": "213bc7d2-cd54-45ac-8f36-11592fbb30ed",
   "metadata": {},
   "outputs": [
    {
     "data": {
      "text/plain": [
       "86.98643587318105"
      ]
     },
     "execution_count": 51,
     "metadata": {},
     "output_type": "execute_result"
    }
   ],
   "source": [
    "ipcoal.msc.get_msc_loglik(S, G4, I)"
   ]
  },
  {
   "cell_type": "code",
   "execution_count": 52,
   "id": "c3ab253d-cd6c-4994-96c4-d475b36caa7e",
   "metadata": {},
   "outputs": [
    {
     "data": {
      "text/plain": [
       "6.509576883630381"
      ]
     },
     "execution_count": 52,
     "metadata": {},
     "output_type": "execute_result"
    }
   ],
   "source": [
    "ipcoal.smc.get_ms_smc_loglik(S, G4, I, 2e-8, [100], event_type=2)"
   ]
  },
  {
   "cell_type": "markdown",
   "id": "2bc8ad2c-4e82-4b81-b536-6cc500e69ff6",
   "metadata": {},
   "source": [
    "### Root zero-length edges"
   ]
  },
  {
   "cell_type": "code",
   "execution_count": 53,
   "id": "3f5616c1-94ce-4b20-a2e4-3447baaeae2d",
   "metadata": {},
   "outputs": [
    {
     "data": {
      "text/html": [
       "<div class=\"toyplot\" id=\"teeab0f5dfe054318aac7331580ad2cf1\" style=\"text-align:center\"><svg class=\"toyplot-canvas-Canvas\" xmlns:toyplot=\"http://www.sandia.gov/toyplot\" xmlns:xlink=\"http://www.w3.org/1999/xlink\" xmlns=\"http://www.w3.org/2000/svg\" width=\"300.0px\" height=\"275.0px\" viewBox=\"0 0 300.0 275.0\" preserveAspectRatio=\"xMidYMid meet\" style=\"background-color:transparent;border-color:#292724;border-style:none;border-width:1.0;fill:rgb(16.1%,15.3%,14.1%);fill-opacity:1.0;font-family:Helvetica;font-size:12px;opacity:1.0;stroke:rgb(16.1%,15.3%,14.1%);stroke-opacity:1.0;stroke-width:1.0\" id=\"tfe93cd52023946eba4b2cc81eca95fbb\"><g class=\"toyplot-coordinates-Cartesian\" id=\"t19e3cf5a78094513961a24f8da613681\"><clipPath id=\"tde1b26c21627466bb009a71547242b16\"><rect x=\"35.0\" y=\"35.0\" width=\"230.0\" height=\"205.0\"></rect></clipPath><g clip-path=\"url(#tde1b26c21627466bb009a71547242b16)\"><g class=\"toytree-mark-Toytree\" id=\"t216599811c1c4c6baaec75d8081e0d46\"><g class=\"toytree-Edges\" style=\"stroke:rgb(14.5%,14.5%,14.5%);stroke-opacity:1.0;stroke-linecap:round;stroke-width:2.0;fill:none\"><path d=\"M 122.4 204.9 L 122.4 218.3 L 214.5 218.3\" id=\"7,0\" style=\"\"></path><path d=\"M 122.4 204.9 L 122.4 191.4 L 214.5 191.4\" id=\"7,1\" style=\"\"></path><path d=\"M 50.8 144.2 L 50.8 164.4 L 214.5 164.4\" id=\"9,2\" style=\"\"></path><path d=\"M 50.8 124.0 L 50.8 137.5 L 214.5 137.5\" id=\"8,3\" style=\"\"></path><path d=\"M 50.8 124.0 L 50.8 110.6 L 214.5 110.6\" id=\"8,4\" style=\"\"></path><path d=\"M 81.5 70.1 L 81.5 83.6 L 214.5 83.6\" id=\"11,5\" style=\"\"></path><path d=\"M 81.5 70.1 L 81.5 56.7 L 214.5 56.7\" id=\"11,6\" style=\"\"></path><path d=\"M 50.8 174.6 L 50.8 204.9 L 122.4 204.9\" id=\"10,7\" style=\"\"></path><path d=\"M 50.8 144.2 L 50.8 124.0 L 50.8 124.0\" id=\"9,8\" style=\"\"></path><path d=\"M 50.8 174.6 L 50.8 144.2 L 50.8 144.2\" id=\"10,9\" style=\"\"></path><path d=\"M 50.8 122.3 L 50.8 174.6 L 50.8 174.6\" id=\"12,10\" style=\"\"></path><path d=\"M 50.8 122.3 L 50.8 70.1 L 81.5 70.1\" id=\"12,11\" style=\"\"></path></g><g class=\"toytree-AdmixEdges\" style=\"fill:rgb(0.0%,0.0%,0.0%);fill-opacity:0.0;stroke:rgb(90.6%,54.1%,76.5%);stroke-opacity:0.6;font-size:14px;stroke-linecap:round;stroke-width:5\"></g><g class=\"toytree-Nodes\" style=\"fill:rgb(40.0%,76.1%,64.7%);fill-opacity:1.0;stroke:rgb(14.9%,14.9%,14.9%);stroke-opacity:1.0;stroke-width:1.5\"></g><g class=\"toytree-TipLabels\" style=\"fill:rgb(14.5%,14.5%,14.5%);fill-opacity:1.0;font-family:Helvetica;font-size:12px;font-weight:300;vertical-align:baseline;white-space:pre;stroke:none\"><g class=\"toytree-TipLabel\" transform=\"translate(214.522,218.347)\"><text x=\"15.0\" y=\"3.066\" style=\"fill:rgb(14.5%,14.5%,14.5%);fill-opacity:1.0\">0</text></g><g class=\"toytree-TipLabel\" transform=\"translate(214.522,191.398)\"><text x=\"15.0\" y=\"3.066\" style=\"fill:rgb(14.5%,14.5%,14.5%);fill-opacity:1.0\">1</text></g><g class=\"toytree-TipLabel\" transform=\"translate(214.522,164.449)\"><text x=\"15.0\" y=\"3.066\" style=\"fill:rgb(14.5%,14.5%,14.5%);fill-opacity:1.0\">2</text></g><g class=\"toytree-TipLabel\" transform=\"translate(214.522,137.5)\"><text x=\"15.0\" y=\"3.066\" style=\"fill:rgb(14.5%,14.5%,14.5%);fill-opacity:1.0\">3</text></g><g class=\"toytree-TipLabel\" transform=\"translate(214.522,110.551)\"><text x=\"15.0\" y=\"3.066\" style=\"fill:rgb(14.5%,14.5%,14.5%);fill-opacity:1.0\">4</text></g><g class=\"toytree-TipLabel\" transform=\"translate(214.522,83.6017)\"><text x=\"15.0\" y=\"3.066\" style=\"fill:rgb(14.5%,14.5%,14.5%);fill-opacity:1.0\">5</text></g><g class=\"toytree-TipLabel\" transform=\"translate(214.522,56.6526)\"><text x=\"15.0\" y=\"3.066\" style=\"fill:rgb(14.5%,14.5%,14.5%);fill-opacity:1.0\">6</text></g></g></g></g></g></svg><div class=\"toyplot-behavior\"><script>(function()\n",
       "{\n",
       "var modules={};\n",
       "})();</script></div></div>"
      ]
     },
     "metadata": {},
     "output_type": "display_data"
    }
   ],
   "source": [
    "# set internal node to a zero length\n",
    "G5 = G.set_node_data(\"dist\", {10: 0, 9: 0.0, 8: 0.0}).mod.edges_extend_tips_to_align()\n",
    "G5.draw();"
   ]
  },
  {
   "cell_type": "code",
   "execution_count": 55,
   "id": "925ce08c-a9dc-46e1-9c1e-63a453341a6d",
   "metadata": {},
   "outputs": [
    {
     "data": {
      "text/plain": [
       "109.73643587318104"
      ]
     },
     "execution_count": 55,
     "metadata": {},
     "output_type": "execute_result"
    }
   ],
   "source": [
    "ipcoal.msc.get_msc_loglik(S, G5, I)"
   ]
  },
  {
   "cell_type": "code",
   "execution_count": 56,
   "id": "74031f4a-429b-4147-b155-af1f205a6ad9",
   "metadata": {},
   "outputs": [
    {
     "data": {
      "text/plain": [
       "8.608752375592267"
      ]
     },
     "execution_count": 56,
     "metadata": {},
     "output_type": "execute_result"
    }
   ],
   "source": [
    "ipcoal.smc.get_ms_smc_loglik(S, G5, I, 2e-8, [100], event_type=2)"
   ]
  }
 ],
 "metadata": {
  "kernelspec": {
   "display_name": "Python 3 (ipykernel)",
   "language": "python",
   "name": "python3"
  },
  "language_info": {
   "codemirror_mode": {
    "name": "ipython",
    "version": 3
   },
   "file_extension": ".py",
   "mimetype": "text/x-python",
   "name": "python",
   "nbconvert_exporter": "python",
   "pygments_lexer": "ipython3",
   "version": "3.10.12"
  }
 },
 "nbformat": 4,
 "nbformat_minor": 5
}
