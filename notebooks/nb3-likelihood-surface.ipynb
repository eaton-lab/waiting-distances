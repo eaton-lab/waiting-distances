{
 "cells": [
  {
   "cell_type": "markdown",
   "id": "bb9b5769",
   "metadata": {},
   "source": [
    "# Visualize the MS-SMC' likelihood surface"
   ]
  },
  {
   "cell_type": "code",
   "execution_count": 1,
   "id": "218397e3",
   "metadata": {},
   "outputs": [],
   "source": [
    "import toytree\n",
    "import ipcoal\n",
    "from scipy import stats\n",
    "import pandas as pd\n",
    "import numpy as np\n",
    "import matplotlib.pyplot as plt"
   ]
  },
  {
   "cell_type": "markdown",
   "id": "2bbf4f0c",
   "metadata": {},
   "source": [
    "## Parameters"
   ]
  },
  {
   "cell_type": "code",
   "execution_count": 2,
   "id": "536c90ec",
   "metadata": {},
   "outputs": [],
   "source": [
    "RECOMB = 2e-9\n",
    "SEED = 12345\n",
    "NEFF = 200_000\n",
    "ROOT_HEIGHT = 1e6\n",
    "NSPECIES = 2\n",
    "NSAMPLES = 4\n",
    "NSITES = 1e5\n",
    "NLOCI = 100"
   ]
  },
  {
   "cell_type": "markdown",
   "id": "85523978",
   "metadata": {},
   "source": [
    "## Simulate ARGs on a 2-population model"
   ]
  },
  {
   "cell_type": "code",
   "execution_count": 3,
   "id": "e984a942",
   "metadata": {},
   "outputs": [
    {
     "data": {
      "text/html": [
       "<div class=\"toyplot\" id=\"ta618b271f9dc4df39522864205d1d041\" style=\"text-align:center\"><svg class=\"toyplot-canvas-Canvas\" xmlns:toyplot=\"http://www.sandia.gov/toyplot\" xmlns:xlink=\"http://www.w3.org/1999/xlink\" xmlns=\"http://www.w3.org/2000/svg\" width=\"300.0px\" height=\"300.0px\" viewBox=\"0 0 300.0 300.0\" preserveAspectRatio=\"xMidYMid meet\" style=\"background-color:transparent;border-color:#292724;border-style:none;border-width:1.0;fill:rgb(16.1%,15.3%,14.1%);fill-opacity:1.0;font-family:Helvetica;font-size:12px;opacity:1.0;stroke:rgb(16.1%,15.3%,14.1%);stroke-opacity:1.0;stroke-width:1.0\" id=\"t36fcee8764784c528b1dfdf6158e158b\"><g class=\"toyplot-coordinates-Cartesian\" id=\"t3bb5430d83d1461fac54aec34331bc06\"><clipPath id=\"ta17b724661264218a284e08a995b18ac\"><rect x=\"35.0\" y=\"35.0\" width=\"230.0\" height=\"230.0\"></rect></clipPath><g clip-path=\"url(#ta17b724661264218a284e08a995b18ac)\"><g class=\"toytree-mark-Toytree\" id=\"t1da3500626624454a99cd186c7188cba\"><g class=\"toytree-Edges\" style=\"stroke:rgb(14.5%,14.5%,14.5%);stroke-opacity:1.0;stroke-linecap:round;stroke-width:2;fill:none\"><path d=\"M 150.0 54.0 L 56.7 213.8\" id=\"2,0\" style=\"\"></path><path d=\"M 150.0 54.0 L 243.3 213.8\" id=\"2,1\" style=\"\"></path></g><g class=\"toytree-AdmixEdges\" style=\"fill:rgb(0.0%,0.0%,0.0%);fill-opacity:0.0;stroke:rgb(90.6%,54.1%,76.5%);stroke-opacity:0.6;font-size:14px;stroke-linecap:round;stroke-width:5\"></g><g class=\"toytree-Nodes\" style=\"fill:rgb(40.0%,76.1%,64.7%);fill-opacity:1.0;stroke:rgb(14.5%,14.5%,14.5%);stroke-opacity:1.0;stroke-width:1.5\"><g id=\"Node-0\" transform=\"translate(56.7164,213.78)\"><circle r=\"3.5\"></circle></g><g id=\"Node-1\" transform=\"translate(243.284,213.78)\"><circle r=\"3.5\"></circle></g><g id=\"Node-2\" transform=\"translate(150,53.9946)\"><circle r=\"3.5\"></circle></g></g><g class=\"toytree-TipLabels\" style=\"fill:rgb(14.5%,14.5%,14.5%);fill-opacity:1.0;font-family:Helvetica;font-size:12px;font-weight:300;vertical-align:baseline;white-space:pre;stroke:none\"><g class=\"toytree-TipLabel\" transform=\"translate(56.7164,213.78)rotate(90)\"><text x=\"12.0\" y=\"3.066\" style=\"fill:rgb(14.5%,14.5%,14.5%);fill-opacity:1.0\">r0</text></g><g class=\"toytree-TipLabel\" transform=\"translate(243.284,213.78)rotate(90)\"><text x=\"12.0\" y=\"3.066\" style=\"fill:rgb(14.5%,14.5%,14.5%);fill-opacity:1.0\">r1</text></g></g></g></g><g class=\"toyplot-coordinates-Axis\" id=\"tb08dbcacf9a7412bba088452595061bc\" transform=\"translate(50.0,250.0)rotate(-90.0)translate(0,-15.0)\"><line x1=\"36.22012015850698\" y1=\"0\" x2=\"196.00536878435383\" y2=\"0\" style=\"\"></line><g><line x1=\"36.22012015850698\" y1=\"0\" x2=\"36.22012015850698\" y2=\"5\" style=\"\"></line><line x1=\"116.1127444714304\" y1=\"0\" x2=\"116.1127444714304\" y2=\"5\" style=\"\"></line><line x1=\"196.00536878435383\" y1=\"0\" x2=\"196.00536878435383\" y2=\"5\" style=\"\"></line></g><g><g transform=\"translate(36.22012015850698,-6)\"><text x=\"-2.78\" y=\"-4.440892098500626e-16\" style=\"fill:rgb(16.1%,15.3%,14.1%);fill-opacity:1.0;font-family:helvetica;font-size:10.0px;font-weight:normal;stroke:none;vertical-align:baseline;white-space:pre\">0</text></g><g transform=\"translate(116.1127444714304,-6)\"><text x=\"-16.68\" y=\"-4.440892098500626e-16\" style=\"fill:rgb(16.1%,15.3%,14.1%);fill-opacity:1.0;font-family:helvetica;font-size:10.0px;font-weight:normal;stroke:none;vertical-align:baseline;white-space:pre\">500000</text></g><g transform=\"translate(196.00536878435383,-6)\"><text x=\"-19.459999999999997\" y=\"-4.440892098500626e-16\" style=\"fill:rgb(16.1%,15.3%,14.1%);fill-opacity:1.0;font-family:helvetica;font-size:10.0px;font-weight:normal;stroke:none;vertical-align:baseline;white-space:pre\">1000000</text></g></g><g class=\"toyplot-coordinates-Axis-coordinates\" style=\"visibility:hidden\" transform=\"\"><line x1=\"0\" x2=\"0\" y1=\"3.0\" y2=\"-4.5\" style=\"stroke:rgb(43.9%,50.2%,56.5%);stroke-opacity:1.0;stroke-width:1.0\"></line><text x=\"0\" y=\"6\" style=\"alignment-baseline:hanging;fill:rgb(43.9%,50.2%,56.5%);fill-opacity:1.0;font-size:10px;font-weight:normal;stroke:none;text-anchor:middle\"></text></g></g></g></svg><div class=\"toyplot-behavior\"><script>(function()\n",
       "{\n",
       "var modules={};\n",
       "modules[\"toyplot/canvas/id\"] = \"t36fcee8764784c528b1dfdf6158e158b\";\n",
       "modules[\"toyplot/canvas\"] = (function(canvas_id)\n",
       "    {\n",
       "        return document.querySelector(\"#\" + canvas_id);\n",
       "    })(modules[\"toyplot/canvas/id\"]);\n",
       "modules[\"toyplot.coordinates.Axis\"] = (\n",
       "        function(canvas)\n",
       "        {\n",
       "            function sign(x)\n",
       "            {\n",
       "                return x < 0 ? -1 : x > 0 ? 1 : 0;\n",
       "            }\n",
       "\n",
       "            function mix(a, b, amount)\n",
       "            {\n",
       "                return ((1.0 - amount) * a) + (amount * b);\n",
       "            }\n",
       "\n",
       "            function log(x, base)\n",
       "            {\n",
       "                return Math.log(Math.abs(x)) / Math.log(base);\n",
       "            }\n",
       "\n",
       "            function in_range(a, x, b)\n",
       "            {\n",
       "                var left = Math.min(a, b);\n",
       "                var right = Math.max(a, b);\n",
       "                return left <= x && x <= right;\n",
       "            }\n",
       "\n",
       "            function inside(range, projection)\n",
       "            {\n",
       "                for(var i = 0; i != projection.length; ++i)\n",
       "                {\n",
       "                    var segment = projection[i];\n",
       "                    if(in_range(segment.range.min, range, segment.range.max))\n",
       "                        return true;\n",
       "                }\n",
       "                return false;\n",
       "            }\n",
       "\n",
       "            function to_domain(range, projection)\n",
       "            {\n",
       "                for(var i = 0; i != projection.length; ++i)\n",
       "                {\n",
       "                    var segment = projection[i];\n",
       "                    if(in_range(segment.range.bounds.min, range, segment.range.bounds.max))\n",
       "                    {\n",
       "                        if(segment.scale == \"linear\")\n",
       "                        {\n",
       "                            var amount = (range - segment.range.min) / (segment.range.max - segment.range.min);\n",
       "                            return mix(segment.domain.min, segment.domain.max, amount)\n",
       "                        }\n",
       "                        else if(segment.scale[0] == \"log\")\n",
       "                        {\n",
       "                            var amount = (range - segment.range.min) / (segment.range.max - segment.range.min);\n",
       "                            var base = segment.scale[1];\n",
       "                            return sign(segment.domain.min) * Math.pow(base, mix(log(segment.domain.min, base), log(segment.domain.max, base), amount));\n",
       "                        }\n",
       "                    }\n",
       "                }\n",
       "            }\n",
       "\n",
       "            var axes = {};\n",
       "\n",
       "            function display_coordinates(e)\n",
       "            {\n",
       "                var current = canvas.createSVGPoint();\n",
       "                current.x = e.clientX;\n",
       "                current.y = e.clientY;\n",
       "\n",
       "                for(var axis_id in axes)\n",
       "                {\n",
       "                    var axis = document.querySelector(\"#\" + axis_id);\n",
       "                    var coordinates = axis.querySelector(\".toyplot-coordinates-Axis-coordinates\");\n",
       "                    if(coordinates)\n",
       "                    {\n",
       "                        var projection = axes[axis_id];\n",
       "                        var local = current.matrixTransform(axis.getScreenCTM().inverse());\n",
       "                        if(inside(local.x, projection))\n",
       "                        {\n",
       "                            var domain = to_domain(local.x, projection);\n",
       "                            coordinates.style.visibility = \"visible\";\n",
       "                            coordinates.setAttribute(\"transform\", \"translate(\" + local.x + \")\");\n",
       "                            var text = coordinates.querySelector(\"text\");\n",
       "                            text.textContent = domain.toFixed(2);\n",
       "                        }\n",
       "                        else\n",
       "                        {\n",
       "                            coordinates.style.visibility= \"hidden\";\n",
       "                        }\n",
       "                    }\n",
       "                }\n",
       "            }\n",
       "\n",
       "            canvas.addEventListener(\"click\", display_coordinates);\n",
       "\n",
       "            var module = {};\n",
       "            module.show_coordinates = function(axis_id, projection)\n",
       "            {\n",
       "                axes[axis_id] = projection;\n",
       "            }\n",
       "\n",
       "            return module;\n",
       "        })(modules[\"toyplot/canvas\"]);\n",
       "(function(axis, axis_id, projection)\n",
       "        {\n",
       "            axis.show_coordinates(axis_id, projection);\n",
       "        })(modules[\"toyplot.coordinates.Axis\"],\"tb08dbcacf9a7412bba088452595061bc\",[{\"domain\": {\"bounds\": {\"max\": Infinity, \"min\": -Infinity}, \"max\": 1024999.9999999999, \"min\": -226680.0000000001}, \"range\": {\"bounds\": {\"max\": Infinity, \"min\": -Infinity}, \"max\": 200.0, \"min\": 0.0}, \"scale\": \"linear\"}]);\n",
       "})();</script></div></div>"
      ]
     },
     "metadata": {},
     "output_type": "display_data"
    }
   ],
   "source": [
    "sptree = toytree.rtree.baltree(NSPECIES).mod.edges_scale_to_root_height(ROOT_HEIGHT, include_stem=True)\n",
    "sptree.draw(ts='c');"
   ]
  },
  {
   "cell_type": "code",
   "execution_count": 4,
   "id": "42fd1942",
   "metadata": {},
   "outputs": [],
   "source": [
    "model = ipcoal.Model(sptree, Ne=NEFF, nsamples=NSAMPLES, recomb=RECOMB, seed_trees=SEED)"
   ]
  },
  {
   "cell_type": "code",
   "execution_count": 5,
   "id": "e01997ca",
   "metadata": {},
   "outputs": [],
   "source": [
    "model.sim_trees(NLOCI, NSITES)"
   ]
  },
  {
   "cell_type": "code",
   "execution_count": 6,
   "id": "bfefd1f3",
   "metadata": {},
   "outputs": [],
   "source": [
    "imap = model.get_imap_dict()"
   ]
  },
  {
   "cell_type": "markdown",
   "id": "7371e1e2",
   "metadata": {},
   "source": [
    "### Get genealogies at tree-change and topology-change events"
   ]
  },
  {
   "cell_type": "code",
   "execution_count": 7,
   "id": "923e1282",
   "metadata": {},
   "outputs": [
    {
     "name": "stdout",
     "output_type": "stream",
     "text": [
      "59117 genealogies w/ average length=169\n"
     ]
    }
   ],
   "source": [
    "# genealogy tree change interval lengths\n",
    "tree_lengths = model.df.nbps.values\n",
    "\n",
    "# N and avg tree change length\n",
    "print(f\"{len(tree_lengths)} genealogies w/ average length={np.mean(tree_lengths):.0f}\")"
   ]
  },
  {
   "cell_type": "code",
   "execution_count": 13,
   "id": "7b3e1bcb",
   "metadata": {},
   "outputs": [
    {
     "data": {
      "text/html": [
       "<div class=\"toyplot\" id=\"t61dc7cd0dfd6434faa0a9e673d553c15\" style=\"text-align:center\"><svg class=\"toyplot-canvas-Canvas\" xmlns:toyplot=\"http://www.sandia.gov/toyplot\" xmlns:xlink=\"http://www.w3.org/1999/xlink\" xmlns=\"http://www.w3.org/2000/svg\" width=\"750.0px\" height=\"250.0px\" viewBox=\"0 0 750.0 250.0\" preserveAspectRatio=\"xMidYMid meet\" style=\"background-color:transparent;border-color:#292724;border-style:none;border-width:1.0;fill:rgb(16.1%,15.3%,14.1%);fill-opacity:1.0;font-family:Helvetica;font-size:12px;opacity:1.0;stroke:rgb(16.1%,15.3%,14.1%);stroke-opacity:1.0;stroke-width:1.0\" id=\"tc9dcdc283c1545bfab3572237d06d933\"><g class=\"toyplot-coordinates-Cartesian\" id=\"t3d7a5dfde97f47c79ff3651d8ed42123\"><clipPath id=\"t08e054fd24444f078889a83e65199c95\"><rect x=\"20.0\" y=\"40.0\" width=\"167.5\" height=\"170.0\"></rect></clipPath><g clip-path=\"url(#t08e054fd24444f078889a83e65199c95)\"><g class=\"toytree-mark-Toytree\" id=\"t9b01ea39dabe40e8ba5f017bf91c842e\"><g class=\"toytree-Edges\" style=\"stroke:rgb(14.5%,14.5%,14.5%);stroke-opacity:1.0;stroke-linecap:round;stroke-width:2.0;fill:none\"><path d=\"M 134.6 184.5 L 134.6 194.4 L 135.0 194.4\" id=\"8,0\" style=\"\"></path><path d=\"M 134.6 184.5 L 134.6 174.6 L 135.0 174.6\" id=\"8,1\" style=\"\"></path><path d=\"M 128.7 144.8 L 128.7 154.8 L 135.0 154.8\" id=\"9,2\" style=\"\"></path><path d=\"M 128.7 144.8 L 128.7 134.9 L 135.0 134.9\" id=\"9,3\" style=\"\"></path><path d=\"M 120.2 97.7 L 120.2 115.1 L 135.0 115.1\" id=\"13,4\" style=\"\"></path><path d=\"M 120.3 80.4 L 120.3 95.2 L 135.0 95.2\" id=\"12,5\" style=\"\"></path><path d=\"M 131.2 65.5 L 131.2 75.4 L 135.0 75.4\" id=\"11,6\" style=\"\"></path><path d=\"M 131.2 65.5 L 131.2 55.6 L 135.0 55.6\" id=\"11,7\" style=\"\"></path><path d=\"M 121.3 164.7 L 121.3 184.5 L 134.6 184.5\" id=\"10,8\" style=\"\"></path><path d=\"M 121.3 164.7 L 121.3 144.8 L 128.7 144.8\" id=\"10,9\" style=\"\"></path><path d=\"M 30.7 131.2 L 30.7 164.7 L 121.3 164.7\" id=\"14,10\" style=\"\"></path><path d=\"M 120.3 80.4 L 120.3 65.5 L 131.2 65.5\" id=\"12,11\" style=\"\"></path><path d=\"M 120.2 97.7 L 120.2 80.4 L 120.3 80.4\" id=\"13,12\" style=\"\"></path><path d=\"M 30.7 131.2 L 30.7 97.7 L 120.2 97.7\" id=\"14,13\" style=\"\"></path></g><g class=\"toytree-AdmixEdges\" style=\"fill:rgb(0.0%,0.0%,0.0%);fill-opacity:0.0;stroke:rgb(90.6%,54.1%,76.5%);stroke-opacity:0.6;font-size:14px;stroke-linecap:round;stroke-width:5\"></g><g class=\"toytree-Nodes\" style=\"fill:rgb(40.0%,76.1%,64.7%);fill-opacity:1.0;stroke:rgb(14.9%,14.9%,14.9%);stroke-opacity:1.0;stroke-width:1.5\"></g><g class=\"toytree-TipLabels\" style=\"fill:rgb(14.5%,14.5%,14.5%);fill-opacity:1.0;font-family:Helvetica;font-size:10px;font-weight:300;vertical-align:baseline;white-space:pre;stroke:none\"><g class=\"toytree-TipLabel\" transform=\"translate(135.044,194.444)\"><text x=\"10.0\" y=\"2.5549999999999997\" style=\"fill:rgb(14.5%,14.5%,14.5%);fill-opacity:1.0\">r1_1</text></g><g class=\"toytree-TipLabel\" transform=\"translate(135.044,174.603)\"><text x=\"10.0\" y=\"2.5549999999999997\" style=\"fill:rgb(14.5%,14.5%,14.5%);fill-opacity:1.0\">r1_3</text></g><g class=\"toytree-TipLabel\" transform=\"translate(135.044,154.762)\"><text x=\"10.0\" y=\"2.5549999999999997\" style=\"fill:rgb(14.5%,14.5%,14.5%);fill-opacity:1.0\">r1_0</text></g><g class=\"toytree-TipLabel\" transform=\"translate(135.044,134.921)\"><text x=\"10.0\" y=\"2.5549999999999997\" style=\"fill:rgb(14.5%,14.5%,14.5%);fill-opacity:1.0\">r1_2</text></g><g class=\"toytree-TipLabel\" transform=\"translate(135.044,115.079)\"><text x=\"10.0\" y=\"2.5549999999999997\" style=\"fill:rgb(14.5%,14.5%,14.5%);fill-opacity:1.0\">r0_2</text></g><g class=\"toytree-TipLabel\" transform=\"translate(135.044,95.2381)\"><text x=\"10.0\" y=\"2.5549999999999997\" style=\"fill:rgb(14.5%,14.5%,14.5%);fill-opacity:1.0\">r0_0</text></g><g class=\"toytree-TipLabel\" transform=\"translate(135.044,75.3968)\"><text x=\"10.0\" y=\"2.5549999999999997\" style=\"fill:rgb(14.5%,14.5%,14.5%);fill-opacity:1.0\">r0_1</text></g><g class=\"toytree-TipLabel\" transform=\"translate(135.044,55.5556)\"><text x=\"10.0\" y=\"2.5549999999999997\" style=\"fill:rgb(14.5%,14.5%,14.5%);fill-opacity:1.0\">r0_3</text></g></g></g></g></g><g class=\"toyplot-coordinates-Cartesian\" id=\"t8f0ebe674fe34443b64ce1a9457f7229\"><clipPath id=\"t5cb0215796e3458992b73d5bf350792e\"><rect x=\"207.5\" y=\"40.0\" width=\"167.5\" height=\"170.0\"></rect></clipPath><g clip-path=\"url(#t5cb0215796e3458992b73d5bf350792e)\"><g class=\"toytree-mark-Toytree\" id=\"t738673704a4848faa2833d5a39d77b85\"><g class=\"toytree-Edges\" style=\"stroke:rgb(14.5%,14.5%,14.5%);stroke-opacity:1.0;stroke-linecap:round;stroke-width:2.0;fill:none\"><path d=\"M 307.7 177.1 L 307.7 194.4 L 322.5 194.4\" id=\"10,0\" style=\"\"></path><path d=\"M 307.8 159.7 L 307.8 174.6 L 322.5 174.6\" id=\"9,1\" style=\"\"></path><path d=\"M 318.7 144.8 L 318.7 154.8 L 322.5 154.8\" id=\"8,2\" style=\"\"></path><path d=\"M 318.7 144.8 L 318.7 134.9 L 322.5 134.9\" id=\"8,3\" style=\"\"></path><path d=\"M 322.1 105.2 L 322.1 115.1 L 322.5 115.1\" id=\"11,4\" style=\"\"></path><path d=\"M 322.1 105.2 L 322.1 95.2 L 322.5 95.2\" id=\"11,5\" style=\"\"></path><path d=\"M 316.2 65.5 L 316.2 75.4 L 322.5 75.4\" id=\"12,6\" style=\"\"></path><path d=\"M 316.2 65.5 L 316.2 55.6 L 322.5 55.6\" id=\"12,7\" style=\"\"></path><path d=\"M 307.8 159.7 L 307.8 144.8 L 318.7 144.8\" id=\"9,8\" style=\"\"></path><path d=\"M 307.7 177.1 L 307.7 159.7 L 307.8 159.7\" id=\"10,9\" style=\"\"></path><path d=\"M 218.2 131.2 L 218.2 177.1 L 307.7 177.1\" id=\"14,10\" style=\"\"></path><path d=\"M 259.3 85.3 L 259.3 105.2 L 322.1 105.2\" id=\"13,11\" style=\"\"></path><path d=\"M 259.3 85.3 L 259.3 65.5 L 316.2 65.5\" id=\"13,12\" style=\"\"></path><path d=\"M 218.2 131.2 L 218.2 85.3 L 259.3 85.3\" id=\"14,13\" style=\"\"></path></g><g class=\"toytree-AdmixEdges\" style=\"fill:rgb(0.0%,0.0%,0.0%);fill-opacity:0.0;stroke:rgb(90.6%,54.1%,76.5%);stroke-opacity:0.6;font-size:14px;stroke-linecap:round;stroke-width:5\"></g><g class=\"toytree-Nodes\" style=\"fill:rgb(40.0%,76.1%,64.7%);fill-opacity:1.0;stroke:rgb(14.9%,14.9%,14.9%);stroke-opacity:1.0;stroke-width:1.5\"></g><g class=\"toytree-TipLabels\" style=\"fill:rgb(14.5%,14.5%,14.5%);fill-opacity:1.0;font-family:Helvetica;font-size:10px;font-weight:300;vertical-align:baseline;white-space:pre;stroke:none\"><g class=\"toytree-TipLabel\" transform=\"translate(322.544,194.444)\"><text x=\"10.0\" y=\"2.5549999999999997\" style=\"fill:rgb(14.5%,14.5%,14.5%);fill-opacity:1.0\">r0_2</text></g><g class=\"toytree-TipLabel\" transform=\"translate(322.544,174.603)\"><text x=\"10.0\" y=\"2.5549999999999997\" style=\"fill:rgb(14.5%,14.5%,14.5%);fill-opacity:1.0\">r0_0</text></g><g class=\"toytree-TipLabel\" transform=\"translate(322.544,154.762)\"><text x=\"10.0\" y=\"2.5549999999999997\" style=\"fill:rgb(14.5%,14.5%,14.5%);fill-opacity:1.0\">r0_1</text></g><g class=\"toytree-TipLabel\" transform=\"translate(322.544,134.921)\"><text x=\"10.0\" y=\"2.5549999999999997\" style=\"fill:rgb(14.5%,14.5%,14.5%);fill-opacity:1.0\">r0_3</text></g><g class=\"toytree-TipLabel\" transform=\"translate(322.544,115.079)\"><text x=\"10.0\" y=\"2.5549999999999997\" style=\"fill:rgb(14.5%,14.5%,14.5%);fill-opacity:1.0\">r1_1</text></g><g class=\"toytree-TipLabel\" transform=\"translate(322.544,95.2381)\"><text x=\"10.0\" y=\"2.5549999999999997\" style=\"fill:rgb(14.5%,14.5%,14.5%);fill-opacity:1.0\">r1_3</text></g><g class=\"toytree-TipLabel\" transform=\"translate(322.544,75.3968)\"><text x=\"10.0\" y=\"2.5549999999999997\" style=\"fill:rgb(14.5%,14.5%,14.5%);fill-opacity:1.0\">r1_0</text></g><g class=\"toytree-TipLabel\" transform=\"translate(322.544,55.5556)\"><text x=\"10.0\" y=\"2.5549999999999997\" style=\"fill:rgb(14.5%,14.5%,14.5%);fill-opacity:1.0\">r1_2</text></g></g></g></g></g><g class=\"toyplot-coordinates-Cartesian\" id=\"tc18d8db9945f45478fbab4a0b738b1d8\"><clipPath id=\"t654542f755194626a257040815589804\"><rect x=\"395.0\" y=\"40.0\" width=\"167.5\" height=\"170.0\"></rect></clipPath><g clip-path=\"url(#t654542f755194626a257040815589804)\"><g class=\"toytree-mark-Toytree\" id=\"t306da673522647fb805a842d28a9e27c\"><g class=\"toytree-Edges\" style=\"stroke:rgb(14.5%,14.5%,14.5%);stroke-opacity:1.0;stroke-linecap:round;stroke-width:2.0;fill:none\"><path d=\"M 495.2 177.1 L 495.2 194.4 L 510.0 194.4\" id=\"10,0\" style=\"\"></path><path d=\"M 495.3 159.7 L 495.3 174.6 L 510.0 174.6\" id=\"9,1\" style=\"\"></path><path d=\"M 506.2 144.8 L 506.2 154.8 L 510.0 154.8\" id=\"8,2\" style=\"\"></path><path d=\"M 506.2 144.8 L 506.2 134.9 L 510.0 134.9\" id=\"8,3\" style=\"\"></path><path d=\"M 509.6 105.2 L 509.6 115.1 L 510.0 115.1\" id=\"11,4\" style=\"\"></path><path d=\"M 509.6 105.2 L 509.6 95.2 L 510.0 95.2\" id=\"11,5\" style=\"\"></path><path d=\"M 503.7 65.5 L 503.7 75.4 L 510.0 75.4\" id=\"12,6\" style=\"\"></path><path d=\"M 503.7 65.5 L 503.7 55.6 L 510.0 55.6\" id=\"12,7\" style=\"\"></path><path d=\"M 495.3 159.7 L 495.3 144.8 L 506.2 144.8\" id=\"9,8\" style=\"\"></path><path d=\"M 495.2 177.1 L 495.2 159.7 L 495.3 159.7\" id=\"10,9\" style=\"\"></path><path d=\"M 405.7 131.2 L 405.7 177.1 L 495.2 177.1\" id=\"14,10\" style=\"\"></path><path d=\"M 488.9 85.3 L 488.9 105.2 L 509.6 105.2\" id=\"13,11\" style=\"\"></path><path d=\"M 488.9 85.3 L 488.9 65.5 L 503.7 65.5\" id=\"13,12\" style=\"\"></path><path d=\"M 405.7 131.2 L 405.7 85.3 L 488.9 85.3\" id=\"14,13\" style=\"\"></path></g><g class=\"toytree-AdmixEdges\" style=\"fill:rgb(0.0%,0.0%,0.0%);fill-opacity:0.0;stroke:rgb(90.6%,54.1%,76.5%);stroke-opacity:0.6;font-size:14px;stroke-linecap:round;stroke-width:5\"></g><g class=\"toytree-Nodes\" style=\"fill:rgb(40.0%,76.1%,64.7%);fill-opacity:1.0;stroke:rgb(14.9%,14.9%,14.9%);stroke-opacity:1.0;stroke-width:1.5\"></g><g class=\"toytree-TipLabels\" style=\"fill:rgb(14.5%,14.5%,14.5%);fill-opacity:1.0;font-family:Helvetica;font-size:10px;font-weight:300;vertical-align:baseline;white-space:pre;stroke:none\"><g class=\"toytree-TipLabel\" transform=\"translate(510.044,194.444)\"><text x=\"10.0\" y=\"2.5549999999999997\" style=\"fill:rgb(14.5%,14.5%,14.5%);fill-opacity:1.0\">r0_2</text></g><g class=\"toytree-TipLabel\" transform=\"translate(510.044,174.603)\"><text x=\"10.0\" y=\"2.5549999999999997\" style=\"fill:rgb(14.5%,14.5%,14.5%);fill-opacity:1.0\">r0_0</text></g><g class=\"toytree-TipLabel\" transform=\"translate(510.044,154.762)\"><text x=\"10.0\" y=\"2.5549999999999997\" style=\"fill:rgb(14.5%,14.5%,14.5%);fill-opacity:1.0\">r0_1</text></g><g class=\"toytree-TipLabel\" transform=\"translate(510.044,134.921)\"><text x=\"10.0\" y=\"2.5549999999999997\" style=\"fill:rgb(14.5%,14.5%,14.5%);fill-opacity:1.0\">r0_3</text></g><g class=\"toytree-TipLabel\" transform=\"translate(510.044,115.079)\"><text x=\"10.0\" y=\"2.5549999999999997\" style=\"fill:rgb(14.5%,14.5%,14.5%);fill-opacity:1.0\">r1_1</text></g><g class=\"toytree-TipLabel\" transform=\"translate(510.044,95.2381)\"><text x=\"10.0\" y=\"2.5549999999999997\" style=\"fill:rgb(14.5%,14.5%,14.5%);fill-opacity:1.0\">r1_3</text></g><g class=\"toytree-TipLabel\" transform=\"translate(510.044,75.3968)\"><text x=\"10.0\" y=\"2.5549999999999997\" style=\"fill:rgb(14.5%,14.5%,14.5%);fill-opacity:1.0\">r1_0</text></g><g class=\"toytree-TipLabel\" transform=\"translate(510.044,55.5556)\"><text x=\"10.0\" y=\"2.5549999999999997\" style=\"fill:rgb(14.5%,14.5%,14.5%);fill-opacity:1.0\">r1_2</text></g></g></g></g></g><g class=\"toyplot-coordinates-Cartesian\" id=\"tadeb1058468d49e6b7f28753ed0d4cb2\"><clipPath id=\"t83e3b0f0c7a348f4aa784665065434d7\"><rect x=\"582.5\" y=\"40.0\" width=\"167.5\" height=\"170.0\"></rect></clipPath><g clip-path=\"url(#t83e3b0f0c7a348f4aa784665065434d7)\"><g class=\"toytree-mark-Toytree\" id=\"te320f123e65441cba9e4215ec109cbf7\"><g class=\"toytree-Edges\" style=\"stroke:rgb(14.5%,14.5%,14.5%);stroke-opacity:1.0;stroke-linecap:round;stroke-width:2.0;fill:none\"><path d=\"M 682.7 177.1 L 682.7 194.4 L 697.5 194.4\" id=\"10,0\" style=\"\"></path><path d=\"M 682.8 159.7 L 682.8 174.6 L 697.5 174.6\" id=\"9,1\" style=\"\"></path><path d=\"M 693.7 144.8 L 693.7 154.8 L 697.5 154.8\" id=\"8,2\" style=\"\"></path><path d=\"M 693.7 144.8 L 693.7 134.9 L 697.5 134.9\" id=\"8,3\" style=\"\"></path><path d=\"M 676.4 97.7 L 676.4 115.1 L 697.5 115.1\" id=\"13,4\" style=\"\"></path><path d=\"M 686.8 80.4 L 686.8 95.2 L 697.5 95.2\" id=\"12,5\" style=\"\"></path><path d=\"M 697.1 65.5 L 697.1 75.4 L 697.5 75.4\" id=\"11,6\" style=\"\"></path><path d=\"M 697.1 65.5 L 697.1 55.6 L 697.5 55.6\" id=\"11,7\" style=\"\"></path><path d=\"M 682.8 159.7 L 682.8 144.8 L 693.7 144.8\" id=\"9,8\" style=\"\"></path><path d=\"M 682.7 177.1 L 682.7 159.7 L 682.8 159.7\" id=\"10,9\" style=\"\"></path><path d=\"M 593.2 137.4 L 593.2 177.1 L 682.7 177.1\" id=\"14,10\" style=\"\"></path><path d=\"M 686.8 80.4 L 686.8 65.5 L 697.1 65.5\" id=\"12,11\" style=\"\"></path><path d=\"M 676.4 97.7 L 676.4 80.4 L 686.8 80.4\" id=\"13,12\" style=\"\"></path><path d=\"M 593.2 137.4 L 593.2 97.7 L 676.4 97.7\" id=\"14,13\" style=\"\"></path></g><g class=\"toytree-AdmixEdges\" style=\"fill:rgb(0.0%,0.0%,0.0%);fill-opacity:0.0;stroke:rgb(90.6%,54.1%,76.5%);stroke-opacity:0.6;font-size:14px;stroke-linecap:round;stroke-width:5\"></g><g class=\"toytree-Nodes\" style=\"fill:rgb(40.0%,76.1%,64.7%);fill-opacity:1.0;stroke:rgb(14.9%,14.9%,14.9%);stroke-opacity:1.0;stroke-width:1.5\"></g><g class=\"toytree-TipLabels\" style=\"fill:rgb(14.5%,14.5%,14.5%);fill-opacity:1.0;font-family:Helvetica;font-size:10px;font-weight:300;vertical-align:baseline;white-space:pre;stroke:none\"><g class=\"toytree-TipLabel\" transform=\"translate(697.544,194.444)\"><text x=\"10.0\" y=\"2.5549999999999997\" style=\"fill:rgb(14.5%,14.5%,14.5%);fill-opacity:1.0\">r0_2</text></g><g class=\"toytree-TipLabel\" transform=\"translate(697.544,174.603)\"><text x=\"10.0\" y=\"2.5549999999999997\" style=\"fill:rgb(14.5%,14.5%,14.5%);fill-opacity:1.0\">r0_0</text></g><g class=\"toytree-TipLabel\" transform=\"translate(697.544,154.762)\"><text x=\"10.0\" y=\"2.5549999999999997\" style=\"fill:rgb(14.5%,14.5%,14.5%);fill-opacity:1.0\">r0_1</text></g><g class=\"toytree-TipLabel\" transform=\"translate(697.544,134.921)\"><text x=\"10.0\" y=\"2.5549999999999997\" style=\"fill:rgb(14.5%,14.5%,14.5%);fill-opacity:1.0\">r0_3</text></g><g class=\"toytree-TipLabel\" transform=\"translate(697.544,115.079)\"><text x=\"10.0\" y=\"2.5549999999999997\" style=\"fill:rgb(14.5%,14.5%,14.5%);fill-opacity:1.0\">r1_2</text></g><g class=\"toytree-TipLabel\" transform=\"translate(697.544,95.2381)\"><text x=\"10.0\" y=\"2.5549999999999997\" style=\"fill:rgb(14.5%,14.5%,14.5%);fill-opacity:1.0\">r1_0</text></g><g class=\"toytree-TipLabel\" transform=\"translate(697.544,75.3968)\"><text x=\"10.0\" y=\"2.5549999999999997\" style=\"fill:rgb(14.5%,14.5%,14.5%);fill-opacity:1.0\">r1_1</text></g><g class=\"toytree-TipLabel\" transform=\"translate(697.544,55.5556)\"><text x=\"10.0\" y=\"2.5549999999999997\" style=\"fill:rgb(14.5%,14.5%,14.5%);fill-opacity:1.0\">r1_3</text></g></g></g></g></g></svg><div class=\"toyplot-behavior\"><script>(function()\n",
       "{\n",
       "var modules={};\n",
       "})();</script></div></div>"
      ]
     },
     "metadata": {},
     "output_type": "display_data"
    }
   ],
   "source": [
    "mtree = toytree.mtree(model.df.genealogy[:50])\n",
    "mtree.draw();"
   ]
  },
  {
   "cell_type": "code",
   "execution_count": 14,
   "id": "dca4706a",
   "metadata": {},
   "outputs": [
    {
     "name": "stdout",
     "output_type": "stream",
     "text": [
      "59117 genealogies w/ average length=169\n"
     ]
    }
   ],
   "source": [
    "# genealogy tree change interval lengths\n",
    "tree_lengths = model.df.nbps.values\n",
    "\n",
    "# N and avg tree change length\n",
    "print(f\"{len(tree_lengths)} genealogies w/ average length={np.mean(tree_lengths):.0f}\")"
   ]
  },
  {
   "cell_type": "code",
   "execution_count": 11,
   "id": "fa60e362",
   "metadata": {},
   "outputs": [
    {
     "name": "stdout",
     "output_type": "stream",
     "text": [
      "21190 genealogy topologies w/ average length=472\n"
     ]
    }
   ],
   "source": [
    "# genealogy topo change interval lengths\n",
    "#topo_lengths = ipcoal.smc.likelihood.get_topology_interval_lengths(model)\n",
    "\n",
    "# N and avg tree change length\n",
    "print(f\"{len(topo_lengths)} genealogy topologies w/ average length={np.mean(topo_lengths):.0f}\")"
   ]
  },
  {
   "cell_type": "code",
   "execution_count": 58,
   "id": "930d03a2",
   "metadata": {},
   "outputs": [
    {
     "name": "stdout",
     "output_type": "stream",
     "text": [
      "25446 genealogy topologies w/ average length=393\n"
     ]
    }
   ],
   "source": [
    "# genealogy topo change interval lengths\n",
    "topo_lengths = ipcoal.smc.likelihood.get_topology_interval_lengths(model)\n",
    "\n",
    "# N and avg tree change length\n",
    "print(f\"{len(topo_lengths)} genealogy topologies w/ average length={np.mean(topo_lengths):.0f}\")"
   ]
  },
  {
   "cell_type": "code",
   "execution_count": 16,
   "id": "4f341d20",
   "metadata": {},
   "outputs": [
    {
     "data": {
      "text/html": [
       "<div class=\"toyplot\" id=\"tc51dcb7dc23f4b159a70be92debb1eac\" style=\"text-align:center\"><svg class=\"toyplot-canvas-Canvas\" xmlns:toyplot=\"http://www.sandia.gov/toyplot\" xmlns:xlink=\"http://www.w3.org/1999/xlink\" xmlns=\"http://www.w3.org/2000/svg\" width=\"750.0px\" height=\"250.0px\" viewBox=\"0 0 750.0 250.0\" preserveAspectRatio=\"xMidYMid meet\" style=\"background-color:transparent;border-color:#292724;border-style:none;border-width:1.0;fill:rgb(16.1%,15.3%,14.1%);fill-opacity:1.0;font-family:Helvetica;font-size:12px;opacity:1.0;stroke:rgb(16.1%,15.3%,14.1%);stroke-opacity:1.0;stroke-width:1.0\" id=\"t3743b51d6ec748f28467a06da5d99335\"><g class=\"toyplot-coordinates-Cartesian\" id=\"t0132812cbe744306b81a82280589a623\"><clipPath id=\"t352914020fde4116b5494e47f16c5bf9\"><rect x=\"20.0\" y=\"40.0\" width=\"167.5\" height=\"150.0\"></rect></clipPath><g clip-path=\"url(#t352914020fde4116b5494e47f16c5bf9)\"><g class=\"toytree-mark-Toytree\" id=\"t01046a1a03d34187bbbd3999708a619a\"><g class=\"toytree-Edges\" style=\"stroke:rgb(14.5%,14.5%,14.5%);stroke-opacity:1.0;stroke-linecap:round;stroke-width:2.0;fill:none\"><path d=\"M 134.6 166.0 L 134.6 174.5 L 135.0 174.5\" id=\"8,0\" style=\"\"></path><path d=\"M 134.6 166.0 L 134.6 157.5 L 135.0 157.5\" id=\"8,1\" style=\"\"></path><path d=\"M 128.7 132.0 L 128.7 140.5 L 135.0 140.5\" id=\"9,2\" style=\"\"></path><path d=\"M 128.7 132.0 L 128.7 123.5 L 135.0 123.5\" id=\"9,3\" style=\"\"></path><path d=\"M 120.2 91.6 L 120.2 106.5 L 135.0 106.5\" id=\"13,4\" style=\"\"></path><path d=\"M 120.3 76.7 L 120.3 89.5 L 135.0 89.5\" id=\"12,5\" style=\"\"></path><path d=\"M 131.2 64.0 L 131.2 72.5 L 135.0 72.5\" id=\"11,6\" style=\"\"></path><path d=\"M 131.2 64.0 L 131.2 55.5 L 135.0 55.5\" id=\"11,7\" style=\"\"></path><path d=\"M 121.3 149.0 L 121.3 166.0 L 134.6 166.0\" id=\"10,8\" style=\"\"></path><path d=\"M 121.3 149.0 L 121.3 132.0 L 128.7 132.0\" id=\"10,9\" style=\"\"></path><path d=\"M 30.7 120.3 L 30.7 149.0 L 121.3 149.0\" id=\"14,10\" style=\"\"></path><path d=\"M 120.3 76.7 L 120.3 64.0 L 131.2 64.0\" id=\"12,11\" style=\"\"></path><path d=\"M 120.2 91.6 L 120.2 76.7 L 120.3 76.7\" id=\"13,12\" style=\"\"></path><path d=\"M 30.7 120.3 L 30.7 91.6 L 120.2 91.6\" id=\"14,13\" style=\"\"></path></g><g class=\"toytree-AdmixEdges\" style=\"fill:rgb(0.0%,0.0%,0.0%);fill-opacity:0.0;stroke:rgb(90.6%,54.1%,76.5%);stroke-opacity:0.6;font-size:14px;stroke-linecap:round;stroke-width:5\"></g><g class=\"toytree-Nodes\" style=\"fill:rgb(40.0%,76.1%,64.7%);fill-opacity:1.0;stroke:rgb(14.9%,14.9%,14.9%);stroke-opacity:1.0;stroke-width:1.5\"></g><g class=\"toytree-TipLabels\" style=\"fill:rgb(14.5%,14.5%,14.5%);fill-opacity:1.0;font-family:Helvetica;font-size:10px;font-weight:300;vertical-align:baseline;white-space:pre;stroke:none\"><g class=\"toytree-TipLabel\" transform=\"translate(135.044,174.507)\"><text x=\"10.0\" y=\"2.5549999999999997\" style=\"fill:rgb(14.5%,14.5%,14.5%);fill-opacity:1.0\">r1_1</text></g><g class=\"toytree-TipLabel\" transform=\"translate(135.044,157.505)\"><text x=\"10.0\" y=\"2.5549999999999997\" style=\"fill:rgb(14.5%,14.5%,14.5%);fill-opacity:1.0\">r1_3</text></g><g class=\"toytree-TipLabel\" transform=\"translate(135.044,140.503)\"><text x=\"10.0\" y=\"2.5549999999999997\" style=\"fill:rgb(14.5%,14.5%,14.5%);fill-opacity:1.0\">r1_0</text></g><g class=\"toytree-TipLabel\" transform=\"translate(135.044,123.501)\"><text x=\"10.0\" y=\"2.5549999999999997\" style=\"fill:rgb(14.5%,14.5%,14.5%);fill-opacity:1.0\">r1_2</text></g><g class=\"toytree-TipLabel\" transform=\"translate(135.044,106.499)\"><text x=\"10.0\" y=\"2.5549999999999997\" style=\"fill:rgb(14.5%,14.5%,14.5%);fill-opacity:1.0\">r0_2</text></g><g class=\"toytree-TipLabel\" transform=\"translate(135.044,89.497)\"><text x=\"10.0\" y=\"2.5549999999999997\" style=\"fill:rgb(14.5%,14.5%,14.5%);fill-opacity:1.0\">r0_0</text></g><g class=\"toytree-TipLabel\" transform=\"translate(135.044,72.495)\"><text x=\"10.0\" y=\"2.5549999999999997\" style=\"fill:rgb(14.5%,14.5%,14.5%);fill-opacity:1.0\">r0_1</text></g><g class=\"toytree-TipLabel\" transform=\"translate(135.044,55.493)\"><text x=\"10.0\" y=\"2.5549999999999997\" style=\"fill:rgb(14.5%,14.5%,14.5%);fill-opacity:1.0\">r0_3</text></g></g></g></g><g class=\"toyplot-coordinates-Axis\" id=\"t66daa0c9478640ccaa7f3d2ae5f1d30b\" transform=\"translate(30.0,180.0)translate(0,10.0)\"><line x1=\"0.7073661998848998\" y1=\"0\" x2=\"105.04388068290811\" y2=\"0\" style=\"\"></line><g><line x1=\"33.90396292522168\" y1=\"0\" x2=\"33.90396292522168\" y2=\"-5\" style=\"\"></line><line x1=\"69.4739218040649\" y1=\"0\" x2=\"69.4739218040649\" y2=\"-5\" style=\"\"></line><line x1=\"105.04388068290811\" y1=\"0\" x2=\"105.04388068290811\" y2=\"-5\" style=\"\"></line></g><g><g transform=\"translate(33.90396292522168,6)\"><text x=\"-16.68\" y=\"8.555\" style=\"fill:rgb(16.1%,15.3%,14.1%);fill-opacity:1.0;font-family:helvetica;font-size:10.0px;font-weight:normal;stroke:none;vertical-align:baseline;white-space:pre\">800000</text></g><g transform=\"translate(69.4739218040649,6)\"><text x=\"-16.68\" y=\"8.555\" style=\"fill:rgb(16.1%,15.3%,14.1%);fill-opacity:1.0;font-family:helvetica;font-size:10.0px;font-weight:normal;stroke:none;vertical-align:baseline;white-space:pre\">400000</text></g><g transform=\"translate(105.04388068290811,6)\"><text x=\"-2.78\" y=\"8.555\" style=\"fill:rgb(16.1%,15.3%,14.1%);fill-opacity:1.0;font-family:helvetica;font-size:10.0px;font-weight:normal;stroke:none;vertical-align:baseline;white-space:pre\">0</text></g></g><g class=\"toyplot-coordinates-Axis-coordinates\" style=\"visibility:hidden\" transform=\"\"><line x1=\"0\" x2=\"0\" y1=\"-3.0\" y2=\"4.5\" style=\"stroke:rgb(43.9%,50.2%,56.5%);stroke-opacity:1.0;stroke-width:1.0\"></line><text x=\"0\" y=\"-6\" style=\"alignment-baseline:alphabetic;fill:rgb(43.9%,50.2%,56.5%);fill-opacity:1.0;font-size:10px;font-weight:normal;stroke:none;text-anchor:middle\"></text></g></g></g><g class=\"toyplot-coordinates-Cartesian\" id=\"t81bc6198613f497fb4c504927e08d780\"><clipPath id=\"tc9c556692c8344a8bb3f4b2cd9b1ee4f\"><rect x=\"207.5\" y=\"40.0\" width=\"167.5\" height=\"150.0\"></rect></clipPath><g clip-path=\"url(#tc9c556692c8344a8bb3f4b2cd9b1ee4f)\"><g class=\"toytree-mark-Toytree\" id=\"tb4f0ed9b64ef458e8b43760c86e4ee29\"><g class=\"toytree-Edges\" style=\"stroke:rgb(14.5%,14.5%,14.5%);stroke-opacity:1.0;stroke-linecap:round;stroke-width:2.0;fill:none\"><path d=\"M 307.7 159.6 L 307.7 174.5 L 322.5 174.5\" id=\"10,0\" style=\"\"></path><path d=\"M 307.8 144.8 L 307.8 157.5 L 322.5 157.5\" id=\"9,1\" style=\"\"></path><path d=\"M 318.7 132.0 L 318.7 140.5 L 322.5 140.5\" id=\"8,2\" style=\"\"></path><path d=\"M 318.7 132.0 L 318.7 123.5 L 322.5 123.5\" id=\"8,3\" style=\"\"></path><path d=\"M 322.1 98.0 L 322.1 106.5 L 322.5 106.5\" id=\"11,4\" style=\"\"></path><path d=\"M 322.1 98.0 L 322.1 89.5 L 322.5 89.5\" id=\"11,5\" style=\"\"></path><path d=\"M 316.2 64.0 L 316.2 72.5 L 322.5 72.5\" id=\"12,6\" style=\"\"></path><path d=\"M 316.2 64.0 L 316.2 55.5 L 322.5 55.5\" id=\"12,7\" style=\"\"></path><path d=\"M 307.8 144.8 L 307.8 132.0 L 318.7 132.0\" id=\"9,8\" style=\"\"></path><path d=\"M 307.7 159.6 L 307.7 144.8 L 307.8 144.8\" id=\"10,9\" style=\"\"></path><path d=\"M 218.2 120.3 L 218.2 159.6 L 307.7 159.6\" id=\"14,10\" style=\"\"></path><path d=\"M 259.3 81.0 L 259.3 98.0 L 322.1 98.0\" id=\"13,11\" style=\"\"></path><path d=\"M 259.3 81.0 L 259.3 64.0 L 316.2 64.0\" id=\"13,12\" style=\"\"></path><path d=\"M 218.2 120.3 L 218.2 81.0 L 259.3 81.0\" id=\"14,13\" style=\"\"></path></g><g class=\"toytree-AdmixEdges\" style=\"fill:rgb(0.0%,0.0%,0.0%);fill-opacity:0.0;stroke:rgb(90.6%,54.1%,76.5%);stroke-opacity:0.6;font-size:14px;stroke-linecap:round;stroke-width:5\"></g><g class=\"toytree-Nodes\" style=\"fill:rgb(40.0%,76.1%,64.7%);fill-opacity:1.0;stroke:rgb(14.9%,14.9%,14.9%);stroke-opacity:1.0;stroke-width:1.5\"></g><g class=\"toytree-TipLabels\" style=\"fill:rgb(14.5%,14.5%,14.5%);fill-opacity:1.0;font-family:Helvetica;font-size:10px;font-weight:300;vertical-align:baseline;white-space:pre;stroke:none\"><g class=\"toytree-TipLabel\" transform=\"translate(322.544,174.507)\"><text x=\"10.0\" y=\"2.5549999999999997\" style=\"fill:rgb(14.5%,14.5%,14.5%);fill-opacity:1.0\">r0_2</text></g><g class=\"toytree-TipLabel\" transform=\"translate(322.544,157.505)\"><text x=\"10.0\" y=\"2.5549999999999997\" style=\"fill:rgb(14.5%,14.5%,14.5%);fill-opacity:1.0\">r0_0</text></g><g class=\"toytree-TipLabel\" transform=\"translate(322.544,140.503)\"><text x=\"10.0\" y=\"2.5549999999999997\" style=\"fill:rgb(14.5%,14.5%,14.5%);fill-opacity:1.0\">r0_1</text></g><g class=\"toytree-TipLabel\" transform=\"translate(322.544,123.501)\"><text x=\"10.0\" y=\"2.5549999999999997\" style=\"fill:rgb(14.5%,14.5%,14.5%);fill-opacity:1.0\">r0_3</text></g><g class=\"toytree-TipLabel\" transform=\"translate(322.544,106.499)\"><text x=\"10.0\" y=\"2.5549999999999997\" style=\"fill:rgb(14.5%,14.5%,14.5%);fill-opacity:1.0\">r1_1</text></g><g class=\"toytree-TipLabel\" transform=\"translate(322.544,89.497)\"><text x=\"10.0\" y=\"2.5549999999999997\" style=\"fill:rgb(14.5%,14.5%,14.5%);fill-opacity:1.0\">r1_3</text></g><g class=\"toytree-TipLabel\" transform=\"translate(322.544,72.495)\"><text x=\"10.0\" y=\"2.5549999999999997\" style=\"fill:rgb(14.5%,14.5%,14.5%);fill-opacity:1.0\">r1_0</text></g><g class=\"toytree-TipLabel\" transform=\"translate(322.544,55.493)\"><text x=\"10.0\" y=\"2.5549999999999997\" style=\"fill:rgb(14.5%,14.5%,14.5%);fill-opacity:1.0\">r1_2</text></g></g></g></g><g class=\"toyplot-coordinates-Axis\" id=\"t253506e0c4674ad2aa5c16dcf799a179\" transform=\"translate(217.5,180.0)translate(0,10.0)\"><line x1=\"0.7073661998848998\" y1=\"0\" x2=\"105.04388068290811\" y2=\"0\" style=\"\"></line><g><line x1=\"33.90396292522168\" y1=\"0\" x2=\"33.90396292522168\" y2=\"-5\" style=\"\"></line><line x1=\"69.4739218040649\" y1=\"0\" x2=\"69.4739218040649\" y2=\"-5\" style=\"\"></line><line x1=\"105.04388068290811\" y1=\"0\" x2=\"105.04388068290811\" y2=\"-5\" style=\"\"></line></g><g><g transform=\"translate(33.90396292522168,6)\"><text x=\"-16.68\" y=\"8.555\" style=\"fill:rgb(16.1%,15.3%,14.1%);fill-opacity:1.0;font-family:helvetica;font-size:10.0px;font-weight:normal;stroke:none;vertical-align:baseline;white-space:pre\">800000</text></g><g transform=\"translate(69.4739218040649,6)\"><text x=\"-16.68\" y=\"8.555\" style=\"fill:rgb(16.1%,15.3%,14.1%);fill-opacity:1.0;font-family:helvetica;font-size:10.0px;font-weight:normal;stroke:none;vertical-align:baseline;white-space:pre\">400000</text></g><g transform=\"translate(105.04388068290811,6)\"><text x=\"-2.78\" y=\"8.555\" style=\"fill:rgb(16.1%,15.3%,14.1%);fill-opacity:1.0;font-family:helvetica;font-size:10.0px;font-weight:normal;stroke:none;vertical-align:baseline;white-space:pre\">0</text></g></g><g class=\"toyplot-coordinates-Axis-coordinates\" style=\"visibility:hidden\" transform=\"\"><line x1=\"0\" x2=\"0\" y1=\"-3.0\" y2=\"4.5\" style=\"stroke:rgb(43.9%,50.2%,56.5%);stroke-opacity:1.0;stroke-width:1.0\"></line><text x=\"0\" y=\"-6\" style=\"alignment-baseline:alphabetic;fill:rgb(43.9%,50.2%,56.5%);fill-opacity:1.0;font-size:10px;font-weight:normal;stroke:none;text-anchor:middle\"></text></g></g></g><g class=\"toyplot-coordinates-Cartesian\" id=\"te41178208b3f4ef4ac761559a96f4697\"><clipPath id=\"t27e5138f159346b39afe34aafce0fa93\"><rect x=\"395.0\" y=\"40.0\" width=\"167.5\" height=\"150.0\"></rect></clipPath><g clip-path=\"url(#t27e5138f159346b39afe34aafce0fa93)\"><g class=\"toytree-mark-Toytree\" id=\"t546782eedbef494695fad646bb7b8e81\"><g class=\"toytree-Edges\" style=\"stroke:rgb(14.5%,14.5%,14.5%);stroke-opacity:1.0;stroke-linecap:round;stroke-width:2.0;fill:none\"><path d=\"M 495.2 159.6 L 495.2 174.5 L 510.0 174.5\" id=\"10,0\" style=\"\"></path><path d=\"M 495.3 144.8 L 495.3 157.5 L 510.0 157.5\" id=\"9,1\" style=\"\"></path><path d=\"M 506.2 132.0 L 506.2 140.5 L 510.0 140.5\" id=\"8,2\" style=\"\"></path><path d=\"M 506.2 132.0 L 506.2 123.5 L 510.0 123.5\" id=\"8,3\" style=\"\"></path><path d=\"M 509.6 98.0 L 509.6 106.5 L 510.0 106.5\" id=\"11,4\" style=\"\"></path><path d=\"M 509.6 98.0 L 509.6 89.5 L 510.0 89.5\" id=\"11,5\" style=\"\"></path><path d=\"M 503.7 64.0 L 503.7 72.5 L 510.0 72.5\" id=\"12,6\" style=\"\"></path><path d=\"M 503.7 64.0 L 503.7 55.5 L 510.0 55.5\" id=\"12,7\" style=\"\"></path><path d=\"M 495.3 144.8 L 495.3 132.0 L 506.2 132.0\" id=\"9,8\" style=\"\"></path><path d=\"M 495.2 159.6 L 495.2 144.8 L 495.3 144.8\" id=\"10,9\" style=\"\"></path><path d=\"M 405.7 120.3 L 405.7 159.6 L 495.2 159.6\" id=\"14,10\" style=\"\"></path><path d=\"M 488.9 81.0 L 488.9 98.0 L 509.6 98.0\" id=\"13,11\" style=\"\"></path><path d=\"M 488.9 81.0 L 488.9 64.0 L 503.7 64.0\" id=\"13,12\" style=\"\"></path><path d=\"M 405.7 120.3 L 405.7 81.0 L 488.9 81.0\" id=\"14,13\" style=\"\"></path></g><g class=\"toytree-AdmixEdges\" style=\"fill:rgb(0.0%,0.0%,0.0%);fill-opacity:0.0;stroke:rgb(90.6%,54.1%,76.5%);stroke-opacity:0.6;font-size:14px;stroke-linecap:round;stroke-width:5\"></g><g class=\"toytree-Nodes\" style=\"fill:rgb(40.0%,76.1%,64.7%);fill-opacity:1.0;stroke:rgb(14.9%,14.9%,14.9%);stroke-opacity:1.0;stroke-width:1.5\"></g><g class=\"toytree-TipLabels\" style=\"fill:rgb(14.5%,14.5%,14.5%);fill-opacity:1.0;font-family:Helvetica;font-size:10px;font-weight:300;vertical-align:baseline;white-space:pre;stroke:none\"><g class=\"toytree-TipLabel\" transform=\"translate(510.044,174.507)\"><text x=\"10.0\" y=\"2.5549999999999997\" style=\"fill:rgb(14.5%,14.5%,14.5%);fill-opacity:1.0\">r0_2</text></g><g class=\"toytree-TipLabel\" transform=\"translate(510.044,157.505)\"><text x=\"10.0\" y=\"2.5549999999999997\" style=\"fill:rgb(14.5%,14.5%,14.5%);fill-opacity:1.0\">r0_0</text></g><g class=\"toytree-TipLabel\" transform=\"translate(510.044,140.503)\"><text x=\"10.0\" y=\"2.5549999999999997\" style=\"fill:rgb(14.5%,14.5%,14.5%);fill-opacity:1.0\">r0_1</text></g><g class=\"toytree-TipLabel\" transform=\"translate(510.044,123.501)\"><text x=\"10.0\" y=\"2.5549999999999997\" style=\"fill:rgb(14.5%,14.5%,14.5%);fill-opacity:1.0\">r0_3</text></g><g class=\"toytree-TipLabel\" transform=\"translate(510.044,106.499)\"><text x=\"10.0\" y=\"2.5549999999999997\" style=\"fill:rgb(14.5%,14.5%,14.5%);fill-opacity:1.0\">r1_1</text></g><g class=\"toytree-TipLabel\" transform=\"translate(510.044,89.497)\"><text x=\"10.0\" y=\"2.5549999999999997\" style=\"fill:rgb(14.5%,14.5%,14.5%);fill-opacity:1.0\">r1_3</text></g><g class=\"toytree-TipLabel\" transform=\"translate(510.044,72.495)\"><text x=\"10.0\" y=\"2.5549999999999997\" style=\"fill:rgb(14.5%,14.5%,14.5%);fill-opacity:1.0\">r1_0</text></g><g class=\"toytree-TipLabel\" transform=\"translate(510.044,55.493)\"><text x=\"10.0\" y=\"2.5549999999999997\" style=\"fill:rgb(14.5%,14.5%,14.5%);fill-opacity:1.0\">r1_2</text></g></g></g></g><g class=\"toyplot-coordinates-Axis\" id=\"t9a653345478842639a2e7e500c226883\" transform=\"translate(405.0,180.0)translate(0,10.0)\"><line x1=\"0.7073661998848998\" y1=\"0\" x2=\"105.04388068290811\" y2=\"0\" style=\"\"></line><g><line x1=\"33.90396292522168\" y1=\"0\" x2=\"33.90396292522168\" y2=\"-5\" style=\"\"></line><line x1=\"69.4739218040649\" y1=\"0\" x2=\"69.4739218040649\" y2=\"-5\" style=\"\"></line><line x1=\"105.04388068290811\" y1=\"0\" x2=\"105.04388068290811\" y2=\"-5\" style=\"\"></line></g><g><g transform=\"translate(33.90396292522168,6)\"><text x=\"-16.68\" y=\"8.555\" style=\"fill:rgb(16.1%,15.3%,14.1%);fill-opacity:1.0;font-family:helvetica;font-size:10.0px;font-weight:normal;stroke:none;vertical-align:baseline;white-space:pre\">800000</text></g><g transform=\"translate(69.4739218040649,6)\"><text x=\"-16.68\" y=\"8.555\" style=\"fill:rgb(16.1%,15.3%,14.1%);fill-opacity:1.0;font-family:helvetica;font-size:10.0px;font-weight:normal;stroke:none;vertical-align:baseline;white-space:pre\">400000</text></g><g transform=\"translate(105.04388068290811,6)\"><text x=\"-2.78\" y=\"8.555\" style=\"fill:rgb(16.1%,15.3%,14.1%);fill-opacity:1.0;font-family:helvetica;font-size:10.0px;font-weight:normal;stroke:none;vertical-align:baseline;white-space:pre\">0</text></g></g><g class=\"toyplot-coordinates-Axis-coordinates\" style=\"visibility:hidden\" transform=\"\"><line x1=\"0\" x2=\"0\" y1=\"-3.0\" y2=\"4.5\" style=\"stroke:rgb(43.9%,50.2%,56.5%);stroke-opacity:1.0;stroke-width:1.0\"></line><text x=\"0\" y=\"-6\" style=\"alignment-baseline:alphabetic;fill:rgb(43.9%,50.2%,56.5%);fill-opacity:1.0;font-size:10px;font-weight:normal;stroke:none;text-anchor:middle\"></text></g></g></g><g class=\"toyplot-coordinates-Cartesian\" id=\"t6a188ec9475d478ab56919b505fce266\"><clipPath id=\"tcf1c709af1da4de8bdfc8064a70939f6\"><rect x=\"582.5\" y=\"40.0\" width=\"167.5\" height=\"150.0\"></rect></clipPath><g clip-path=\"url(#tcf1c709af1da4de8bdfc8064a70939f6)\"><g class=\"toytree-mark-Toytree\" id=\"t2fbb8b701d5148f282b7558f9d6d89f5\"><g class=\"toytree-Edges\" style=\"stroke:rgb(14.5%,14.5%,14.5%);stroke-opacity:1.0;stroke-linecap:round;stroke-width:2.0;fill:none\"><path d=\"M 682.7 159.6 L 682.7 174.5 L 697.5 174.5\" id=\"10,0\" style=\"\"></path><path d=\"M 682.8 144.8 L 682.8 157.5 L 697.5 157.5\" id=\"9,1\" style=\"\"></path><path d=\"M 693.7 132.0 L 693.7 140.5 L 697.5 140.5\" id=\"8,2\" style=\"\"></path><path d=\"M 693.7 132.0 L 693.7 123.5 L 697.5 123.5\" id=\"8,3\" style=\"\"></path><path d=\"M 676.4 91.6 L 676.4 106.5 L 697.5 106.5\" id=\"13,4\" style=\"\"></path><path d=\"M 686.8 76.7 L 686.8 89.5 L 697.5 89.5\" id=\"12,5\" style=\"\"></path><path d=\"M 697.1 64.0 L 697.1 72.5 L 697.5 72.5\" id=\"11,6\" style=\"\"></path><path d=\"M 697.1 64.0 L 697.1 55.5 L 697.5 55.5\" id=\"11,7\" style=\"\"></path><path d=\"M 682.8 144.8 L 682.8 132.0 L 693.7 132.0\" id=\"9,8\" style=\"\"></path><path d=\"M 682.7 159.6 L 682.7 144.8 L 682.8 144.8\" id=\"10,9\" style=\"\"></path><path d=\"M 593.2 125.6 L 593.2 159.6 L 682.7 159.6\" id=\"14,10\" style=\"\"></path><path d=\"M 686.8 76.7 L 686.8 64.0 L 697.1 64.0\" id=\"12,11\" style=\"\"></path><path d=\"M 676.4 91.6 L 676.4 76.7 L 686.8 76.7\" id=\"13,12\" style=\"\"></path><path d=\"M 593.2 125.6 L 593.2 91.6 L 676.4 91.6\" id=\"14,13\" style=\"\"></path></g><g class=\"toytree-AdmixEdges\" style=\"fill:rgb(0.0%,0.0%,0.0%);fill-opacity:0.0;stroke:rgb(90.6%,54.1%,76.5%);stroke-opacity:0.6;font-size:14px;stroke-linecap:round;stroke-width:5\"></g><g class=\"toytree-Nodes\" style=\"fill:rgb(40.0%,76.1%,64.7%);fill-opacity:1.0;stroke:rgb(14.9%,14.9%,14.9%);stroke-opacity:1.0;stroke-width:1.5\"></g><g class=\"toytree-TipLabels\" style=\"fill:rgb(14.5%,14.5%,14.5%);fill-opacity:1.0;font-family:Helvetica;font-size:10px;font-weight:300;vertical-align:baseline;white-space:pre;stroke:none\"><g class=\"toytree-TipLabel\" transform=\"translate(697.544,174.507)\"><text x=\"10.0\" y=\"2.5549999999999997\" style=\"fill:rgb(14.5%,14.5%,14.5%);fill-opacity:1.0\">r0_2</text></g><g class=\"toytree-TipLabel\" transform=\"translate(697.544,157.505)\"><text x=\"10.0\" y=\"2.5549999999999997\" style=\"fill:rgb(14.5%,14.5%,14.5%);fill-opacity:1.0\">r0_0</text></g><g class=\"toytree-TipLabel\" transform=\"translate(697.544,140.503)\"><text x=\"10.0\" y=\"2.5549999999999997\" style=\"fill:rgb(14.5%,14.5%,14.5%);fill-opacity:1.0\">r0_1</text></g><g class=\"toytree-TipLabel\" transform=\"translate(697.544,123.501)\"><text x=\"10.0\" y=\"2.5549999999999997\" style=\"fill:rgb(14.5%,14.5%,14.5%);fill-opacity:1.0\">r0_3</text></g><g class=\"toytree-TipLabel\" transform=\"translate(697.544,106.499)\"><text x=\"10.0\" y=\"2.5549999999999997\" style=\"fill:rgb(14.5%,14.5%,14.5%);fill-opacity:1.0\">r1_2</text></g><g class=\"toytree-TipLabel\" transform=\"translate(697.544,89.497)\"><text x=\"10.0\" y=\"2.5549999999999997\" style=\"fill:rgb(14.5%,14.5%,14.5%);fill-opacity:1.0\">r1_0</text></g><g class=\"toytree-TipLabel\" transform=\"translate(697.544,72.495)\"><text x=\"10.0\" y=\"2.5549999999999997\" style=\"fill:rgb(14.5%,14.5%,14.5%);fill-opacity:1.0\">r1_1</text></g><g class=\"toytree-TipLabel\" transform=\"translate(697.544,55.493)\"><text x=\"10.0\" y=\"2.5549999999999997\" style=\"fill:rgb(14.5%,14.5%,14.5%);fill-opacity:1.0\">r1_3</text></g></g></g></g><g class=\"toyplot-coordinates-Axis\" id=\"t8829ac10dd2a4408a26b55702db34dc2\" transform=\"translate(592.5,180.0)translate(0,10.0)\"><line x1=\"0.7073661998848998\" y1=\"0\" x2=\"105.04388068290811\" y2=\"0\" style=\"\"></line><g><line x1=\"33.90396292522168\" y1=\"0\" x2=\"33.90396292522168\" y2=\"-5\" style=\"\"></line><line x1=\"69.4739218040649\" y1=\"0\" x2=\"69.4739218040649\" y2=\"-5\" style=\"\"></line><line x1=\"105.04388068290811\" y1=\"0\" x2=\"105.04388068290811\" y2=\"-5\" style=\"\"></line></g><g><g transform=\"translate(33.90396292522168,6)\"><text x=\"-16.68\" y=\"8.555\" style=\"fill:rgb(16.1%,15.3%,14.1%);fill-opacity:1.0;font-family:helvetica;font-size:10.0px;font-weight:normal;stroke:none;vertical-align:baseline;white-space:pre\">800000</text></g><g transform=\"translate(69.4739218040649,6)\"><text x=\"-16.68\" y=\"8.555\" style=\"fill:rgb(16.1%,15.3%,14.1%);fill-opacity:1.0;font-family:helvetica;font-size:10.0px;font-weight:normal;stroke:none;vertical-align:baseline;white-space:pre\">400000</text></g><g transform=\"translate(105.04388068290811,6)\"><text x=\"-2.78\" y=\"8.555\" style=\"fill:rgb(16.1%,15.3%,14.1%);fill-opacity:1.0;font-family:helvetica;font-size:10.0px;font-weight:normal;stroke:none;vertical-align:baseline;white-space:pre\">0</text></g></g><g class=\"toyplot-coordinates-Axis-coordinates\" style=\"visibility:hidden\" transform=\"\"><line x1=\"0\" x2=\"0\" y1=\"-3.0\" y2=\"4.5\" style=\"stroke:rgb(43.9%,50.2%,56.5%);stroke-opacity:1.0;stroke-width:1.0\"></line><text x=\"0\" y=\"-6\" style=\"alignment-baseline:alphabetic;fill:rgb(43.9%,50.2%,56.5%);fill-opacity:1.0;font-size:10px;font-weight:normal;stroke:none;text-anchor:middle\"></text></g></g></g></svg><div class=\"toyplot-behavior\"><script>(function()\n",
       "{\n",
       "var modules={};\n",
       "modules[\"toyplot/canvas/id\"] = \"t3743b51d6ec748f28467a06da5d99335\";\n",
       "modules[\"toyplot/canvas\"] = (function(canvas_id)\n",
       "    {\n",
       "        return document.querySelector(\"#\" + canvas_id);\n",
       "    })(modules[\"toyplot/canvas/id\"]);\n",
       "modules[\"toyplot.coordinates.Axis\"] = (\n",
       "        function(canvas)\n",
       "        {\n",
       "            function sign(x)\n",
       "            {\n",
       "                return x < 0 ? -1 : x > 0 ? 1 : 0;\n",
       "            }\n",
       "\n",
       "            function mix(a, b, amount)\n",
       "            {\n",
       "                return ((1.0 - amount) * a) + (amount * b);\n",
       "            }\n",
       "\n",
       "            function log(x, base)\n",
       "            {\n",
       "                return Math.log(Math.abs(x)) / Math.log(base);\n",
       "            }\n",
       "\n",
       "            function in_range(a, x, b)\n",
       "            {\n",
       "                var left = Math.min(a, b);\n",
       "                var right = Math.max(a, b);\n",
       "                return left <= x && x <= right;\n",
       "            }\n",
       "\n",
       "            function inside(range, projection)\n",
       "            {\n",
       "                for(var i = 0; i != projection.length; ++i)\n",
       "                {\n",
       "                    var segment = projection[i];\n",
       "                    if(in_range(segment.range.min, range, segment.range.max))\n",
       "                        return true;\n",
       "                }\n",
       "                return false;\n",
       "            }\n",
       "\n",
       "            function to_domain(range, projection)\n",
       "            {\n",
       "                for(var i = 0; i != projection.length; ++i)\n",
       "                {\n",
       "                    var segment = projection[i];\n",
       "                    if(in_range(segment.range.bounds.min, range, segment.range.bounds.max))\n",
       "                    {\n",
       "                        if(segment.scale == \"linear\")\n",
       "                        {\n",
       "                            var amount = (range - segment.range.min) / (segment.range.max - segment.range.min);\n",
       "                            return mix(segment.domain.min, segment.domain.max, amount)\n",
       "                        }\n",
       "                        else if(segment.scale[0] == \"log\")\n",
       "                        {\n",
       "                            var amount = (range - segment.range.min) / (segment.range.max - segment.range.min);\n",
       "                            var base = segment.scale[1];\n",
       "                            return sign(segment.domain.min) * Math.pow(base, mix(log(segment.domain.min, base), log(segment.domain.max, base), amount));\n",
       "                        }\n",
       "                    }\n",
       "                }\n",
       "            }\n",
       "\n",
       "            var axes = {};\n",
       "\n",
       "            function display_coordinates(e)\n",
       "            {\n",
       "                var current = canvas.createSVGPoint();\n",
       "                current.x = e.clientX;\n",
       "                current.y = e.clientY;\n",
       "\n",
       "                for(var axis_id in axes)\n",
       "                {\n",
       "                    var axis = document.querySelector(\"#\" + axis_id);\n",
       "                    var coordinates = axis.querySelector(\".toyplot-coordinates-Axis-coordinates\");\n",
       "                    if(coordinates)\n",
       "                    {\n",
       "                        var projection = axes[axis_id];\n",
       "                        var local = current.matrixTransform(axis.getScreenCTM().inverse());\n",
       "                        if(inside(local.x, projection))\n",
       "                        {\n",
       "                            var domain = to_domain(local.x, projection);\n",
       "                            coordinates.style.visibility = \"visible\";\n",
       "                            coordinates.setAttribute(\"transform\", \"translate(\" + local.x + \")\");\n",
       "                            var text = coordinates.querySelector(\"text\");\n",
       "                            text.textContent = domain.toFixed(2);\n",
       "                        }\n",
       "                        else\n",
       "                        {\n",
       "                            coordinates.style.visibility= \"hidden\";\n",
       "                        }\n",
       "                    }\n",
       "                }\n",
       "            }\n",
       "\n",
       "            canvas.addEventListener(\"click\", display_coordinates);\n",
       "\n",
       "            var module = {};\n",
       "            module.show_coordinates = function(axis_id, projection)\n",
       "            {\n",
       "                axes[axis_id] = projection;\n",
       "            }\n",
       "\n",
       "            return module;\n",
       "        })(modules[\"toyplot/canvas\"]);\n",
       "(function(axis, axis_id, projection)\n",
       "        {\n",
       "            axis.show_coordinates(axis_id, projection);\n",
       "        })(modules[\"toyplot.coordinates.Axis\"],\"t66daa0c9478640ccaa7f3d2ae5f1d30b\",[{\"domain\": {\"bounds\": {\"max\": Infinity, \"min\": -Infinity}, \"max\": 477437.93532856175, \"min\": -1181265.1348932262}, \"range\": {\"bounds\": {\"max\": Infinity, \"min\": -Infinity}, \"max\": 147.5, \"min\": 0.0}, \"scale\": \"linear\"}]);\n",
       "(function(axis, axis_id, projection)\n",
       "        {\n",
       "            axis.show_coordinates(axis_id, projection);\n",
       "        })(modules[\"toyplot.coordinates.Axis\"],\"t253506e0c4674ad2aa5c16dcf799a179\",[{\"domain\": {\"bounds\": {\"max\": Infinity, \"min\": -Infinity}, \"max\": 477437.93532856175, \"min\": -1181265.1348932262}, \"range\": {\"bounds\": {\"max\": Infinity, \"min\": -Infinity}, \"max\": 147.5, \"min\": 0.0}, \"scale\": \"linear\"}]);\n",
       "(function(axis, axis_id, projection)\n",
       "        {\n",
       "            axis.show_coordinates(axis_id, projection);\n",
       "        })(modules[\"toyplot.coordinates.Axis\"],\"t9a653345478842639a2e7e500c226883\",[{\"domain\": {\"bounds\": {\"max\": Infinity, \"min\": -Infinity}, \"max\": 477437.93532856175, \"min\": -1181265.1348932262}, \"range\": {\"bounds\": {\"max\": Infinity, \"min\": -Infinity}, \"max\": 147.5, \"min\": 0.0}, \"scale\": \"linear\"}]);\n",
       "(function(axis, axis_id, projection)\n",
       "        {\n",
       "            axis.show_coordinates(axis_id, projection);\n",
       "        })(modules[\"toyplot.coordinates.Axis\"],\"t8829ac10dd2a4408a26b55702db34dc2\",[{\"domain\": {\"bounds\": {\"max\": Infinity, \"min\": -Infinity}, \"max\": 477437.93532856175, \"min\": -1181265.1348932262}, \"range\": {\"bounds\": {\"max\": Infinity, \"min\": -Infinity}, \"max\": 147.5, \"min\": 0.0}, \"scale\": \"linear\"}]);\n",
       "})();</script></div></div>"
      ]
     },
     "metadata": {},
     "output_type": "display_data"
    }
   ],
   "source": [
    "# load all genealogies as Toytrees\n",
    "genealogies = toytree.mtree(model.df.genealogy[:4])\n",
    "\n",
    "# example genealogy\n",
    "genealogies.draw(scale_bar=True);"
   ]
  },
  {
   "cell_type": "markdown",
   "id": "6301662b",
   "metadata": {},
   "source": [
    "### Get embedding tables"
   ]
  },
  {
   "cell_type": "code",
   "execution_count": 18,
   "id": "85aab7ff",
   "metadata": {},
   "outputs": [
    {
     "ename": "AttributeError",
     "evalue": "'TreeEmbedding' object has no attribute 'table'",
     "output_type": "error",
     "traceback": [
      "\u001b[0;31m---------------------------------------------------------------------------\u001b[0m",
      "\u001b[0;31mAttributeError\u001b[0m                            Traceback (most recent call last)",
      "Cell \u001b[0;32mIn[18], line 2\u001b[0m\n\u001b[1;32m      1\u001b[0m gdata \u001b[38;5;241m=\u001b[39m ipcoal\u001b[38;5;241m.\u001b[39msmc\u001b[38;5;241m.\u001b[39mTreeEmbedding(model\u001b[38;5;241m.\u001b[39mtree, model\u001b[38;5;241m.\u001b[39mdf\u001b[38;5;241m.\u001b[39mgenealogy, imap)\n\u001b[0;32m----> 2\u001b[0m \u001b[43mgdata\u001b[49m\u001b[38;5;241;43m.\u001b[39;49m\u001b[43mtable\u001b[49m[gdata\u001b[38;5;241m.\u001b[39mtable\u001b[38;5;241m.\u001b[39mgindex \u001b[38;5;241m==\u001b[39m \u001b[38;5;241m0\u001b[39m]\n",
      "\u001b[0;31mAttributeError\u001b[0m: 'TreeEmbedding' object has no attribute 'table'"
     ]
    }
   ],
   "source": [
    "gdata = ipcoal.smc.TreeEmbedding(model.tree, model.df.genealogy, imap)"
   ]
  },
  {
   "cell_type": "code",
   "execution_count": 61,
   "id": "7aa25dd5",
   "metadata": {},
   "outputs": [
    {
     "data": {
      "text/html": [
       "<div>\n",
       "<style scoped>\n",
       "    .dataframe tbody tr th:only-of-type {\n",
       "        vertical-align: middle;\n",
       "    }\n",
       "\n",
       "    .dataframe tbody tr th {\n",
       "        vertical-align: top;\n",
       "    }\n",
       "\n",
       "    .dataframe thead th {\n",
       "        text-align: right;\n",
       "    }\n",
       "</style>\n",
       "<table border=\"1\" class=\"dataframe\">\n",
       "  <thead>\n",
       "    <tr style=\"text-align: right;\">\n",
       "      <th></th>\n",
       "      <th>start</th>\n",
       "      <th>stop</th>\n",
       "      <th>st_node</th>\n",
       "      <th>neff</th>\n",
       "      <th>nedges</th>\n",
       "      <th>dist</th>\n",
       "      <th>gindex</th>\n",
       "      <th>0</th>\n",
       "      <th>1</th>\n",
       "      <th>2</th>\n",
       "      <th>...</th>\n",
       "      <th>5</th>\n",
       "      <th>6</th>\n",
       "      <th>7</th>\n",
       "      <th>8</th>\n",
       "      <th>9</th>\n",
       "      <th>10</th>\n",
       "      <th>11</th>\n",
       "      <th>12</th>\n",
       "      <th>13</th>\n",
       "      <th>14</th>\n",
       "    </tr>\n",
       "  </thead>\n",
       "  <tbody>\n",
       "    <tr>\n",
       "      <th>100</th>\n",
       "      <td>0.000000</td>\n",
       "      <td>165552.050383</td>\n",
       "      <td>0</td>\n",
       "      <td>200000</td>\n",
       "      <td>4</td>\n",
       "      <td>165552.050383</td>\n",
       "      <td>10</td>\n",
       "      <td>0</td>\n",
       "      <td>0</td>\n",
       "      <td>0</td>\n",
       "      <td>...</td>\n",
       "      <td>1</td>\n",
       "      <td>1</td>\n",
       "      <td>1</td>\n",
       "      <td>0</td>\n",
       "      <td>0</td>\n",
       "      <td>0</td>\n",
       "      <td>0</td>\n",
       "      <td>0</td>\n",
       "      <td>0</td>\n",
       "      <td>0</td>\n",
       "    </tr>\n",
       "    <tr>\n",
       "      <th>101</th>\n",
       "      <td>165552.050383</td>\n",
       "      <td>166956.245877</td>\n",
       "      <td>0</td>\n",
       "      <td>200000</td>\n",
       "      <td>3</td>\n",
       "      <td>1404.195494</td>\n",
       "      <td>10</td>\n",
       "      <td>0</td>\n",
       "      <td>0</td>\n",
       "      <td>0</td>\n",
       "      <td>...</td>\n",
       "      <td>1</td>\n",
       "      <td>0</td>\n",
       "      <td>0</td>\n",
       "      <td>0</td>\n",
       "      <td>0</td>\n",
       "      <td>1</td>\n",
       "      <td>0</td>\n",
       "      <td>0</td>\n",
       "      <td>0</td>\n",
       "      <td>0</td>\n",
       "    </tr>\n",
       "    <tr>\n",
       "      <th>102</th>\n",
       "      <td>166956.245877</td>\n",
       "      <td>169403.470873</td>\n",
       "      <td>0</td>\n",
       "      <td>200000</td>\n",
       "      <td>2</td>\n",
       "      <td>2447.224996</td>\n",
       "      <td>10</td>\n",
       "      <td>0</td>\n",
       "      <td>0</td>\n",
       "      <td>0</td>\n",
       "      <td>...</td>\n",
       "      <td>0</td>\n",
       "      <td>0</td>\n",
       "      <td>0</td>\n",
       "      <td>0</td>\n",
       "      <td>0</td>\n",
       "      <td>0</td>\n",
       "      <td>1</td>\n",
       "      <td>0</td>\n",
       "      <td>0</td>\n",
       "      <td>0</td>\n",
       "    </tr>\n",
       "    <tr>\n",
       "      <th>103</th>\n",
       "      <td>169403.470873</td>\n",
       "      <td>500000.0</td>\n",
       "      <td>0</td>\n",
       "      <td>200000</td>\n",
       "      <td>1</td>\n",
       "      <td>330596.529127</td>\n",
       "      <td>10</td>\n",
       "      <td>0</td>\n",
       "      <td>0</td>\n",
       "      <td>0</td>\n",
       "      <td>...</td>\n",
       "      <td>0</td>\n",
       "      <td>0</td>\n",
       "      <td>0</td>\n",
       "      <td>0</td>\n",
       "      <td>0</td>\n",
       "      <td>0</td>\n",
       "      <td>0</td>\n",
       "      <td>1</td>\n",
       "      <td>0</td>\n",
       "      <td>0</td>\n",
       "    </tr>\n",
       "    <tr>\n",
       "      <th>104</th>\n",
       "      <td>0.000000</td>\n",
       "      <td>5339.012161</td>\n",
       "      <td>1</td>\n",
       "      <td>200000</td>\n",
       "      <td>4</td>\n",
       "      <td>5339.012161</td>\n",
       "      <td>10</td>\n",
       "      <td>1</td>\n",
       "      <td>1</td>\n",
       "      <td>1</td>\n",
       "      <td>...</td>\n",
       "      <td>0</td>\n",
       "      <td>0</td>\n",
       "      <td>0</td>\n",
       "      <td>0</td>\n",
       "      <td>0</td>\n",
       "      <td>0</td>\n",
       "      <td>0</td>\n",
       "      <td>0</td>\n",
       "      <td>0</td>\n",
       "      <td>0</td>\n",
       "    </tr>\n",
       "    <tr>\n",
       "      <th>105</th>\n",
       "      <td>5339.012161</td>\n",
       "      <td>39935.352168</td>\n",
       "      <td>1</td>\n",
       "      <td>200000</td>\n",
       "      <td>3</td>\n",
       "      <td>34596.340007</td>\n",
       "      <td>10</td>\n",
       "      <td>1</td>\n",
       "      <td>1</td>\n",
       "      <td>0</td>\n",
       "      <td>...</td>\n",
       "      <td>0</td>\n",
       "      <td>0</td>\n",
       "      <td>0</td>\n",
       "      <td>1</td>\n",
       "      <td>0</td>\n",
       "      <td>0</td>\n",
       "      <td>0</td>\n",
       "      <td>0</td>\n",
       "      <td>0</td>\n",
       "      <td>0</td>\n",
       "    </tr>\n",
       "    <tr>\n",
       "      <th>106</th>\n",
       "      <td>39935.352168</td>\n",
       "      <td>500000.0</td>\n",
       "      <td>1</td>\n",
       "      <td>200000</td>\n",
       "      <td>2</td>\n",
       "      <td>460064.647832</td>\n",
       "      <td>10</td>\n",
       "      <td>1</td>\n",
       "      <td>0</td>\n",
       "      <td>0</td>\n",
       "      <td>...</td>\n",
       "      <td>0</td>\n",
       "      <td>0</td>\n",
       "      <td>0</td>\n",
       "      <td>0</td>\n",
       "      <td>1</td>\n",
       "      <td>0</td>\n",
       "      <td>0</td>\n",
       "      <td>0</td>\n",
       "      <td>0</td>\n",
       "      <td>0</td>\n",
       "    </tr>\n",
       "    <tr>\n",
       "      <th>107</th>\n",
       "      <td>500000.000000</td>\n",
       "      <td>600215.02551</td>\n",
       "      <td>2</td>\n",
       "      <td>200000</td>\n",
       "      <td>3</td>\n",
       "      <td>100215.02551</td>\n",
       "      <td>10</td>\n",
       "      <td>1</td>\n",
       "      <td>0</td>\n",
       "      <td>0</td>\n",
       "      <td>...</td>\n",
       "      <td>0</td>\n",
       "      <td>0</td>\n",
       "      <td>0</td>\n",
       "      <td>0</td>\n",
       "      <td>1</td>\n",
       "      <td>0</td>\n",
       "      <td>0</td>\n",
       "      <td>1</td>\n",
       "      <td>0</td>\n",
       "      <td>0</td>\n",
       "    </tr>\n",
       "    <tr>\n",
       "      <th>108</th>\n",
       "      <td>600215.025510</td>\n",
       "      <td>983437.186931</td>\n",
       "      <td>2</td>\n",
       "      <td>200000</td>\n",
       "      <td>2</td>\n",
       "      <td>383222.161421</td>\n",
       "      <td>10</td>\n",
       "      <td>1</td>\n",
       "      <td>0</td>\n",
       "      <td>0</td>\n",
       "      <td>...</td>\n",
       "      <td>0</td>\n",
       "      <td>0</td>\n",
       "      <td>0</td>\n",
       "      <td>0</td>\n",
       "      <td>0</td>\n",
       "      <td>0</td>\n",
       "      <td>0</td>\n",
       "      <td>0</td>\n",
       "      <td>1</td>\n",
       "      <td>0</td>\n",
       "    </tr>\n",
       "    <tr>\n",
       "      <th>109</th>\n",
       "      <td>983437.186931</td>\n",
       "      <td>1000000000000</td>\n",
       "      <td>2</td>\n",
       "      <td>200000</td>\n",
       "      <td>1</td>\n",
       "      <td>1000000000000</td>\n",
       "      <td>10</td>\n",
       "      <td>0</td>\n",
       "      <td>0</td>\n",
       "      <td>0</td>\n",
       "      <td>...</td>\n",
       "      <td>0</td>\n",
       "      <td>0</td>\n",
       "      <td>0</td>\n",
       "      <td>0</td>\n",
       "      <td>0</td>\n",
       "      <td>0</td>\n",
       "      <td>0</td>\n",
       "      <td>0</td>\n",
       "      <td>0</td>\n",
       "      <td>1</td>\n",
       "    </tr>\n",
       "  </tbody>\n",
       "</table>\n",
       "<p>10 rows × 22 columns</p>\n",
       "</div>"
      ],
      "text/plain": [
       "             start           stop  st_node    neff  nedges           dist  \\\n",
       "100       0.000000  165552.050383        0  200000       4  165552.050383   \n",
       "101  165552.050383  166956.245877        0  200000       3    1404.195494   \n",
       "102  166956.245877  169403.470873        0  200000       2    2447.224996   \n",
       "103  169403.470873       500000.0        0  200000       1  330596.529127   \n",
       "104       0.000000    5339.012161        1  200000       4    5339.012161   \n",
       "105    5339.012161   39935.352168        1  200000       3   34596.340007   \n",
       "106   39935.352168       500000.0        1  200000       2  460064.647832   \n",
       "107  500000.000000   600215.02551        2  200000       3   100215.02551   \n",
       "108  600215.025510  983437.186931        2  200000       2  383222.161421   \n",
       "109  983437.186931  1000000000000        2  200000       1  1000000000000   \n",
       "\n",
       "     gindex  0  1  2  ...  5  6  7  8  9  10  11  12  13  14  \n",
       "100      10  0  0  0  ...  1  1  1  0  0   0   0   0   0   0  \n",
       "101      10  0  0  0  ...  1  0  0  0  0   1   0   0   0   0  \n",
       "102      10  0  0  0  ...  0  0  0  0  0   0   1   0   0   0  \n",
       "103      10  0  0  0  ...  0  0  0  0  0   0   0   1   0   0  \n",
       "104      10  1  1  1  ...  0  0  0  0  0   0   0   0   0   0  \n",
       "105      10  1  1  0  ...  0  0  0  1  0   0   0   0   0   0  \n",
       "106      10  1  0  0  ...  0  0  0  0  1   0   0   0   0   0  \n",
       "107      10  1  0  0  ...  0  0  0  0  1   0   0   1   0   0  \n",
       "108      10  1  0  0  ...  0  0  0  0  0   0   0   0   1   0  \n",
       "109      10  0  0  0  ...  0  0  0  0  0   0   0   0   0   1  \n",
       "\n",
       "[10 rows x 22 columns]"
      ]
     },
     "execution_count": 61,
     "metadata": {},
     "output_type": "execute_result"
    }
   ],
   "source": [
    "tdata = ipcoal.smc.TreeEmbedding(model.tree, model.df.genealogy, imap)"
   ]
  },
  {
   "cell_type": "markdown",
   "id": "4ea68ff0",
   "metadata": {},
   "source": [
    "### GRID"
   ]
  },
  {
   "cell_type": "code",
   "execution_count": 62,
   "id": "a8c19696",
   "metadata": {},
   "outputs": [
    {
     "data": {
      "text/plain": [
       "array([ 10000.,  23000.,  36000.,  49000.,  62000.,  75000.,  88000.,\n",
       "       101000., 114000., 127000., 140000., 153000., 166000., 179000.,\n",
       "       192000., 205000., 218000., 231000., 244000., 257000., 270000.,\n",
       "       283000., 296000., 309000., 322000., 335000., 348000., 361000.,\n",
       "       374000., 387000., 400000.])"
      ]
     },
     "execution_count": 62,
     "metadata": {},
     "output_type": "execute_result"
    }
   ],
   "source": [
    "np.linspace(10_000, 400_000, 31)"
   ]
  },
  {
   "cell_type": "code",
   "execution_count": 63,
   "id": "3d360cf8",
   "metadata": {},
   "outputs": [
    {
     "data": {
      "text/plain": [
       "array([1.0e-09, 1.3e-09, 1.6e-09, 1.9e-09, 2.2e-09, 2.5e-09, 2.8e-09,\n",
       "       3.1e-09, 3.4e-09, 3.7e-09, 4.0e-09, 4.3e-09, 4.6e-09, 4.9e-09,\n",
       "       5.2e-09, 5.5e-09, 5.8e-09, 6.1e-09, 6.4e-09, 6.7e-09, 7.0e-09,\n",
       "       7.3e-09, 7.6e-09, 7.9e-09, 8.2e-09, 8.5e-09, 8.8e-09, 9.1e-09,\n",
       "       9.4e-09, 9.7e-09, 1.0e-08])"
      ]
     },
     "execution_count": 63,
     "metadata": {},
     "output_type": "execute_result"
    }
   ],
   "source": [
    "np.linspace(1e-9, 10e-9, 31)"
   ]
  },
  {
   "cell_type": "code",
   "execution_count": 64,
   "id": "b561975a",
   "metadata": {},
   "outputs": [],
   "source": [
    "def get_likelihood_surface(\n",
    "    topology: bool,\n",
    "    embedding: ipcoal.smc.likelihood.Embedding,\n",
    "    lengths: np.ndarray,\n",
    "    min_neff: int = 10_000,\n",
    "    max_neff: int = 400_000,\n",
    "    min_recomb: float = 0.1e-9,\n",
    "    max_recomb: float = 10e-9,\n",
    "    n_values: int=21,\n",
    "    #n_recomb_values: int=11,\n",
    "    ):\n",
    "    \"\"\"Return an array of log likelihood scores for a grid of parameters.\n",
    "    \n",
    "    \"\"\"\n",
    "    neffs = np.linspace(min_neff, max_neff, n_values)\n",
    "    recos = np.linspace(min_recomb, max_recomb, n_values)\n",
    "    X, Y = np.meshgrid(neffs, recos)\n",
    "    Z = np.zeros(X.shape)\n",
    "       \n",
    "    for i, neff in enumerate(neffs):\n",
    "        \n",
    "        ipcoal.smc.likelihood.ms_smc_jit._update_neffs(embedding.earr, np.array([neff, neff, neff]))\n",
    "        if topology:\n",
    "            earr, barr, sarr, rarr = embedding.get_data()\n",
    "            rates = ipcoal.smc.likelihood.ms_smc_jit.get_fast_waiting_distance_to_topology_change_rates(earr, barr, sarr, rarr, 1)\n",
    "        else:\n",
    "            earr, barr, sarr = embedding.get_data()\n",
    "            rates = ipcoal.smc.likelihood.ms_smc_jit.get_fast_waiting_distance_to_tree_change_rates(earr, barr, sarr, 1)\n",
    "\n",
    "        for j, rec in enumerate(recos):\n",
    "            lambdas = rates * rec         \n",
    "            Z[i, j] = -np.sum(stats.expon.logpdf(scale=1/lambdas, x=lengths))\n",
    "            #print(f\"{i}\\t{j}\\t{neff:.0f}\\t{rec:1.2g}\\t{Z[i,j]:.0f}\")\n",
    "    return X, Y, Z"
   ]
  },
  {
   "cell_type": "code",
   "execution_count": 65,
   "id": "ee1982ff",
   "metadata": {},
   "outputs": [],
   "source": [
    "def get_combined_likelihood_surface(\n",
    "    tree_embedding: ipcoal.smc.likelihood.TreeEmbedding,\n",
    "    topo_embedding: ipcoal.smc.likelihood.TreeEmbedding,\n",
    "    tree_lengths: np.ndarray,\n",
    "    topo_lengths: np.ndarray,\n",
    "    min_neff: int = 10_000,\n",
    "    max_neff: int = 400_000,\n",
    "    min_recomb: float = 0.1e-9,\n",
    "    max_recomb: float = 10e-9,\n",
    "    n_values: int=21,\n",
    "    #n_recomb_values: int=11,\n",
    "    ):\n",
    "    \"\"\"Return an array of log likelihood scores for a grid of parameters.\n",
    "    \n",
    "    \"\"\"\n",
    "    neffs = np.linspace(min_neff, max_neff, n_values)\n",
    "    recos = np.linspace(min_recomb, max_recomb, n_values)\n",
    "    X, Y = np.meshgrid(neffs, recos)\n",
    "    Z = np.zeros(X.shape)\n",
    "       \n",
    "    for i, neff in enumerate(neffs):\n",
    "        \n",
    "        ipcoal.smc.likelihood.ms_smc_jit._update_neffs(tree_embedding.earr, np.array([neff, neff, neff]))\n",
    "        ipcoal.smc.likelihood.ms_smc_jit._update_neffs(topo_embedding.earr, np.array([neff, neff, neff]))\n",
    "\n",
    "        earr, barr, sarr, rarr = topo_embedding.get_data()\n",
    "        topo_rates = ipcoal.smc.likelihood.ms_smc_jit.get_fast_waiting_distance_to_topology_change_rates(earr, barr, sarr, rarr, 1)\n",
    "        \n",
    "        earr, barr, sarr = tree_embedding.get_data()\n",
    "        tree_rates = ipcoal.smc.likelihood.ms_smc_jit.get_fast_waiting_distance_to_tree_change_rates(earr, barr, sarr, 1)\n",
    "\n",
    "        for j, rec in enumerate(recos):\n",
    "            topo_lambdas = topo_rates * rec    \n",
    "            tree_lambdas = tree_rates * rec\n",
    "            topo_loglik = -np.sum(stats.expon.logpdf(scale=1/topo_lambdas, x=topo_lengths))\n",
    "            tree_loglik = -np.sum(stats.expon.logpdf(scale=1/tree_lambdas, x=tree_lengths))\n",
    "            Z[i, j] = topo_loglik + tree_loglik\n",
    "            #print(f\"{i}\\t{j}\\t{neff:.0f}\\t{rec:1.2g}\\t{Z[i,j]:.0f}\")\n",
    "    return X, Y, Z"
   ]
  },
  {
   "cell_type": "code",
   "execution_count": 66,
   "id": "411373c4",
   "metadata": {},
   "outputs": [],
   "source": [
    "def plot_likelihood_surface(x, y, z, levels=20, title=\"\", vmin=None):\n",
    "    fig, ax = plt.subplots()\n",
    "    cs = ax.contourf(x, y, -z, levels=levels, cmap='viridis', vmin=vmin, linestyles='solid')\n",
    "    ma = ax.scatter(NEFF, RECOMB, marker=\"x\", s=50)\n",
    "    cbar = fig.colorbar(cs, label=\"log likelihood\")\n",
    "    ax.set_ylabel('Recombination rate (r)', fontsize=16)\n",
    "    ax.set_xlabel('Diploid N$_e$', fontsize=16);\n",
    "    ax.set_xticks([200_000, 400_000, 600_000, 800_000])\n",
    "    ax.set_title(title, fontsize=16, pad=15)\n",
    "    return fig, ax, (cs, ma, cbar)"
   ]
  },
  {
   "cell_type": "markdown",
   "id": "faec65e8",
   "metadata": {},
   "source": [
    "## Calculate combined information likelihood"
   ]
  },
  {
   "cell_type": "code",
   "execution_count": 69,
   "id": "7848986c",
   "metadata": {},
   "outputs": [],
   "source": [
    "cx, cy, cz = get_combined_likelihood_surface(\n",
    "    min_neff=50_000, max_neff=800_000, n_values=41,\n",
    "    min_recomb=1e-9, max_recomb=3e-9,\n",
    "    tree_embedding=gdata, \n",
    "    tree_lengths=tree_lengths,\n",
    "    topo_embedding=tdata,\n",
    "    topo_lengths=topo_lengths,\n",
    ")"
   ]
  },
  {
   "cell_type": "markdown",
   "id": "0357784d",
   "metadata": {},
   "source": [
    "### Plot combined info likelihood surface"
   ]
  },
  {
   "cell_type": "code",
   "execution_count": 75,
   "id": "707e87d7",
   "metadata": {},
   "outputs": [
    {
     "data": {
      "image/png": "[encoded data removed]",
      "text/plain": [
       "<Figure size 432x288 with 2 Axes>"
      ]
     },
     "metadata": {
      "needs_background": "light"
     },
     "output_type": "display_data"
    }
   ],
   "source": [
    "fig, _, _ = plot_likelihood_surface(\n",
    "    cx, cy, cz.T, \n",
    "    levels=50, \n",
    "    vmin=-cz.max() + (cz.max() - cz.min()) / 2,\n",
    "    title=\"Combined info likelihood surface\",\n",
    ");\n",
    "#fig.savefig('../manuscript/figures/likelihood-surface-combined-final.jpg')\n",
    "#fig.savefig('../manuscript/figures/likelihood-surface-combined-final.svg')"
   ]
  },
  {
   "cell_type": "markdown",
   "id": "f09a3f55",
   "metadata": {},
   "source": [
    "### Topology distance likelihood surface"
   ]
  },
  {
   "cell_type": "code",
   "execution_count": 72,
   "id": "6d6c26e7",
   "metadata": {
    "scrolled": true
   },
   "outputs": [],
   "source": [
    "tx, ty, tz = get_likelihood_surface(\n",
    "    min_neff=50_000, max_neff=800_000, n_values=41,\n",
    "    min_recomb=1e-9, max_recomb=3e-9,\n",
    "    topology=True, \n",
    "    embedding=tdata, \n",
    "    lengths=topo_lengths)"
   ]
  },
  {
   "cell_type": "code",
   "execution_count": 77,
   "id": "4b0382e7",
   "metadata": {},
   "outputs": [
    {
     "data": {
      "image/png": "[encoded data removed]",
      "text/plain": [
       "<Figure size 432x288 with 2 Axes>"
      ]
     },
     "metadata": {
      "needs_background": "light"
     },
     "output_type": "display_data"
    }
   ],
   "source": [
    "fig, _, _ = plot_likelihood_surface(\n",
    "    tx, ty, tz.T,\n",
    "    levels=50, \n",
    "    vmin=-tz.max() + (tz.max() - tz.min()) / 2,\n",
    "    title=\"Topology distance likelihood surface\",\n",
    ");\n",
    "#fig.savefig('../manuscript/figures/likelihood-surface-topodist-final.jpg')\n",
    "#fig.savefig('../manuscript/figures/likelihood-surface-topodist-final.svg')"
   ]
  },
  {
   "cell_type": "markdown",
   "id": "f78911d2",
   "metadata": {},
   "source": [
    "### Tree distance likelihood surface"
   ]
  },
  {
   "cell_type": "code",
   "execution_count": 78,
   "id": "48064136",
   "metadata": {},
   "outputs": [],
   "source": [
    "gx, gy, gz = get_likelihood_surface(\n",
    "    min_neff=50_000, max_neff=800_000, n_values=41,\n",
    "    min_recomb=1e-9, max_recomb=3e-9,\n",
    "    topology=False, \n",
    "    embedding=gdata, \n",
    "    lengths=tree_lengths)"
   ]
  },
  {
   "cell_type": "code",
   "execution_count": 82,
   "id": "f58cc2b5",
   "metadata": {},
   "outputs": [
    {
     "data": {
      "image/png": "[encoded data removed]",
      "text/plain": [
       "<Figure size 432x288 with 2 Axes>"
      ]
     },
     "metadata": {
      "needs_background": "light"
     },
     "output_type": "display_data"
    }
   ],
   "source": [
    "fig, _, _ = plot_likelihood_surface(\n",
    "    gx, gy, gz.T,\n",
    "    levels=50, \n",
    "    vmin=-gz.max() + (gz.max() - gz.min()) / 2,\n",
    "    title=\"Tree distance likelihood surface\");\n",
    "#fig.savefig('../manuscript/figures/likelihood-surface-treedist-final.jpg')\n",
    "#fig.savefig('../manuscript/figures/likelihood-surface-treedist-final.svg')"
   ]
  },
  {
   "cell_type": "markdown",
   "id": "4a051238",
   "metadata": {},
   "source": [
    "# Compare to when the MSC model is incorrect\n",
    "\n",
    "What if we try to estimate parameters from genealogies generated under a 2-population model but fit to a single population model? This is analogous to when studying an organism with population structure but ignoring the structure. "
   ]
  },
  {
   "cell_type": "code",
   "execution_count": 83,
   "id": "036467f7",
   "metadata": {},
   "outputs": [],
   "source": [
    "# embed genealogies into a single population model\n",
    "single_pop = toytree.tree(\"(p);\").set_node_data(\"Ne\", default=200_000)\n",
    "new_imap = {'p': sorted(set.union(*[set(i) for i in imap.values()]))}"
   ]
  },
  {
   "cell_type": "code",
   "execution_count": 85,
   "id": "4acd83d1",
   "metadata": {},
   "outputs": [],
   "source": [
    "bdata_tree = ipcoal.smc.likelihood.TreeEmbedding(single_pop, genealogies, imap=new_imap)"
   ]
  },
  {
   "cell_type": "code",
   "execution_count": 86,
   "id": "84d83c25",
   "metadata": {},
   "outputs": [],
   "source": [
    "bdata_topo = ipcoal.smc.likelihood.TopologyEmbedding(single_pop, genealogies, imap=new_imap)"
   ]
  },
  {
   "cell_type": "code",
   "execution_count": 89,
   "id": "a8f2e211",
   "metadata": {},
   "outputs": [],
   "source": [
    "bcx, bcy, bcz = get_combined_likelihood_surface(\n",
    "    min_neff=50_000, max_neff=800_000, n_values=41,\n",
    "    min_recomb=1e-9, max_recomb=3e-9,\n",
    "    tree_embedding=bdata_tree, \n",
    "    tree_lengths=tree_lengths,\n",
    "    topo_embedding=bdata_topo,\n",
    "    topo_lengths=topo_lengths,\n",
    ")"
   ]
  },
  {
   "cell_type": "code",
   "execution_count": 91,
   "id": "6595e323",
   "metadata": {},
   "outputs": [
    {
     "data": {
      "image/png": "[encoded data removed]",
      "text/plain": [
       "<Figure size 432x288 with 2 Axes>"
      ]
     },
     "metadata": {
      "needs_background": "light"
     },
     "output_type": "display_data"
    }
   ],
   "source": [
    "fig, _, _ = plot_likelihood_surface(\n",
    "    bcx, bcy, bcz.T,\n",
    "    levels=50,\n",
    "    vmin=-bcz.max() + (bcz.max() - bcz.min()) / 2,\n",
    "    title=\"Incorrect Model tree likelihood surface\",\n",
    ");\n",
    "#fig.savefig('../manuscript/figures/likelihood-surface-treedist-incorrect-final.jpg')\n",
    "#fig.savefig('../manuscript/figures/likelihood-surface-treedist-incorrect-final.svg')"
   ]
  },
  {
   "cell_type": "code",
   "execution_count": null,
   "id": "a0443594",
   "metadata": {},
   "outputs": [],
   "source": []
  },
  {
   "cell_type": "code",
   "execution_count": null,
   "id": "aea49567",
   "metadata": {},
   "outputs": [],
   "source": []
  }
 ],
 "metadata": {
  "kernelspec": {
   "display_name": "Python 3 (ipykernel)",
   "language": "python",
   "name": "python3"
  },
  "language_info": {
   "codemirror_mode": {
    "name": "ipython",
    "version": 3
   },
   "file_extension": ".py",
   "mimetype": "text/x-python",
   "name": "python",
   "nbconvert_exporter": "python",
   "pygments_lexer": "ipython3",
   "version": "3.10.11"
  }
 },
 "nbformat": 4,
 "nbformat_minor": 5
}
