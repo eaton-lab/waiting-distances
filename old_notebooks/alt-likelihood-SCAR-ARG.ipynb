{
 "cells": [
  {
   "cell_type": "markdown",
   "id": "3478717a",
   "metadata": {},
   "source": [
    "# Compute ARG likelihood similar to SCAR\n",
    "\n",
    "exploring ideas from the paper \"Recombination-aware phylogeographic inference using the structured coalescent with ancestral recombination\""
   ]
  },
  {
   "cell_type": "code",
   "execution_count": 1,
   "id": "8d6d6273",
   "metadata": {},
   "outputs": [],
   "source": [
    "import ipcoal\n",
    "import toytree\n",
    "import numpy as np\n",
    "import pandas as pd"
   ]
  },
  {
   "cell_type": "markdown",
   "id": "83b937c6",
   "metadata": {},
   "source": [
    "### Get species tree and embedded genealogy"
   ]
  },
  {
   "cell_type": "code",
   "execution_count": 2,
   "id": "063046a0-6deb-4fa7-9762-ec6cb171e5a3",
   "metadata": {},
   "outputs": [],
   "source": [
    "# 1. simulate a true ARG for 1Mb with N (interval, tree) pairs\n",
    "# 2. create many modifications of this where intervals boundaries are shifted/merged/split\n",
    "# 3. create many modifications where node heights are shifted\n",
    "# 4. create many modifications with both shifted\n",
    "# 5. calculate logliks of each. The true should always be best. "
   ]
  },
  {
   "cell_type": "code",
   "execution_count": 14,
   "id": "4921dd36-e43d-4622-9339-18709965945d",
   "metadata": {},
   "outputs": [
    {
     "data": {
      "text/plain": [
       "array([1000.        ,  102.30258509,   14.60517019,    7.90775528,\n",
       "          9.31034037,   11.52292546])"
      ]
     },
     "execution_count": 14,
     "metadata": {},
     "output_type": "execute_result"
    }
   ],
   "source": [
    "from scipy import stats\n",
    "-stats.expon.logpdf(scale=[1, 10, 100, 1000, 10000, 100000], x=1000)"
   ]
  },
  {
   "cell_type": "code",
   "execution_count": 4,
   "id": "3a9480ce-bf53-46d1-abbd-a66a6fc9347c",
   "metadata": {},
   "outputs": [
    {
     "name": "stdout",
     "output_type": "stream",
     "text": [
      "7083 trees\n",
      "6.930987710077821\n",
      "8000.0 6.790637677921562\n",
      "10000.0 6.792751956508505\n",
      "50000.0 6.831524674388762\n",
      "100000.0 6.871400242694788\n",
      "200000.0 6.930987710077821\n",
      "500000.0 7.0292066287870645\n",
      "7083 trees with mod heights\n",
      "6.9309885756157215\n",
      "7079 trees with mod spans\n",
      "6.931300100262252\n"
     ]
    }
   ],
   "source": [
    "sptree = toytree.rtree.baltree(2, treeheight=5e5)\n",
    "sptree.set_node_data(\"Ne\", default=2e5, inplace=True)\n",
    "model = ipcoal.Model(sptree, nsamples=8, discrete_genome=False, ancestry_model=\"smc_prime\", seed_trees=123, recomb=2e-9)\n",
    "model.sim_trees(1, 1e6)\n",
    "\n",
    "from ipcoal.smc.src.utils import get_ms_smc_data_from_model\n",
    "tree_spans, topo_spans, topo_idxs, genealogies = get_ms_smc_data_from_model(model)\n",
    "\n",
    "spans = list(tree_spans)\n",
    "G = ipcoal.smc.TreeEmbedding(model.tree, genealogies, model.get_imap_dict(), nproc=4)\n",
    "\n",
    "# \n",
    "print(len(genealogies), 'trees')\n",
    "sloglik = ipcoal.smc.get_ms_smc_loglik_from_embedding(G, 2e-9, np.array(spans), normalize=True)\n",
    "print(sloglik)\n",
    "\n",
    "\n",
    "# comparing different models to the same data, weight each interval equally\n",
    "for ne in [8e3, 1e4, 5e4, 1e5, 2e5, 5e5]:\n",
    "    G._update_neffs(np.array([ne, ne, ne]))\n",
    "    #sloglik2 = ipcoal.smc.get_ms_smc_loglik_from_embedding(\n",
    "    #    G, 2e-9, event_type=2, lengths=np.array(topo_spans), idxs=np.array(topo_idxs), normalize=0)\n",
    "    sloglik2 = ipcoal.smc.get_ms_smc_loglik_from_embedding(\n",
    "        G, 2e-9, event_type=1, lengths=np.array(tree_spans), normalize=1)\n",
    "    print(ne, sloglik2)\n",
    "\n",
    "# comparing different data to the same model, weight each interval by its proportional length\n",
    "sptree.set_node_data(\"Ne\", default=2e5, inplace=True)\n",
    "for idx in [99, 150, 300, 500]:\n",
    "    genealogies[idx].set_node_data(\"height\", {genealogies[idx][-1]: genealogies[idx][-1].height + 5000}, inplace=True)\n",
    "print(len(genealogies), 'trees with mod heights')\n",
    "sloglik = ipcoal.smc.get_ms_smc_loglik(sptree, genealogies, model.get_imap_dict(), 2e-9, spans, normalize=True)\n",
    "print(sloglik)\n",
    "\n",
    "# ...\n",
    "for idx in [40, 60, 80, 100]:\n",
    "    genealogies.pop(idx)\n",
    "    spans[idx - 1] += spans.pop(idx)\n",
    "print(len(genealogies), 'trees with mod spans')\n",
    "sloglik = ipcoal.smc.get_ms_smc_loglik(sptree, genealogies, model.get_imap_dict(), 2e-9, spans, normalize=True)\n",
    "print(sloglik)\n"
   ]
  },
  {
   "cell_type": "code",
   "execution_count": 4,
   "id": "36437ff1-2a95-49a0-ac52-5e2b12a5f61b",
   "metadata": {},
   "outputs": [
    {
     "data": {
      "text/plain": [
       "[33323.073187617374, 33323.073187617374, 33323.073187617374]"
      ]
     },
     "execution_count": 4,
     "metadata": {},
     "output_type": "execute_result"
    }
   ],
   "source": [
    "[sum(spans) / 3, sum(spans) / 3, sum(spans) / 3]"
   ]
  },
  {
   "cell_type": "code",
   "execution_count": 5,
   "id": "5ea28fca-a3cd-455a-be66-05c37a996236",
   "metadata": {},
   "outputs": [
    {
     "data": {
      "text/plain": [
       "[<toytree.ToyTree at 0x7fb12f40a110>,\n",
       " <toytree.ToyTree at 0x7fb12f4091e0>,\n",
       " <toytree.ToyTree at 0x7fb12f4125f0>]"
      ]
     },
     "execution_count": 5,
     "metadata": {},
     "output_type": "execute_result"
    }
   ],
   "source": [
    "genealogies[:3]"
   ]
  },
  {
   "cell_type": "code",
   "execution_count": 9,
   "id": "3810a024-2eea-413a-985d-37b46cc0d65c",
   "metadata": {},
   "outputs": [
    {
     "data": {
      "text/plain": [
       "278.17359709429275"
      ]
     },
     "execution_count": 9,
     "metadata": {},
     "output_type": "execute_result"
    }
   ],
   "source": [
    "ipcoal.smc.get_ms_smc_loglik(sptree, genealogies[:3], model.get_imap_dict(), 2e-9, lengths=[33333, 33333, 33333], normalize=1)"
   ]
  },
  {
   "cell_type": "code",
   "execution_count": 10,
   "id": "1570adf5-f6e1-4268-9a6f-74853ba26608",
   "metadata": {},
   "outputs": [
    {
     "data": {
      "text/plain": [
       "416.9319098927417"
      ]
     },
     "execution_count": 10,
     "metadata": {},
     "output_type": "execute_result"
    }
   ],
   "source": [
    "ipcoal.smc.get_ms_smc_loglik(sptree, genealogies[:2], model.get_imap_dict(), 2e-9, lengths=[50000, 50000], normalize=1)"
   ]
  },
  {
   "cell_type": "code",
   "execution_count": 8,
   "id": "0621649d-b359-496b-b5e3-2ea14f91c452",
   "metadata": {},
   "outputs": [
    {
     "data": {
      "text/plain": [
       "8.919984680646579"
      ]
     },
     "execution_count": 8,
     "metadata": {},
     "output_type": "execute_result"
    }
   ],
   "source": [
    "ipcoal.smc.get_ms_smc_loglik(sptree, genealogies[:2], model.get_imap_dict(), 2e-9, lengths=[500, 500], normalize=1)"
   ]
  },
  {
   "cell_type": "code",
   "execution_count": 39,
   "id": "54fb80a7-db78-4447-9d58-e840a754e99f",
   "metadata": {},
   "outputs": [
    {
     "data": {
      "text/plain": [
       "834.2765565446084"
      ]
     },
     "execution_count": 39,
     "metadata": {},
     "output_type": "execute_result"
    }
   ],
   "source": [
    "ipcoal.smc.get_ms_smc_loglik(sptree, genealogies[:3], model.get_imap_dict(), \n",
    "                             recombination_rate=2e-9, \n",
    "                             lengths=[sum(spans) / 3, sum(spans) / 3, sum(spans) / 3], \n",
    "                             normalize=0\n",
    "                            )"
   ]
  },
  {
   "cell_type": "code",
   "execution_count": 528,
   "id": "9cbcc5e5-17cc-4f93-8aad-6c2181db5906",
   "metadata": {},
   "outputs": [
    {
     "data": {
      "text/html": [
       "<div class=\"toyplot\" id=\"t79fcbf5a12ed49708ee933c11dcd574b\" style=\"text-align:center\"><svg class=\"toyplot-canvas-Canvas\" xmlns:toyplot=\"http://www.sandia.gov/toyplot\" xmlns:xlink=\"http://www.w3.org/1999/xlink\" xmlns=\"http://www.w3.org/2000/svg\" width=\"300.0px\" height=\"300.0px\" viewBox=\"0 0 300.0 300.0\" preserveAspectRatio=\"xMidYMid meet\" style=\"background-color:transparent;border-color:#292724;border-style:none;border-width:1.0;fill:rgb(16.1%,15.3%,14.1%);fill-opacity:1.0;font-family:Helvetica;font-size:12px;opacity:1.0;stroke:rgb(16.1%,15.3%,14.1%);stroke-opacity:1.0;stroke-width:1.0\" id=\"ta2ed1fac1893440da260a919e1b24804\"><g class=\"toyplot-coordinates-Cartesian\" id=\"t86e8f8f8cb1543cd875024ea0e9391b7\"><clipPath id=\"t88edb493e59048edb82c82acc57a9305\"><rect x=\"35.0\" y=\"35.0\" width=\"230.0\" height=\"230.0\"></rect></clipPath><g clip-path=\"url(#t88edb493e59048edb82c82acc57a9305)\"><g class=\"toytree-mark-Toytree\" id=\"tc54973b152eb4718ab02f5d23ec60243\"><g class=\"toytree-Edges\" style=\"stroke:rgb(14.5%,14.5%,14.5%);stroke-opacity:1.0;stroke-linecap:round;stroke-width:2.0;fill:none\"><path d=\"M 71.0 194.1 L 57.8 195.5\" id=\"8,0\" style=\"\"></path><path d=\"M 71.0 194.1 L 84.2 195.5\" id=\"8,1\" style=\"\"></path><path d=\"M 123.7 186.8 L 110.5 195.5\" id=\"9,2\" style=\"\"></path><path d=\"M 123.7 186.8 L 136.8 195.5\" id=\"9,3\" style=\"\"></path><path d=\"M 186.2 82.6 L 163.2 195.5\" id=\"13,4\" style=\"\"></path><path d=\"M 209.2 166.0 L 189.5 195.5\" id=\"12,5\" style=\"\"></path><path d=\"M 229.0 191.4 L 215.8 195.5\" id=\"11,6\" style=\"\"></path><path d=\"M 229.0 191.4 L 242.2 195.5\" id=\"11,7\" style=\"\"></path><path d=\"M 97.3 176.1 L 71.0 194.1\" id=\"10,8\" style=\"\"></path><path d=\"M 97.3 176.1 L 123.7 186.8\" id=\"10,9\" style=\"\"></path><path d=\"M 141.8 55.9 L 97.3 176.1\" id=\"14,10\" style=\"\"></path><path d=\"M 209.2 166.0 L 229.0 191.4\" id=\"12,11\" style=\"\"></path><path d=\"M 186.2 82.6 L 209.2 166.0\" id=\"13,12\" style=\"\"></path><path d=\"M 141.8 55.9 L 186.2 82.6\" id=\"14,13\" style=\"\"></path></g><g class=\"toytree-AdmixEdges\" style=\"fill:rgb(0.0%,0.0%,0.0%);fill-opacity:0.0;stroke:rgb(90.6%,54.1%,76.5%);stroke-opacity:0.6;font-size:14px;stroke-linecap:round;stroke-width:5\"></g><g class=\"toytree-Nodes\" style=\"fill:rgb(40.0%,76.1%,64.7%);fill-opacity:1.0;stroke:rgb(14.5%,14.5%,14.5%);stroke-opacity:1.0;stroke-width:1.0\"><g id=\"Node-0\" transform=\"translate(57.8341,195.538)\"><circle r=\"7.5\"></circle></g><g id=\"Node-1\" transform=\"translate(84.1672,195.538)\"><circle r=\"7.5\"></circle></g><g id=\"Node-2\" transform=\"translate(110.5,195.538)\"><circle r=\"7.5\"></circle></g><g id=\"Node-3\" transform=\"translate(136.833,195.538)\"><circle r=\"7.5\"></circle></g><g id=\"Node-4\" transform=\"translate(163.167,195.538)\"><circle r=\"7.5\"></circle></g><g id=\"Node-5\" transform=\"translate(189.5,195.538)\"><circle r=\"7.5\"></circle></g><g id=\"Node-6\" transform=\"translate(215.833,195.538)\"><circle r=\"7.5\"></circle></g><g id=\"Node-7\" transform=\"translate(242.166,195.538)\"><circle r=\"7.5\"></circle></g><g id=\"Node-8\" transform=\"translate(71.0007,194.106)\"><circle r=\"7.5\"></circle></g><g id=\"Node-9\" transform=\"translate(123.667,186.832)\"><circle r=\"7.5\"></circle></g><g id=\"Node-10\" transform=\"translate(97.3338,176.131)\"><circle r=\"7.5\"></circle></g><g id=\"Node-11\" transform=\"translate(228.999,191.418)\"><circle r=\"7.5\"></circle></g><g id=\"Node-12\" transform=\"translate(209.25,166.01)\"><circle r=\"7.5\"></circle></g><g id=\"Node-13\" transform=\"translate(186.208,82.5922)\"><circle r=\"7.5\"></circle></g><g id=\"Node-14\" transform=\"translate(141.771,55.9332)\"><circle r=\"7.5\"></circle></g></g><g class=\"toytree-NodeLabels\" style=\"font-family:Helvetica;font-size:9px;font-weight:300;vertical-align:baseline;white-space:pre;stroke:none\"><g class=\"toytree-NodeLabel\" transform=\"translate(57.8341,195.538)\"><text x=\"-2.5020000000000002\" y=\"2.2995\" style=\"fill:rgb(14.5%,14.5%,14.5%);fill-opacity:1.0\">0</text></g><g class=\"toytree-NodeLabel\" transform=\"translate(84.1672,195.538)\"><text x=\"-2.5020000000000002\" y=\"2.2995\" style=\"fill:rgb(14.5%,14.5%,14.5%);fill-opacity:1.0\">1</text></g><g class=\"toytree-NodeLabel\" transform=\"translate(110.5,195.538)\"><text x=\"-2.5020000000000002\" y=\"2.2995\" style=\"fill:rgb(14.5%,14.5%,14.5%);fill-opacity:1.0\">2</text></g><g class=\"toytree-NodeLabel\" transform=\"translate(136.833,195.538)\"><text x=\"-2.5020000000000002\" y=\"2.2995\" style=\"fill:rgb(14.5%,14.5%,14.5%);fill-opacity:1.0\">3</text></g><g class=\"toytree-NodeLabel\" transform=\"translate(163.167,195.538)\"><text x=\"-2.5020000000000002\" y=\"2.2995\" style=\"fill:rgb(14.5%,14.5%,14.5%);fill-opacity:1.0\">4</text></g><g class=\"toytree-NodeLabel\" transform=\"translate(189.5,195.538)\"><text x=\"-2.5020000000000002\" y=\"2.2995\" style=\"fill:rgb(14.5%,14.5%,14.5%);fill-opacity:1.0\">5</text></g><g class=\"toytree-NodeLabel\" transform=\"translate(215.833,195.538)\"><text x=\"-2.5020000000000002\" y=\"2.2995\" style=\"fill:rgb(14.5%,14.5%,14.5%);fill-opacity:1.0\">6</text></g><g class=\"toytree-NodeLabel\" transform=\"translate(242.166,195.538)\"><text x=\"-2.5020000000000002\" y=\"2.2995\" style=\"fill:rgb(14.5%,14.5%,14.5%);fill-opacity:1.0\">7</text></g><g class=\"toytree-NodeLabel\" transform=\"translate(71.0007,194.106)\"><text x=\"-2.5020000000000002\" y=\"2.2995\" style=\"fill:rgb(14.5%,14.5%,14.5%);fill-opacity:1.0\">8</text></g><g class=\"toytree-NodeLabel\" transform=\"translate(123.667,186.832)\"><text x=\"-2.5020000000000002\" y=\"2.2995\" style=\"fill:rgb(14.5%,14.5%,14.5%);fill-opacity:1.0\">9</text></g><g class=\"toytree-NodeLabel\" transform=\"translate(97.3338,176.131)\"><text x=\"-5.0040000000000004\" y=\"2.2995\" style=\"fill:rgb(14.5%,14.5%,14.5%);fill-opacity:1.0\">10</text></g><g class=\"toytree-NodeLabel\" transform=\"translate(228.999,191.418)\"><text x=\"-5.0040000000000004\" y=\"2.2995\" style=\"fill:rgb(14.5%,14.5%,14.5%);fill-opacity:1.0\">11</text></g><g class=\"toytree-NodeLabel\" transform=\"translate(209.25,166.01)\"><text x=\"-5.0040000000000004\" y=\"2.2995\" style=\"fill:rgb(14.5%,14.5%,14.5%);fill-opacity:1.0\">12</text></g><g class=\"toytree-NodeLabel\" transform=\"translate(186.208,82.5922)\"><text x=\"-5.0040000000000004\" y=\"2.2995\" style=\"fill:rgb(14.5%,14.5%,14.5%);fill-opacity:1.0\">13</text></g><g class=\"toytree-NodeLabel\" transform=\"translate(141.771,55.9332)\"><text x=\"-5.0040000000000004\" y=\"2.2995\" style=\"fill:rgb(14.5%,14.5%,14.5%);fill-opacity:1.0\">14</text></g></g><g class=\"toytree-TipLabels\" style=\"fill:rgb(14.5%,14.5%,14.5%);fill-opacity:1.0;font-family:Helvetica;font-size:12px;font-weight:300;vertical-align:baseline;white-space:pre;stroke:none\"><g class=\"toytree-TipLabel\" transform=\"translate(57.8341,195.538)rotate(90)\"><text x=\"15.0\" y=\"3.066\" style=\"fill:rgb(14.5%,14.5%,14.5%);fill-opacity:1.0\">r1_1</text></g><g class=\"toytree-TipLabel\" transform=\"translate(84.1672,195.538)rotate(90)\"><text x=\"15.0\" y=\"3.066\" style=\"fill:rgb(14.5%,14.5%,14.5%);fill-opacity:1.0\">r1_2</text></g><g class=\"toytree-TipLabel\" transform=\"translate(110.5,195.538)rotate(90)\"><text x=\"15.0\" y=\"3.066\" style=\"fill:rgb(14.5%,14.5%,14.5%);fill-opacity:1.0\">r1_0</text></g><g class=\"toytree-TipLabel\" transform=\"translate(136.833,195.538)rotate(90)\"><text x=\"15.0\" y=\"3.066\" style=\"fill:rgb(14.5%,14.5%,14.5%);fill-opacity:1.0\">r1_3</text></g><g class=\"toytree-TipLabel\" transform=\"translate(163.167,195.538)rotate(90)\"><text x=\"15.0\" y=\"3.066\" style=\"fill:rgb(14.5%,14.5%,14.5%);fill-opacity:1.0\">r0_2</text></g><g class=\"toytree-TipLabel\" transform=\"translate(189.5,195.538)rotate(90)\"><text x=\"15.0\" y=\"3.066\" style=\"fill:rgb(14.5%,14.5%,14.5%);fill-opacity:1.0\">r0_3</text></g><g class=\"toytree-TipLabel\" transform=\"translate(215.833,195.538)rotate(90)\"><text x=\"15.0\" y=\"3.066\" style=\"fill:rgb(14.5%,14.5%,14.5%);fill-opacity:1.0\">r0_0</text></g><g class=\"toytree-TipLabel\" transform=\"translate(242.166,195.538)rotate(90)\"><text x=\"15.0\" y=\"3.066\" style=\"fill:rgb(14.5%,14.5%,14.5%);fill-opacity:1.0\">r0_1</text></g></g></g></g><g class=\"toyplot-coordinates-Axis\" id=\"t8d072685017f4beb9060b2694dd9ad5e\" transform=\"translate(50.0,250.0)rotate(-90.0)translate(0,-15.0)\"><line x1=\"54.46245340704444\" y1=\"0\" x2=\"194.06681464728962\" y2=\"0\" style=\"\"></line><g><line x1=\"54.46245340704444\" y1=\"0\" x2=\"54.46245340704444\" y2=\"5\" style=\"\"></line><line x1=\"100.39488816648993\" y1=\"0\" x2=\"100.39488816648993\" y2=\"5\" style=\"\"></line><line x1=\"146.32732292593542\" y1=\"0\" x2=\"146.32732292593542\" y2=\"5\" style=\"\"></line><line x1=\"192.25975768538092\" y1=\"0\" x2=\"192.25975768538092\" y2=\"5\" style=\"\"></line></g><g><g transform=\"translate(54.46245340704444,-6)\"><text x=\"-2.78\" y=\"-4.440892098500626e-16\" style=\"fill:rgb(16.1%,15.3%,14.1%);fill-opacity:1.0;font-family:helvetica;font-size:10.0px;font-weight:normal;stroke:none;vertical-align:baseline;white-space:pre\">0</text></g><g transform=\"translate(100.39488816648993,-6)\"><text x=\"-16.68\" y=\"-4.440892098500626e-16\" style=\"fill:rgb(16.1%,15.3%,14.1%);fill-opacity:1.0;font-family:helvetica;font-size:10.0px;font-weight:normal;stroke:none;vertical-align:baseline;white-space:pre\">250000</text></g><g transform=\"translate(146.32732292593542,-6)\"><text x=\"-16.68\" y=\"-4.440892098500626e-16\" style=\"fill:rgb(16.1%,15.3%,14.1%);fill-opacity:1.0;font-family:helvetica;font-size:10.0px;font-weight:normal;stroke:none;vertical-align:baseline;white-space:pre\">500000</text></g><g transform=\"translate(192.25975768538092,-6)\"><text x=\"-16.68\" y=\"-4.440892098500626e-16\" style=\"fill:rgb(16.1%,15.3%,14.1%);fill-opacity:1.0;font-family:helvetica;font-size:10.0px;font-weight:normal;stroke:none;vertical-align:baseline;white-space:pre\">750000</text></g></g><g class=\"toyplot-coordinates-Axis-coordinates\" style=\"visibility:hidden\" transform=\"\"><line x1=\"0\" x2=\"0\" y1=\"3.0\" y2=\"-4.5\" style=\"stroke:rgb(43.9%,50.2%,56.5%);stroke-opacity:1.0;stroke-width:1.0\"></line><text x=\"0\" y=\"6\" style=\"alignment-baseline:hanging;fill:rgb(43.9%,50.2%,56.5%);fill-opacity:1.0;font-size:10px;font-weight:normal;stroke:none;text-anchor:middle\"></text></g></g></g></svg><div class=\"toyplot-behavior\"><script>(function()\n",
       "{\n",
       "var modules={};\n",
       "modules[\"toyplot/canvas/id\"] = \"ta2ed1fac1893440da260a919e1b24804\";\n",
       "modules[\"toyplot/canvas\"] = (function(canvas_id)\n",
       "    {\n",
       "        return document.querySelector(\"#\" + canvas_id);\n",
       "    })(modules[\"toyplot/canvas/id\"]);\n",
       "modules[\"toyplot.coordinates.Axis\"] = (\n",
       "        function(canvas)\n",
       "        {\n",
       "            function sign(x)\n",
       "            {\n",
       "                return x < 0 ? -1 : x > 0 ? 1 : 0;\n",
       "            }\n",
       "\n",
       "            function mix(a, b, amount)\n",
       "            {\n",
       "                return ((1.0 - amount) * a) + (amount * b);\n",
       "            }\n",
       "\n",
       "            function log(x, base)\n",
       "            {\n",
       "                return Math.log(Math.abs(x)) / Math.log(base);\n",
       "            }\n",
       "\n",
       "            function in_range(a, x, b)\n",
       "            {\n",
       "                var left = Math.min(a, b);\n",
       "                var right = Math.max(a, b);\n",
       "                return left <= x && x <= right;\n",
       "            }\n",
       "\n",
       "            function inside(range, projection)\n",
       "            {\n",
       "                for(var i = 0; i != projection.length; ++i)\n",
       "                {\n",
       "                    var segment = projection[i];\n",
       "                    if(in_range(segment.range.min, range, segment.range.max))\n",
       "                        return true;\n",
       "                }\n",
       "                return false;\n",
       "            }\n",
       "\n",
       "            function to_domain(range, projection)\n",
       "            {\n",
       "                for(var i = 0; i != projection.length; ++i)\n",
       "                {\n",
       "                    var segment = projection[i];\n",
       "                    if(in_range(segment.range.bounds.min, range, segment.range.bounds.max))\n",
       "                    {\n",
       "                        if(segment.scale == \"linear\")\n",
       "                        {\n",
       "                            var amount = (range - segment.range.min) / (segment.range.max - segment.range.min);\n",
       "                            return mix(segment.domain.min, segment.domain.max, amount)\n",
       "                        }\n",
       "                        else if(segment.scale[0] == \"log\")\n",
       "                        {\n",
       "                            var amount = (range - segment.range.min) / (segment.range.max - segment.range.min);\n",
       "                            var base = segment.scale[1];\n",
       "                            return sign(segment.domain.min) * Math.pow(base, mix(log(segment.domain.min, base), log(segment.domain.max, base), amount));\n",
       "                        }\n",
       "                    }\n",
       "                }\n",
       "            }\n",
       "\n",
       "            var axes = {};\n",
       "\n",
       "            function display_coordinates(e)\n",
       "            {\n",
       "                var current = canvas.createSVGPoint();\n",
       "                current.x = e.clientX;\n",
       "                current.y = e.clientY;\n",
       "\n",
       "                for(var axis_id in axes)\n",
       "                {\n",
       "                    var axis = document.querySelector(\"#\" + axis_id);\n",
       "                    var coordinates = axis.querySelector(\".toyplot-coordinates-Axis-coordinates\");\n",
       "                    if(coordinates)\n",
       "                    {\n",
       "                        var projection = axes[axis_id];\n",
       "                        var local = current.matrixTransform(axis.getScreenCTM().inverse());\n",
       "                        if(inside(local.x, projection))\n",
       "                        {\n",
       "                            var domain = to_domain(local.x, projection);\n",
       "                            coordinates.style.visibility = \"visible\";\n",
       "                            coordinates.setAttribute(\"transform\", \"translate(\" + local.x + \")\");\n",
       "                            var text = coordinates.querySelector(\"text\");\n",
       "                            text.textContent = domain.toFixed(2);\n",
       "                        }\n",
       "                        else\n",
       "                        {\n",
       "                            coordinates.style.visibility= \"hidden\";\n",
       "                        }\n",
       "                    }\n",
       "                }\n",
       "            }\n",
       "\n",
       "            canvas.addEventListener(\"click\", display_coordinates);\n",
       "\n",
       "            var module = {};\n",
       "            module.show_coordinates = function(axis_id, projection)\n",
       "            {\n",
       "                axes[axis_id] = projection;\n",
       "            }\n",
       "\n",
       "            return module;\n",
       "        })(modules[\"toyplot/canvas\"]);\n",
       "(function(axis, axis_id, projection)\n",
       "        {\n",
       "            axis.show_coordinates(axis_id, projection);\n",
       "        })(modules[\"toyplot.coordinates.Axis\"],\"t8d072685017f4beb9060b2694dd9ad5e\",[{\"domain\": {\"bounds\": {\"max\": Infinity, \"min\": -Infinity}, \"max\": 792128.4129349762, \"min\": -296426.9894045016}, \"range\": {\"bounds\": {\"max\": Infinity, \"min\": -Infinity}, \"max\": 200.0, \"min\": 0.0}, \"scale\": \"linear\"}]);\n",
       "})();</script></div></div>"
      ]
     },
     "metadata": {},
     "output_type": "display_data"
    }
   ],
   "source": [
    "genealogies[0].draw('p');"
   ]
  },
  {
   "cell_type": "code",
   "execution_count": null,
   "id": "ac4a5628-0392-4912-9e20-b73c44809d65",
   "metadata": {},
   "outputs": [],
   "source": []
  },
  {
   "cell_type": "code",
   "execution_count": 47,
   "id": "ba24c3be-2bad-4f5f-aa76-88f31d8db128",
   "metadata": {},
   "outputs": [],
   "source": [
    "from scipy import stats"
   ]
  },
  {
   "cell_type": "code",
   "execution_count": 320,
   "id": "c4e795ed-7abb-47d6-b9ac-58c5c5b0ef1e",
   "metadata": {},
   "outputs": [
    {
     "name": "stdout",
     "output_type": "stream",
     "text": [
      "144.24856440471896 188.2221539583129 # [-24.87124497 -24.87124497 -49.92175954]\n",
      "74.26211604248537 262.4842700007983 # [-24.87124497 -24.87124497 -49.92175954]\n",
      "326.3132509468216 414.92755493376796 # [-24.87124497 -24.87124497 -49.92175954]\n",
      "19.4565291330004 434.38408406676837 # [-24.87124497 -24.87124497 -49.92175954]\n",
      "75.54958147238474 113.10230659136987 # [-24.87124497 -24.87124497 -49.92175954]\n",
      "308.7016643481691 421.803970939539 # [-24.87124497 -24.87124497 -49.92175954]\n",
      "165.4473140514186 587.2512849909576 # [-24.87124497 -24.87124497 -49.92175954]\n",
      "52.28022763768242 143.710852949558 # [-24.87124497 -24.87124497 -49.92175954]\n",
      "354.9742444024598 498.6850973520178 # [-24.87124497 -24.87124497 -49.92175954]\n"
     ]
    }
   ],
   "source": [
    "# sample x exponential waiting distances\n",
    "rates = [25, 50, 100, 200]\n",
    "rvs = stats.expon.rvs(scale=rates, size=(100, 4))\n",
    "len = 100\n",
    "\n",
    "for rate, r in zip(rates, rvs):\n",
    "    sumlen = 0\n",
    "    loglik = []\n",
    "    for span in r:\n",
    "        sumlen += span\n",
    "        if sumlen < 100:\n",
    "            loglik.append(stats.expon.logpdf(scale=rate, x=span))\n",
    "        else:\n",
    "            print(span, sumlen, \"#\", logliks)"
   ]
  },
  {
   "cell_type": "code",
   "execution_count": 208,
   "id": "e6db5179-cc07-4db0-a862-0d46a1c3f57a",
   "metadata": {},
   "outputs": [],
   "source": [
    "rates1 = np.array([25, 25, 50, 100])\n",
    "rates2 = np.array([50, 50, 100])\n",
    "rates3 = np.array([100, 100])\n",
    "rates4 = np.array([200])"
   ]
  },
  {
   "cell_type": "code",
   "execution_count": 502,
   "id": "3be353b6-b0c0-41f0-adc9-7b4a2e2fdfe0",
   "metadata": {},
   "outputs": [
    {
     "name": "stdout",
     "output_type": "stream",
     "text": [
      "9.177585092994047 [-0.60032314 -0.60032314 -1.82564627 -6.15129255]\n"
     ]
    }
   ],
   "source": [
    "l = stats.expon.logpdf(scale=np.array([10,10,10,10]), x=rates1) * (rates1 / rates1.sum())\n",
    "print(-sum(l), l)"
   ]
  },
  {
   "cell_type": "code",
   "execution_count": 514,
   "id": "a9c408f4-cb69-4b77-812b-2bbaa6a6796e",
   "metadata": {},
   "outputs": [
    {
     "name": "stdout",
     "output_type": "stream",
     "text": [
      "9.177585092994047 [-0.60032314 -0.60032314 -1.82564627 -6.15129255]\n"
     ]
    }
   ],
   "source": [
    "l = stats.expon.logpdf(scale=np.array([10] * 4), x=rates1) * (rates1 / rates1.sum())\n",
    "print(-sum(l), l)"
   ]
  },
  {
   "cell_type": "code",
   "execution_count": 511,
   "id": "e90c6158-b3a8-45fe-892b-0e228bc63e14",
   "metadata": {},
   "outputs": [
    {
     "name": "stdout",
     "output_type": "stream",
     "text": [
      "5.085309800568133 [-0.52735948 -0.52735948 -1.22800575 -2.80258509]\n"
     ]
    }
   ],
   "source": [
    "l = stats.expon.logpdf(scale=rates1, x=rates1) * (rates1 / rates1.sum())\n",
    "print(-sum(l), l)"
   ]
  },
  {
   "cell_type": "code",
   "execution_count": 417,
   "id": "d3b8fdc5-1482-46a6-9c30-f51fc9670fd1",
   "metadata": {},
   "outputs": [
    {
     "name": "stdout",
     "output_type": "stream",
     "text": [
      "5.258596595708119 [-1.22800575 -1.22800575 -2.80258509]\n"
     ]
    }
   ],
   "source": [
    "l = stats.expon.logpdf(scale=rates2, x=rates2) * (rates2 / rates2.sum())\n",
    "print(-sum(l), l)"
   ]
  },
  {
   "cell_type": "code",
   "execution_count": 414,
   "id": "5f073173-3946-4de7-b9d9-53573cd1e771",
   "metadata": {},
   "outputs": [
    {
     "name": "stdout",
     "output_type": "stream",
     "text": [
      "5.605170185988092 [-2.80258509 -2.80258509]\n"
     ]
    }
   ],
   "source": [
    "l = stats.expon.logpdf(scale=rates3, x=rates3) * (rates3 / rates3.sum())\n",
    "print(-sum(l), l)"
   ]
  },
  {
   "cell_type": "code",
   "execution_count": 409,
   "id": "d5e072f1-e8db-4946-8402-7cc7a824aad5",
   "metadata": {},
   "outputs": [
    {
     "name": "stdout",
     "output_type": "stream",
     "text": [
      "1259.6634733096073 [-1259.66347331]\n"
     ]
    }
   ],
   "source": [
    "l = stats.expon.logpdf(scale=rates4, x=rates4) * rates4 #* (rates4 / rates4.sum())\n",
    "print(-sum(l), l)"
   ]
  },
  {
   "cell_type": "code",
   "execution_count": 472,
   "id": "b7d14d1a-dd85-4180-b134-acb9f6cc1c1b",
   "metadata": {},
   "outputs": [
    {
     "name": "stdout",
     "output_type": "stream",
     "text": [
      "1421.5510557964274 [-1421.5510558]\n"
     ]
    }
   ],
   "source": [
    "l = stats.expon.logpdf(scale=[1000], x=rates4) * rates4 #* (rates4 / rates4.sum())\n",
    "print(-sum(l), l)"
   ]
  },
  {
   "cell_type": "code",
   "execution_count": 448,
   "id": "2e520b60-5299-4e08-b8ea-be0606505ced",
   "metadata": {},
   "outputs": [
    {
     "data": {
      "text/plain": [
       "0.09233151537307284"
      ]
     },
     "execution_count": 448,
     "metadata": {},
     "output_type": "execute_result"
    }
   ],
   "source": [
    "import numpy as np\n",
    "from scipy.special import kl_div, rel_entr\n",
    "\n",
    "# Define two probability distributions.\n",
    "p = np.array([0.25, 0.25, 0.5])\n",
    "q = np.array([0.1, 0.3, 0.6])\n",
    "\n",
    "# Calculate the KL divergence.\n",
    "kl_div(p, q)\n",
    "\n",
    "sum(rel_entr(p, q))"
   ]
  },
  {
   "cell_type": "code",
   "execution_count": 449,
   "id": "b524c618-da5c-45fb-9d9e-38c06a395a57",
   "metadata": {},
   "outputs": [
    {
     "name": "stdout",
     "output_type": "stream",
     "text": [
      "10 -7.302585092994046\n",
      "20 -5.49573227355399\n",
      "30 -5.067864048328822\n",
      "40 -4.938879454113936\n",
      "50 -4.912023005428146\n",
      "60 -4.927677895555434\n",
      "70 -4.962780956335073\n",
      "80 -5.007026634673881\n",
      "90 -5.05536522588582\n",
      "100 -5.105170185988092\n"
     ]
    }
   ],
   "source": [
    "for scale in range(10, 110, 10):\n",
    "    loglik = 0.\n",
    "    for span in [50, 50]:\n",
    "        rate = 1 / scale\n",
    "        prob = rate * np.exp(-rate * span)\n",
    "        loglik += np.log(prob) * 0.5#* span\n",
    "    print(scale, loglik)   \n",
    "    #print(scale, sum(stats.expon.logpdf(scale=1 / scale, x=[50, 50])) )"
   ]
  },
  {
   "cell_type": "code",
   "execution_count": 147,
   "id": "ec6272e7-57ff-46f2-9ce6-f9299e347771",
   "metadata": {},
   "outputs": [
    {
     "name": "stdout",
     "output_type": "stream",
     "text": [
      "10 -12.302585092994045\n",
      "20 -7.995732273553991\n",
      "30 -6.734530714995489\n",
      "40 -6.188879454113936\n",
      "50 -5.9120230054281455\n",
      "60 -5.761011228888767\n",
      "70 -5.677066670620787\n",
      "80 -5.632026634673881\n",
      "90 -5.610920781441377\n",
      "100 -5.605170185988091\n",
      "110 -5.609571274883325\n",
      "120 -5.62082507611538\n",
      "130 -5.636765219686351\n",
      "140 -5.655928136895018\n"
     ]
    }
   ],
   "source": [
    "for scale in range(10, 150, 10):\n",
    "    loglik = 0.\n",
    "    for span in [100]:\n",
    "        rate = 1 / scale\n",
    "        prob = rate * np.exp(-rate * span)\n",
    "        loglik += np.log(prob) #* span\n",
    "    print(scale, loglik)\n",
    "    #print(scale, sum(stats.expon.logpdf(scale=1 / scale, x=[50, 50])) )"
   ]
  },
  {
   "cell_type": "code",
   "execution_count": 148,
   "id": "d81a917b-ca4b-4439-a8d9-adfa9cad894a",
   "metadata": {},
   "outputs": [
    {
     "name": "stdout",
     "output_type": "stream",
     "text": [
      "10 -12.302585092994047\n",
      "20 -7.99573227355399\n",
      "30 -6.734530714995489\n",
      "40 -6.188879454113936\n",
      "50 -5.912023005428146\n",
      "60 -5.761011228888767\n",
      "70 -5.677066670620788\n",
      "80 -5.632026634673881\n",
      "90 -5.610920781441376\n",
      "100 -5.605170185988092\n",
      "110 -5.609571274883326\n",
      "120 -5.620825076115379\n",
      "130 -5.636765219686351\n",
      "140 -5.655928136895018\n"
     ]
    }
   ],
   "source": [
    "for scale in range(10, 150, 10):\n",
    "    loglik = 0.\n",
    "    for span in [100]:\n",
    "        rate = 1 / scale\n",
    "        prob = rate * np.exp(-rate * span)\n",
    "        loglik += stats.expon.logpdf(scale=scale, x=span)\n",
    "    print(scale, loglik)\n",
    "    #print(scale, sum(stats.expon.logpdf(scale=1 / scale, x=[50, 50])) )"
   ]
  },
  {
   "cell_type": "code",
   "execution_count": 117,
   "id": "2055b510-eb8c-4a41-9f3c-0beabc9bcfdc",
   "metadata": {},
   "outputs": [
    {
     "data": {
      "text/plain": [
       "array([-5.60517019])"
      ]
     },
     "execution_count": 117,
     "metadata": {},
     "output_type": "execute_result"
    }
   ],
   "source": [
    "stats.expon.logpdf(scale=100, x=[100])"
   ]
  },
  {
   "cell_type": "code",
   "execution_count": 118,
   "id": "5fa32520-79b9-4659-8c3d-55ed605d3d30",
   "metadata": {},
   "outputs": [
    {
     "data": {
      "text/plain": [
       "array([-4.91202301, -4.91202301])"
      ]
     },
     "execution_count": 118,
     "metadata": {},
     "output_type": "execute_result"
    }
   ],
   "source": [
    "stats.expon.logpdf(scale=50, x=[50, 50])"
   ]
  },
  {
   "cell_type": "code",
   "execution_count": 95,
   "id": "b9edaea2-03c3-4cc0-a5a1-b2eaff5dde0f",
   "metadata": {},
   "outputs": [
    {
     "data": {
      "text/plain": [
       "-99.66424947390198"
      ]
     },
     "execution_count": 95,
     "metadata": {},
     "output_type": "execute_result"
    }
   ],
   "source": [
    "rates = np.array([25, 25, 50])\n",
    "logliks = stats.expon.logpdf(scale=1/rates, x=rates) / rates\n",
    "logliks.sum()"
   ]
  },
  {
   "cell_type": "code",
   "execution_count": null,
   "id": "a51e978b-8790-486b-9cf3-cd620fff2da3",
   "metadata": {},
   "outputs": [],
   "source": []
  },
  {
   "cell_type": "code",
   "execution_count": 31,
   "id": "a8b1231d",
   "metadata": {},
   "outputs": [],
   "source": [
    "# get a species tree with Ne on branches\n",
    "sptree = toytree.rtree.imbtree(4, treeheight=1e6)\n",
    "sptree = sptree.set_node_data(\"Ne\", default=100_000)"
   ]
  },
  {
   "cell_type": "code",
   "execution_count": 32,
   "id": "78db5149",
   "metadata": {},
   "outputs": [
    {
     "data": {
      "text/html": [
       "<div>\n",
       "<style scoped>\n",
       "    .dataframe tbody tr th:only-of-type {\n",
       "        vertical-align: middle;\n",
       "    }\n",
       "\n",
       "    .dataframe tbody tr th {\n",
       "        vertical-align: top;\n",
       "    }\n",
       "\n",
       "    .dataframe thead th {\n",
       "        text-align: right;\n",
       "    }\n",
       "</style>\n",
       "<table border=\"1\" class=\"dataframe\">\n",
       "  <thead>\n",
       "    <tr style=\"text-align: right;\">\n",
       "      <th></th>\n",
       "      <th>locus</th>\n",
       "      <th>start</th>\n",
       "      <th>end</th>\n",
       "      <th>nbps</th>\n",
       "      <th>nsnps</th>\n",
       "      <th>tidx</th>\n",
       "      <th>genealogy</th>\n",
       "    </tr>\n",
       "  </thead>\n",
       "  <tbody>\n",
       "    <tr>\n",
       "      <th>0</th>\n",
       "      <td>0</td>\n",
       "      <td>0</td>\n",
       "      <td>9</td>\n",
       "      <td>9</td>\n",
       "      <td>1</td>\n",
       "      <td>0</td>\n",
       "      <td>(r3_0:1114082.4766803677...</td>\n",
       "    </tr>\n",
       "    <tr>\n",
       "      <th>1</th>\n",
       "      <td>0</td>\n",
       "      <td>9</td>\n",
       "      <td>59</td>\n",
       "      <td>50</td>\n",
       "      <td>4</td>\n",
       "      <td>1</td>\n",
       "      <td>(r3_0:1114082.4766803677...</td>\n",
       "    </tr>\n",
       "    <tr>\n",
       "      <th>2</th>\n",
       "      <td>0</td>\n",
       "      <td>59</td>\n",
       "      <td>358</td>\n",
       "      <td>299</td>\n",
       "      <td>7</td>\n",
       "      <td>2</td>\n",
       "      <td>(r3_0:1023375.4532953024...</td>\n",
       "    </tr>\n",
       "    <tr>\n",
       "      <th>3</th>\n",
       "      <td>0</td>\n",
       "      <td>358</td>\n",
       "      <td>4004</td>\n",
       "      <td>3646</td>\n",
       "      <td>145</td>\n",
       "      <td>3</td>\n",
       "      <td>(r3_0:1023375.4532953024...</td>\n",
       "    </tr>\n",
       "    <tr>\n",
       "      <th>4</th>\n",
       "      <td>0</td>\n",
       "      <td>4004</td>\n",
       "      <td>4191</td>\n",
       "      <td>187</td>\n",
       "      <td>7</td>\n",
       "      <td>4</td>\n",
       "      <td>(r3_0:1023375.4532953024...</td>\n",
       "    </tr>\n",
       "  </tbody>\n",
       "</table>\n",
       "</div>"
      ],
      "text/plain": [
       "   locus  start   end  nbps  nsnps  tidx                    genealogy\n",
       "0      0      0     9     9      1     0  (r3_0:1114082.4766803677...\n",
       "1      0      9    59    50      4     1  (r3_0:1114082.4766803677...\n",
       "2      0     59   358   299      7     2  (r3_0:1023375.4532953024...\n",
       "3      0    358  4004  3646    145     3  (r3_0:1023375.4532953024...\n",
       "4      0   4004  4191   187      7     4  (r3_0:1023375.4532953024..."
      ]
     },
     "execution_count": 32,
     "metadata": {},
     "output_type": "execute_result"
    }
   ],
   "source": [
    "# simulate an ARG\n",
    "model = ipcoal.Model(sptree, nsamples={\"r0\": 3, \"r1\": 2, \"r2\": 1, \"r3\": 1})\n",
    "model.sim_loci(1, 100_000)\n",
    "model.df.head()"
   ]
  },
  {
   "cell_type": "markdown",
   "id": "80b21572",
   "metadata": {},
   "source": [
    "### Get genealogy embedding table"
   ]
  },
  {
   "cell_type": "code",
   "execution_count": 13,
   "id": "7c27708d-b764-4dbd-bd23-6c3d54c8908c",
   "metadata": {},
   "outputs": [],
   "source": [
    "T = ipcoal.smc.TreeEmbedding(sptree, model.df.genealogy, model.get_imap_dict(), 4)"
   ]
  },
  {
   "cell_type": "code",
   "execution_count": 29,
   "id": "979cc770-8e7d-49fc-95b6-c3e9c976bc01",
   "metadata": {},
   "outputs": [
    {
     "data": {
      "text/plain": [
       "1235.8851339931275"
      ]
     },
     "execution_count": 29,
     "metadata": {},
     "output_type": "execute_result"
    }
   ],
   "source": [
    "ipcoal.smc.get_ms_smc_loglik_from_embedding(T, 2e-9, model.df.nbps.values, 1, model.df.index.values)"
   ]
  },
  {
   "cell_type": "code",
   "execution_count": 12,
   "id": "c11775cb-bc9f-4c40-9e94-2a28a41f244a",
   "metadata": {
    "scrolled": true
   },
   "outputs": [
    {
     "name": "stdout",
     "output_type": "stream",
     "text": [
      "0    locus  start  end  nbps  nsnps  tidx                    genealogy\n",
      "0      0      0  583   583     14     0  (r3_0:1405041.0880687532...\n",
      "1    locus  start  end  nbps  nsnps  tidx                    genealogy\n",
      "1      0    583  782   199      6     1  (r3_0:1405041.0880687532...\n",
      "2    locus  start   end  nbps  nsnps  tidx                    genealogy\n",
      "2      0    782  1157   375     16     2  (r3_0:1405041.0880687532...\n",
      "3    locus  start   end  nbps  nsnps  tidx                    genealogy\n",
      "3      0   1157  1173    16      1     3  (r3_0:1279681.8729624752...\n",
      "4    locus  start   end  nbps  nsnps  tidx                    genealogy\n",
      "4      0   1173  1210    37      2     4  (r3_0:1279681.8729624752...\n",
      "5    locus  start   end  nbps  nsnps  tidx                    genealogy\n",
      "5      0   1210  1559   349     18     5  (r3_0:1279681.8729624752...\n",
      "6    locus  start   end  nbps  nsnps  tidx                    genealogy\n",
      "6      0   1559  2820  1261     66     6  (r3_0:1279681.8729624752...\n",
      "7    locus  start   end  nbps  nsnps  tidx                    genealogy\n",
      "7      0   2820  2957   137      7     7  (r3_0:1279681.8729624752...\n",
      "8    locus  start   end  nbps  nsnps  tidx                    genealogy\n",
      "8      0   2957  4266  1309     64     8  (r3_0:1338976.9610592336...\n",
      "9    locus  start   end  nbps  nsnps  tidx                    genealogy\n",
      "9      0   4266  4410   144      9     9  (((r0_1:24717.1326898513...\n",
      "10     locus  start   end  nbps  nsnps  tidx                    genealogy\n",
      "10      0   4410  4994   584     39    10  (((r0_1:24717.1326898513...\n",
      "11     locus  start   end  nbps  nsnps  tidx                    genealogy\n",
      "11      0   4994  5024    30      0    11  ((r3_0:1090907.190864004...\n",
      "12     locus  start   end  nbps  nsnps  tidx                    genealogy\n",
      "12      0   5024  5889   865     37    12  (r3_0:1090907.1908640046...\n",
      "13     locus  start   end  nbps  nsnps  tidx                    genealogy\n",
      "13      0   5889  7195  1306     59    13  (r3_0:1090907.1908640046...\n",
      "14     locus  start   end  nbps  nsnps  tidx                    genealogy\n",
      "14      0   7195  7534   339     13    14  (r3_0:1338976.9610592336...\n",
      "15     locus  start    end  nbps  nsnps  tidx                    genealogy\n",
      "15      0   7534  10185  2651    122    15  (r3_0:1338976.9610592336...\n",
      "16     locus  start    end  nbps  nsnps  tidx                    genealogy\n",
      "16      0  10185  11331  1146     70    16  (r3_0:1338976.9610592336...\n",
      "17     locus  start    end  nbps  nsnps  tidx                    genealogy\n",
      "17      0  11331  11456   125      9    17  (r3_0:1338976.9610592336...\n",
      "18     locus  start    end  nbps  nsnps  tidx                    genealogy\n",
      "18      0  11456  11692   236      8    18  (r3_0:1338976.9610592336...\n",
      "19     locus  start    end  nbps  nsnps  tidx                    genealogy\n",
      "19      0  11692  12476   784     24    19  (r3_0:1338976.9610592336...\n",
      "20     locus  start    end  nbps  nsnps  tidx                    genealogy\n",
      "20      0  12476  13478  1002     32    20  (r3_0:1047265.3165966540...\n",
      "21     locus  start    end  nbps  nsnps  tidx                    genealogy\n",
      "21      0  13478  13639   161      3    21  (r3_0:1047265.3165966540...\n",
      "22     locus  start    end  nbps  nsnps  tidx                    genealogy\n",
      "22      0  13639  13946   307     10    22  (r3_0:1047265.3165966540...\n",
      "23     locus  start    end  nbps  nsnps  tidx                    genealogy\n",
      "23      0  13946  14084   138      6    23  (r3_0:1047265.3165966540...\n",
      "24     locus  start    end  nbps  nsnps  tidx                    genealogy\n",
      "24      0  14084  14870   786     36    24  (r3_0:1047265.3165966540...\n",
      "25     locus  start    end  nbps  nsnps  tidx                    genealogy\n",
      "25      0  14870  14888    18      2    25  (r3_0:1047265.3165966540...\n",
      "26     locus  start    end  nbps  nsnps  tidx                    genealogy\n",
      "26      0  14888  15114   226      7    26  (r3_0:1047265.3165966540...\n",
      "27     locus  start    end  nbps  nsnps  tidx                    genealogy\n",
      "27      0  15114  15886   772     22    27  (r3_0:1047265.3165966540...\n",
      "28     locus  start    end  nbps  nsnps  tidx                    genealogy\n",
      "28      0  15886  16100   214     11    28  (r3_0:1047265.3165966540...\n",
      "29     locus  start    end  nbps  nsnps  tidx                    genealogy\n",
      "29      0  16100  17414  1314     52    29  (r3_0:1047265.3165966540...\n",
      "30     locus  start    end  nbps  nsnps  tidx                    genealogy\n",
      "30      0  17414  17813   399      9    30  (r3_0:1398330.7191963240...\n",
      "31     locus  start    end  nbps  nsnps  tidx                    genealogy\n",
      "31      0  17813  18619   806     37    31  (r3_0:1398330.7191963240...\n",
      "32     locus  start    end  nbps  nsnps  tidx                    genealogy\n",
      "32      0  18619  18814   195      2    32  (r3_0:1398330.7191963240...\n",
      "33     locus  start    end  nbps  nsnps  tidx                    genealogy\n",
      "33      0  18814  19920  1106     53    33  (r3_0:1398330.7191963240...\n",
      "34     locus  start    end  nbps  nsnps  tidx                    genealogy\n",
      "34      0  19920  20519   599     22    34  (r3_0:1398330.7191963240...\n",
      "35     locus  start    end  nbps  nsnps  tidx                    genealogy\n",
      "35      0  20519  21897  1378     55    35  (r3_0:1243785.7210104530...\n",
      "36     locus  start    end  nbps  nsnps  tidx                    genealogy\n",
      "36      0  21897  24161  2264     72    36  (r3_0:1243785.7210104530...\n",
      "37     locus  start    end  nbps  nsnps  tidx                    genealogy\n",
      "37      0  24161  24952   791     26    37  (r3_0:1243785.7210104530...\n",
      "38     locus  start    end  nbps  nsnps  tidx                    genealogy\n",
      "38      0  24952  26165  1213     56    38  (r3_0:1243785.7210104530...\n",
      "39     locus  start    end  nbps  nsnps  tidx                    genealogy\n",
      "39      0  26165  27461  1296     45    39  (r3_0:1243785.7210104530...\n",
      "40     locus  start    end  nbps  nsnps  tidx                    genealogy\n",
      "40      0  27461  28260   799     34    40  (r3_0:1243785.7210104530...\n",
      "41     locus  start    end  nbps  nsnps  tidx                    genealogy\n",
      "41      0  28260  28297    37      1    41  (r3_0:1121088.6842377947...\n",
      "42     locus  start    end  nbps  nsnps  tidx                    genealogy\n",
      "42      0  28297  28759   462     16    42  (r3_0:1082189.8158085369...\n",
      "43     locus  start    end  nbps  nsnps  tidx                    genealogy\n",
      "43      0  28759  29131   372     19    43  (r3_0:1082189.8158085369...\n",
      "44     locus  start    end  nbps  nsnps  tidx                    genealogy\n",
      "44      0  29131  29814   683     34    44  (r3_0:1168236.3465475346...\n",
      "45     locus  start    end  nbps  nsnps  tidx                    genealogy\n",
      "45      0  29814  30207   393     18    45  (r3_0:1168236.3465475346...\n",
      "46     locus  start    end  nbps  nsnps  tidx                    genealogy\n",
      "46      0  30207  30615   408     16    46  (r3_0:1168236.3465475346...\n",
      "47     locus  start    end  nbps  nsnps  tidx                    genealogy\n",
      "47      0  30615  31232   617     25    47  (((r1_0:2894.69013301248...\n",
      "48     locus  start    end  nbps  nsnps  tidx                    genealogy\n",
      "48      0  31232  31353   121      6    48  (r2_0:1279399.6917942338...\n",
      "49     locus  start    end  nbps  nsnps  tidx                    genealogy\n",
      "49      0  31353  31461   108      4    49  (r2_0:1388840.6776907078...\n",
      "50     locus  start    end  nbps  nsnps  tidx                    genealogy\n",
      "50      0  31461  31580   119      5    50  (r2_0:1388840.6776907078...\n",
      "51     locus  start    end  nbps  nsnps  tidx                    genealogy\n",
      "51      0  31580  31776   196     10    51  (r2_0:1487241.2154973966...\n",
      "52     locus  start    end  nbps  nsnps  tidx                    genealogy\n",
      "52      0  31776  31811    35      1    52  (r3_0:1487241.2154973966...\n",
      "53     locus  start    end  nbps  nsnps  tidx                    genealogy\n",
      "53      0  31811  32060   249     13    53  (r3_0:1487241.2154973966...\n",
      "54     locus  start    end  nbps  nsnps  tidx                    genealogy\n",
      "54      0  32060  33146  1086     47    54  (r3_0:1535284.4976709021...\n",
      "55     locus  start    end  nbps  nsnps  tidx                    genealogy\n",
      "55      0  33146  33556   410     20    55  (r3_0:1535284.4976709021...\n",
      "56     locus  start    end  nbps  nsnps  tidx                    genealogy\n",
      "56      0  33556  33922   366     17    56  (r3_0:1535284.4976709021...\n",
      "57     locus  start    end  nbps  nsnps  tidx                    genealogy\n",
      "57      0  33922  34192   270      4    57  (r3_0:1535284.4976709021...\n",
      "58     locus  start    end  nbps  nsnps  tidx                    genealogy\n",
      "58      0  34192  34281    89      4    58  ((r1_0:2894.690133012489...\n",
      "59     locus  start    end  nbps  nsnps  tidx                    genealogy\n",
      "59      0  34281  34323    42      1    59  ((r3_0:1132877.562810998...\n",
      "60     locus  start    end  nbps  nsnps  tidx                    genealogy\n",
      "60      0  34323  34353    30      2    60  (r3_0:1535284.4976709021...\n",
      "61     locus  start    end  nbps  nsnps  tidx                    genealogy\n",
      "61      0  34353  34560   207     12    61  (r3_0:1535284.4976709021...\n",
      "62     locus  start    end  nbps  nsnps  tidx                    genealogy\n",
      "62      0  34560  35219   659     28    62  (r2_0:1535284.4976709021...\n",
      "63     locus  start    end  nbps  nsnps  tidx                    genealogy\n",
      "63      0  35219  36825  1606     52    63  (r2_0:1155509.3447112133...\n",
      "64     locus  start    end  nbps  nsnps  tidx                    genealogy\n",
      "64      0  36825  37419   594     21    64  (r3_0:1132877.5628109988...\n",
      "65     locus  start    end  nbps  nsnps  tidx                    genealogy\n",
      "65      0  37419  37508    89      0    65  (r3_0:1132877.5628109988...\n",
      "66     locus  start    end  nbps  nsnps  tidx                    genealogy\n",
      "66      0  37508  39398  1890     61    66  (r3_0:1132877.5628109988...\n",
      "67     locus  start    end  nbps  nsnps  tidx                    genealogy\n",
      "67      0  39398  39581   183      6    67  (r3_0:1132877.5628109988...\n",
      "68     locus  start    end  nbps  nsnps  tidx                    genealogy\n",
      "68      0  39581  39871   290     14    68  (r3_0:1132877.5628109988...\n",
      "69     locus  start    end  nbps  nsnps  tidx                    genealogy\n",
      "69      0  39871  40490   619     20    69  (r3_0:1132877.5628109988...\n",
      "70     locus  start    end  nbps  nsnps  tidx                    genealogy\n",
      "70      0  40490  42519  2029     78    70  (r3_0:1132877.5628109988...\n",
      "71     locus  start    end  nbps  nsnps  tidx                    genealogy\n",
      "71      0  42519  42531    12      0    71  (r3_0:1132877.5628109988...\n",
      "72     locus  start    end  nbps  nsnps  tidx                    genealogy\n",
      "72      0  42531  42834   303     16    72  (r3_0:1132877.5628109988...\n",
      "73     locus  start    end  nbps  nsnps  tidx                    genealogy\n",
      "73      0  42834  43184   350     11    73  (((r1_0:2894.69013301248...\n",
      "74     locus  start    end  nbps  nsnps  tidx                    genealogy\n",
      "74      0  43184  43371   187     10    74  (((r1_0:2894.69013301248...\n",
      "75     locus  start    end  nbps  nsnps  tidx                    genealogy\n",
      "75      0  43371  43946   575     20    75  (((r1_0:2894.69013301248...\n",
      "76     locus  start    end  nbps  nsnps  tidx                    genealogy\n",
      "76      0  43946  44226   280      9    76  ((r3_0:1079729.063764739...\n",
      "77     locus  start    end  nbps  nsnps  tidx                    genealogy\n",
      "77      0  44226  44356   130      5    77  (r3_0:1079729.0637647395...\n",
      "78     locus  start    end  nbps  nsnps  tidx                    genealogy\n",
      "78      0  44356  45261   905     28    78  (r3_0:1079729.0637647395...\n",
      "79     locus  start    end  nbps  nsnps  tidx                    genealogy\n",
      "79      0  45261  45429   168      8    79  (r3_0:1079729.0637647395...\n",
      "80     locus  start    end  nbps  nsnps  tidx                    genealogy\n",
      "80      0  45429  46011   582     20    80  (r3_0:1079729.0637647395...\n",
      "81     locus  start    end  nbps  nsnps  tidx                    genealogy\n",
      "81      0  46011  47135  1124     47    81  (r3_0:1079729.0637647395...\n",
      "82     locus  start    end  nbps  nsnps  tidx                    genealogy\n",
      "82      0  47135  48703  1568     61    82  (r3_0:1079729.0637647395...\n",
      "83     locus  start    end  nbps  nsnps  tidx                    genealogy\n",
      "83      0  48703  49368   665     23    83  (r3_0:1413614.6958627030...\n",
      "84     locus  start    end  nbps  nsnps  tidx                    genealogy\n",
      "84      0  49368  49410    42      2    84  (r3_0:1413614.6958627030...\n",
      "85     locus  start    end  nbps  nsnps  tidx                    genealogy\n",
      "85      0  49410  49882   472     17    85  (r3_0:1413614.6958627030...\n",
      "86     locus  start    end  nbps  nsnps  tidx                    genealogy\n",
      "86      0  49882  50417   535     27    86  (r3_0:1525553.4911229684...\n",
      "87     locus  start    end  nbps  nsnps  tidx                    genealogy\n",
      "87      0  50417  50424     7      1    87  (r3_0:1525553.4911229684...\n",
      "88     locus  start    end  nbps  nsnps  tidx                    genealogy\n",
      "88      0  50424  51306   882     45    88  (r3_0:1525553.4911229684...\n",
      "89     locus  start    end  nbps  nsnps  tidx                    genealogy\n",
      "89      0  51306  51665   359     21    89  (r3_0:1456318.7695505907...\n",
      "90     locus  start    end  nbps  nsnps  tidx                    genealogy\n",
      "90      0  51665  51932   267     17    90  (r3_0:1525553.4911229684...\n",
      "91     locus  start    end  nbps  nsnps  tidx                    genealogy\n",
      "91      0  51932  51944    12      1    91  (r3_0:1456318.7695505907...\n",
      "92     locus  start    end  nbps  nsnps  tidx                    genealogy\n",
      "92      0  51944  53951  2007     80    92  (r3_0:1135186.5149062480...\n",
      "93     locus  start    end  nbps  nsnps  tidx                    genealogy\n",
      "93      0  53951  54056   105      9    93  (r3_0:1155509.3447112133...\n",
      "94     locus  start    end  nbps  nsnps  tidx                    genealogy\n",
      "94      0  54056  54447   391     11    94  (r3_0:1155509.3447112133...\n",
      "95     locus  start    end  nbps  nsnps  tidx                    genealogy\n",
      "95      0  54447  55701  1254     52    95  (r3_0:1155509.3447112133...\n",
      "96     locus  start    end  nbps  nsnps  tidx                    genealogy\n",
      "96      0  55701  56217   516     20    96  (r3_0:1155509.3447112133...\n",
      "97     locus  start    end  nbps  nsnps  tidx                    genealogy\n",
      "97      0  56217  57701  1484     64    97  (r3_0:1155509.3447112133...\n",
      "98     locus  start    end  nbps  nsnps  tidx                    genealogy\n",
      "98      0  57701  58376   675     34    98  (r3_0:1155509.3447112133...\n",
      "99     locus  start    end  nbps  nsnps  tidx                    genealogy\n",
      "99      0  58376  59283   907     39    99  (r3_0:1155509.3447112133...\n",
      "100      locus  start    end  nbps  nsnps  tidx                    genealogy\n",
      "100      0  59283  60053   770     32   100  (r3_0:1155509.3447112133...\n",
      "101      locus  start    end  nbps  nsnps  tidx                    genealogy\n",
      "101      0  60053  61312  1259     39   101  (r3_0:1155509.3447112133...\n",
      "102      locus  start    end  nbps  nsnps  tidx                    genealogy\n",
      "102      0  61312  61494   182      3   102  (r3_0:1046756.4270224141...\n",
      "103      locus  start    end  nbps  nsnps  tidx                    genealogy\n",
      "103      0  61494  62156   662     29   103  (r3_0:1046756.4270224141...\n",
      "104      locus  start    end  nbps  nsnps  tidx                    genealogy\n",
      "104      0  62156  62653   497     15   104  (r3_0:1046756.4270224141...\n",
      "105      locus  start    end  nbps  nsnps  tidx                    genealogy\n",
      "105      0  62653  62802   149      3   105  (r3_0:1046756.4270224141...\n",
      "106      locus  start    end  nbps  nsnps  tidx                    genealogy\n",
      "106      0  62802  62980   178      9   106  (r3_0:1046756.4270224141...\n",
      "107      locus  start    end  nbps  nsnps  tidx                    genealogy\n",
      "107      0  62980  63050    70      1   107  (r3_0:1046756.4270224141...\n",
      "108      locus  start    end  nbps  nsnps  tidx                    genealogy\n",
      "108      0  63050  63500   450     12   108  (r3_0:1046756.4270224141...\n",
      "109      locus  start    end  nbps  nsnps  tidx                    genealogy\n",
      "109      0  63500  63732   232      9   109  (r3_0:1046756.4270224141...\n",
      "110      locus  start    end  nbps  nsnps  tidx                    genealogy\n",
      "110      0  63732  64118   386     17   110  (r3_0:1331211.1858646995...\n",
      "111      locus  start    end  nbps  nsnps  tidx                    genealogy\n",
      "111      0  64118  64733   615     19   111  (r3_0:1264035.4757741109...\n",
      "112      locus  start    end  nbps  nsnps  tidx                    genealogy\n",
      "112      0  64733  65064   331     15   112  (r3_0:1264035.4757741109...\n",
      "113      locus  start    end  nbps  nsnps  tidx                    genealogy\n",
      "113      0  65064  67760  2696    111   113  (r3_0:1264035.4757741109...\n",
      "114      locus  start    end  nbps  nsnps  tidx                    genealogy\n",
      "114      0  67760  69524  1764     60   114  (r3_0:1046756.4270224141...\n",
      "115      locus  start    end  nbps  nsnps  tidx                    genealogy\n",
      "115      0  69524  72599  3075    118   115  (r3_0:1166769.2106562093...\n",
      "116      locus  start    end  nbps  nsnps  tidx                    genealogy\n",
      "116      0  72599  74290  1691     60   116  (r3_0:1166769.2106562093...\n",
      "117      locus  start    end  nbps  nsnps  tidx                    genealogy\n",
      "117      0  74290  76966  2676     88   117  (r3_0:1166769.2106562093...\n",
      "118      locus  start    end  nbps  nsnps  tidx                    genealogy\n",
      "118      0  76966  77201   235     12   118  (r3_0:1166769.2106562093...\n",
      "119      locus  start    end  nbps  nsnps  tidx                    genealogy\n",
      "119      0  77201  77580   379     10   119  (r3_0:1166769.2106562093...\n",
      "120      locus  start    end  nbps  nsnps  tidx                    genealogy\n",
      "120      0  77580  77618    38      1   120  (r3_0:1166769.2106562093...\n",
      "121      locus  start    end  nbps  nsnps  tidx                    genealogy\n",
      "121      0  77618  78306   688     23   121  (r3_0:1166769.2106562093...\n",
      "122      locus  start    end  nbps  nsnps  tidx                    genealogy\n",
      "122      0  78306  78458   152      7   122  (r3_0:1166769.2106562093...\n",
      "123      locus  start    end  nbps  nsnps  tidx                    genealogy\n",
      "123      0  78458  78941   483     14   123  (r3_0:1166769.2106562093...\n",
      "124      locus  start    end  nbps  nsnps  tidx                    genealogy\n",
      "124      0  78941  79331   390     12   124  (r3_0:1089777.8299987071...\n",
      "125      locus  start    end  nbps  nsnps  tidx                    genealogy\n",
      "125      0  79331  80301   970     30   125  (r3_0:1089777.8299987071...\n",
      "126      locus  start    end  nbps  nsnps  tidx                    genealogy\n",
      "126      0  80301  81163   862     35   126  (r3_0:1102502.0782580103...\n",
      "127      locus  start    end  nbps  nsnps  tidx                    genealogy\n",
      "127      0  81163  81394   231      8   127  (r3_0:1000475.7690122786...\n",
      "128      locus  start    end  nbps  nsnps  tidx                    genealogy\n",
      "128      0  81394  82510  1116     41   128  (r3_0:1000475.7690122786...\n",
      "129      locus  start    end  nbps  nsnps  tidx                    genealogy\n",
      "129      0  82510  83198   688     23   129  (r3_0:1000475.7690122786...\n",
      "130      locus  start    end  nbps  nsnps  tidx                    genealogy\n",
      "130      0  83198  84556  1358     45   130  (r3_0:1000475.7690122786...\n",
      "131      locus  start    end  nbps  nsnps  tidx                    genealogy\n",
      "131      0  84556  84562     6      0   131  (r3_0:1000475.7690122786...\n",
      "132      locus  start    end  nbps  nsnps  tidx                    genealogy\n",
      "132      0  84562  85306   744     23   132  (r3_0:1000475.7690122786...\n",
      "133      locus  start    end  nbps  nsnps  tidx                    genealogy\n",
      "133      0  85306  85743   437     22   133  (r3_0:1000475.7690122786...\n",
      "134      locus  start    end  nbps  nsnps  tidx                    genealogy\n",
      "134      0  85743  86867  1124     48   134  (r3_0:1003610.1077500977...\n",
      "135      locus  start    end  nbps  nsnps  tidx                    genealogy\n",
      "135      0  86867  87188   321     16   135  (r3_0:1003610.1077500977...\n",
      "136      locus  start    end  nbps  nsnps  tidx                    genealogy\n",
      "136      0  87188  87413   225      7   136  (r3_0:1003610.1077500977...\n",
      "137      locus  start    end  nbps  nsnps  tidx                    genealogy\n",
      "137      0  87413  87750   337     18   137  (r3_0:1003610.1077500977...\n",
      "138      locus  start    end  nbps  nsnps  tidx                    genealogy\n",
      "138      0  87750  88342   592     25   138  (r3_0:1285097.6184137645...\n",
      "139      locus  start    end  nbps  nsnps  tidx                    genealogy\n",
      "139      0  88342  90497  2155     92   139  (r3_0:1285097.6184137645...\n",
      "140      locus  start    end  nbps  nsnps  tidx                    genealogy\n",
      "140      0  90497  90655   158      7   140  (r3_0:1421933.8173177370...\n",
      "141      locus  start    end  nbps  nsnps  tidx                    genealogy\n",
      "141      0  90655  90880   225     13   141  (r3_0:1421933.8173177370...\n",
      "142      locus  start    end  nbps  nsnps  tidx                    genealogy\n",
      "142      0  90880  91451   571     26   142  (r3_0:1421933.8173177370...\n",
      "143      locus  start    end  nbps  nsnps  tidx                    genealogy\n",
      "143      0  91451  92286   835     26   143  (r3_0:1166769.2106562093...\n",
      "144      locus  start    end  nbps  nsnps  tidx                    genealogy\n",
      "144      0  92286  92358    72      3   144  (((r1_0:2894.69013301248...\n",
      "145      locus  start    end  nbps  nsnps  tidx                    genealogy\n",
      "145      0  92358  92372    14      1   145  ((r2_0:1089777.829998707...\n",
      "146      locus  start    end  nbps  nsnps  tidx                    genealogy\n",
      "146      0  92372  94721  2349     92   146  (r3_0:1089777.8299987071...\n",
      "147      locus  start    end  nbps  nsnps  tidx                    genealogy\n",
      "147      0  94721  95593   872     31   147  (r3_0:1048211.1502028624...\n",
      "148      locus  start    end  nbps  nsnps  tidx                    genealogy\n",
      "148      0  95593  96574   981     43   148  (r3_0:1048211.1502028624...\n",
      "149      locus  start    end  nbps  nsnps  tidx                    genealogy\n",
      "149      0  96574  97032   458     18   149  (r2_0:1519123.5225779376...\n",
      "150      locus  start    end  nbps  nsnps  tidx                    genealogy\n",
      "150      0  97032  97204   172      8   150  (r3_0:1048211.1502028624...\n",
      "151      locus  start    end  nbps  nsnps  tidx                    genealogy\n",
      "151      0  97204  97785   581     15   151  (r3_0:1048211.1502028624...\n",
      "152      locus  start    end  nbps  nsnps  tidx                    genealogy\n",
      "152      0  97785  98283   498     19   152  (r3_0:1048211.1502028624...\n",
      "153      locus  start    end  nbps  nsnps  tidx                    genealogy\n",
      "153      0  98283  98832   549     29   153  (r3_0:1048211.1502028624...\n",
      "154      locus  start    end  nbps  nsnps  tidx                    genealogy\n",
      "154      0  98832  98839     7      0   154  (r3_0:1048211.1502028624...\n",
      "155      locus  start    end  nbps  nsnps  tidx                    genealogy\n",
      "155      0  98839  99902  1063     38   155  (r3_0:1048211.1502028624...\n",
      "156      locus  start     end  nbps  nsnps  tidx                    genealogy\n",
      "156      0  99902  100000    98      6   156  (r3_0:1048211.1502028624...\n"
     ]
    }
   ],
   "source": [
    "for tidx, tdf in model.df.groupby(\"tidx\"):\n",
    "    print(tidx, tdf)\n",
    "    "
   ]
  },
  {
   "cell_type": "code",
   "execution_count": 10,
   "id": "7cecccbb-5d93-40c3-b37c-e9df63ad3373",
   "metadata": {},
   "outputs": [
    {
     "data": {
      "text/html": [
       "<div>\n",
       "<style scoped>\n",
       "    .dataframe tbody tr th:only-of-type {\n",
       "        vertical-align: middle;\n",
       "    }\n",
       "\n",
       "    .dataframe tbody tr th {\n",
       "        vertical-align: top;\n",
       "    }\n",
       "\n",
       "    .dataframe thead th {\n",
       "        text-align: right;\n",
       "    }\n",
       "</style>\n",
       "<table border=\"1\" class=\"dataframe\">\n",
       "  <thead>\n",
       "    <tr style=\"text-align: right;\">\n",
       "      <th></th>\n",
       "      <th>start</th>\n",
       "      <th>stop</th>\n",
       "      <th>st_node</th>\n",
       "      <th>neff</th>\n",
       "      <th>nedges</th>\n",
       "      <th>dist</th>\n",
       "      <th>gidx</th>\n",
       "      <th>edges</th>\n",
       "    </tr>\n",
       "  </thead>\n",
       "  <tbody>\n",
       "    <tr>\n",
       "      <th>0</th>\n",
       "      <td>0.000000</td>\n",
       "      <td>24717.132690</td>\n",
       "      <td>0</td>\n",
       "      <td>100000.0</td>\n",
       "      <td>3</td>\n",
       "      <td>24717.132690</td>\n",
       "      <td>0</td>\n",
       "      <td>[4, 5, 6]</td>\n",
       "    </tr>\n",
       "    <tr>\n",
       "      <th>1</th>\n",
       "      <td>24717.132690</td>\n",
       "      <td>129490.860472</td>\n",
       "      <td>0</td>\n",
       "      <td>100000.0</td>\n",
       "      <td>2</td>\n",
       "      <td>104773.727782</td>\n",
       "      <td>0</td>\n",
       "      <td>[4, 8]</td>\n",
       "    </tr>\n",
       "    <tr>\n",
       "      <th>2</th>\n",
       "      <td>129490.860472</td>\n",
       "      <td>333333.333333</td>\n",
       "      <td>0</td>\n",
       "      <td>100000.0</td>\n",
       "      <td>1</td>\n",
       "      <td>203842.472861</td>\n",
       "      <td>0</td>\n",
       "      <td>[9]</td>\n",
       "    </tr>\n",
       "    <tr>\n",
       "      <th>3</th>\n",
       "      <td>0.000000</td>\n",
       "      <td>2894.690133</td>\n",
       "      <td>1</td>\n",
       "      <td>100000.0</td>\n",
       "      <td>2</td>\n",
       "      <td>2894.690133</td>\n",
       "      <td>0</td>\n",
       "      <td>[2, 3]</td>\n",
       "    </tr>\n",
       "    <tr>\n",
       "      <th>4</th>\n",
       "      <td>2894.690133</td>\n",
       "      <td>333333.333333</td>\n",
       "      <td>1</td>\n",
       "      <td>100000.0</td>\n",
       "      <td>1</td>\n",
       "      <td>330438.643200</td>\n",
       "      <td>0</td>\n",
       "      <td>[7]</td>\n",
       "    </tr>\n",
       "    <tr>\n",
       "      <th>5</th>\n",
       "      <td>0.000000</td>\n",
       "      <td>666666.666667</td>\n",
       "      <td>2</td>\n",
       "      <td>100000.0</td>\n",
       "      <td>1</td>\n",
       "      <td>666666.666667</td>\n",
       "      <td>0</td>\n",
       "      <td>[1]</td>\n",
       "    </tr>\n",
       "    <tr>\n",
       "      <th>6</th>\n",
       "      <td>0.000000</td>\n",
       "      <td>1000000.000000</td>\n",
       "      <td>3</td>\n",
       "      <td>100000.0</td>\n",
       "      <td>1</td>\n",
       "      <td>1000000.000000</td>\n",
       "      <td>0</td>\n",
       "      <td>[0]</td>\n",
       "    </tr>\n",
       "    <tr>\n",
       "      <th>7</th>\n",
       "      <td>333333.333333</td>\n",
       "      <td>376389.041841</td>\n",
       "      <td>4</td>\n",
       "      <td>100000.0</td>\n",
       "      <td>2</td>\n",
       "      <td>43055.708507</td>\n",
       "      <td>0</td>\n",
       "      <td>[7, 9]</td>\n",
       "    </tr>\n",
       "    <tr>\n",
       "      <th>8</th>\n",
       "      <td>376389.041841</td>\n",
       "      <td>666666.666667</td>\n",
       "      <td>4</td>\n",
       "      <td>100000.0</td>\n",
       "      <td>1</td>\n",
       "      <td>290277.624826</td>\n",
       "      <td>0</td>\n",
       "      <td>[10]</td>\n",
       "    </tr>\n",
       "    <tr>\n",
       "      <th>9</th>\n",
       "      <td>666666.666667</td>\n",
       "      <td>689733.522144</td>\n",
       "      <td>5</td>\n",
       "      <td>100000.0</td>\n",
       "      <td>2</td>\n",
       "      <td>23066.855477</td>\n",
       "      <td>0</td>\n",
       "      <td>[1, 10]</td>\n",
       "    </tr>\n",
       "  </tbody>\n",
       "</table>\n",
       "</div>"
      ],
      "text/plain": [
       "           start            stop  st_node      neff  nedges            dist  \\\n",
       "0       0.000000    24717.132690        0  100000.0       3    24717.132690   \n",
       "1   24717.132690   129490.860472        0  100000.0       2   104773.727782   \n",
       "2  129490.860472   333333.333333        0  100000.0       1   203842.472861   \n",
       "3       0.000000     2894.690133        1  100000.0       2     2894.690133   \n",
       "4    2894.690133   333333.333333        1  100000.0       1   330438.643200   \n",
       "5       0.000000   666666.666667        2  100000.0       1   666666.666667   \n",
       "6       0.000000  1000000.000000        3  100000.0       1  1000000.000000   \n",
       "7  333333.333333   376389.041841        4  100000.0       2    43055.708507   \n",
       "8  376389.041841   666666.666667        4  100000.0       1   290277.624826   \n",
       "9  666666.666667   689733.522144        5  100000.0       2    23066.855477   \n",
       "\n",
       "   gidx      edges  \n",
       "0     0  [4, 5, 6]  \n",
       "1     0     [4, 8]  \n",
       "2     0        [9]  \n",
       "3     0     [2, 3]  \n",
       "4     0        [7]  \n",
       "5     0        [1]  \n",
       "6     0        [0]  \n",
       "7     0     [7, 9]  \n",
       "8     0       [10]  \n",
       "9     0    [1, 10]  "
      ]
     },
     "execution_count": 10,
     "metadata": {},
     "output_type": "execute_result"
    }
   ],
   "source": [
    "table = ipcoal.smc.get_genealogy_embedding_table(sptree, model.df.genealogy, model.get_imap_dict())\n",
    "table.head(10)"
   ]
  },
  {
   "cell_type": "markdown",
   "id": "251b1875",
   "metadata": {},
   "source": [
    "### Calculate the likelihood of a genealogy in an ARG"
   ]
  },
  {
   "cell_type": "code",
   "execution_count": 174,
   "id": "57ff0d5c",
   "metadata": {},
   "outputs": [
    {
     "name": "stdout",
     "output_type": "stream",
     "text": [
      "0.0\n",
      "0.0\n",
      "0.0\n",
      "0.0\n",
      "0.0\n",
      "0.0\n",
      "0.0\n",
      "0.0\n",
      "0.0\n",
      "0.0\n",
      "0.0\n",
      "2.8284271247461903\n"
     ]
    },
    {
     "ename": "KeyError",
     "evalue": "'r2_1'",
     "output_type": "error",
     "traceback": [
      "\u001b[0;31m---------------------------------------------------------------------------\u001b[0m",
      "\u001b[0;31mKeyError\u001b[0m                                  Traceback (most recent call last)",
      "Cell \u001b[0;32mIn[174], line 37\u001b[0m\n\u001b[1;32m     35\u001b[0m \u001b[38;5;66;03m# compute analytical probabilities of change given tree1\u001b[39;00m\n\u001b[1;32m     36\u001b[0m toy1 \u001b[38;5;241m=\u001b[39m toytree\u001b[38;5;241m.\u001b[39mtree(tree1\u001b[38;5;241m.\u001b[39mas_newick(node_labels\u001b[38;5;241m=\u001b[39mmodel\u001b[38;5;241m.\u001b[39mtipdict))\n\u001b[0;32m---> 37\u001b[0m prob_tree \u001b[38;5;241m=\u001b[39m \u001b[43mipcoal\u001b[49m\u001b[38;5;241;43m.\u001b[39;49m\u001b[43msmc\u001b[49m\u001b[38;5;241;43m.\u001b[39;49m\u001b[43mget_probability_tree_change\u001b[49m\u001b[43m(\u001b[49m\n\u001b[1;32m     38\u001b[0m \u001b[43m    \u001b[49m\u001b[43mmodel\u001b[49m\u001b[38;5;241;43m.\u001b[39;49m\u001b[43mtree\u001b[49m\u001b[43m,\u001b[49m\u001b[43m \u001b[49m\u001b[43mtoy1\u001b[49m\u001b[43m,\u001b[49m\u001b[43m \u001b[49m\u001b[43mimap\u001b[49m\u001b[43m)\u001b[49m\n\u001b[1;32m     39\u001b[0m prob_topo \u001b[38;5;241m=\u001b[39m ipcoal\u001b[38;5;241m.\u001b[39msmc\u001b[38;5;241m.\u001b[39mget_probability_topology_change(\n\u001b[1;32m     40\u001b[0m     model\u001b[38;5;241m.\u001b[39mtree, toy1, imap)\n\u001b[1;32m     42\u001b[0m \u001b[38;5;66;03m# compute lambda_ (rate) of tree/topo change given sptree and tree1\u001b[39;00m\n",
      "File \u001b[0;32m~/mambaforge-pypy3/envs/radcamp-ipa/lib/python3.10/site-packages/ipcoal/smc/ms_smc.py:657\u001b[0m, in \u001b[0;36mget_probability_tree_change\u001b[0;34m(species_tree, genealogy, imap)\u001b[0m\n\u001b[1;32m    633\u001b[0m \u001b[38;5;250m\u001b[39m\u001b[38;5;124;03m\"\"\"Return probability that recombination causes a tree-change.\u001b[39;00m\n\u001b[1;32m    634\u001b[0m \n\u001b[1;32m    635\u001b[0m \u001b[38;5;124;03mReturns the probability that recombination occurring on this\u001b[39;00m\n\u001b[0;32m   (...)\u001b[0m\n\u001b[1;32m    654\u001b[0m \u001b[38;5;124;03m    genealogy tip names to map samples to species.\u001b[39;00m\n\u001b[1;32m    655\u001b[0m \u001b[38;5;124;03m\"\"\"\u001b[39;00m\n\u001b[1;32m    656\u001b[0m \u001b[38;5;66;03m# get full genealogy information\u001b[39;00m\n\u001b[0;32m--> 657\u001b[0m etable \u001b[38;5;241m=\u001b[39m \u001b[43mget_genealogy_embedding_table\u001b[49m\u001b[43m(\u001b[49m\u001b[43mspecies_tree\u001b[49m\u001b[43m,\u001b[49m\u001b[43m \u001b[49m\u001b[43mgenealogy\u001b[49m\u001b[43m,\u001b[49m\u001b[43m \u001b[49m\u001b[43mimap\u001b[49m\u001b[43m)\u001b[49m\n\u001b[1;32m    658\u001b[0m etable\u001b[38;5;241m.\u001b[39mneff \u001b[38;5;241m=\u001b[39m etable\u001b[38;5;241m.\u001b[39mneff \u001b[38;5;241m*\u001b[39m \u001b[38;5;241m2\u001b[39m\n\u001b[1;32m    659\u001b[0m sumlen \u001b[38;5;241m=\u001b[39m \u001b[38;5;28msum\u001b[39m(i\u001b[38;5;241m.\u001b[39mdist \u001b[38;5;28;01mfor\u001b[39;00m i \u001b[38;5;129;01min\u001b[39;00m genealogy \u001b[38;5;28;01mif\u001b[39;00m \u001b[38;5;129;01mnot\u001b[39;00m i\u001b[38;5;241m.\u001b[39mis_root())\n",
      "File \u001b[0;32m~/mambaforge-pypy3/envs/radcamp-ipa/lib/python3.10/site-packages/ipcoal/smc/ms_smc.py:75\u001b[0m, in \u001b[0;36mget_genealogy_embedding_table\u001b[0;34m(species_tree, genealogy, imap)\u001b[0m\n\u001b[1;32m     72\u001b[0m gt_tips \u001b[38;5;241m=\u001b[39m \u001b[38;5;28mset\u001b[39m\u001b[38;5;241m.\u001b[39munion(\u001b[38;5;241m*\u001b[39m[\u001b[38;5;28mset\u001b[39m(imap[i]) \u001b[38;5;28;01mfor\u001b[39;00m i \u001b[38;5;129;01min\u001b[39;00m st_node\u001b[38;5;241m.\u001b[39mget_leaf_names()])\n\u001b[1;32m     74\u001b[0m \u001b[38;5;66;03m# get gtree nodes descended from this interval.\u001b[39;00m\n\u001b[0;32m---> 75\u001b[0m gt_nodes \u001b[38;5;241m=\u001b[39m \u001b[38;5;28;43mset\u001b[39;49m\u001b[43m(\u001b[49m\u001b[43mname_to_node\u001b[49m\u001b[43m[\u001b[49m\u001b[43mi\u001b[49m\u001b[43m]\u001b[49m\u001b[43m \u001b[49m\u001b[38;5;28;43;01mfor\u001b[39;49;00m\u001b[43m \u001b[49m\u001b[43mi\u001b[49m\u001b[43m \u001b[49m\u001b[38;5;129;43;01min\u001b[39;49;00m\u001b[43m \u001b[49m\u001b[43mgt_tips\u001b[49m\u001b[43m)\u001b[49m\n\u001b[1;32m     77\u001b[0m \u001b[38;5;66;03m# get internal nodes in this TIME interval (coalescences)\u001b[39;00m\n\u001b[1;32m     78\u001b[0m mask_below \u001b[38;5;241m=\u001b[39m gt_node_heights \u001b[38;5;241m>\u001b[39m st_node\u001b[38;5;241m.\u001b[39mheight \u001b[38;5;241m+\u001b[39m \u001b[38;5;241m0.0001\u001b[39m \u001b[38;5;66;03m# zero-align ipcoal bug\u001b[39;00m\n",
      "File \u001b[0;32m~/mambaforge-pypy3/envs/radcamp-ipa/lib/python3.10/site-packages/ipcoal/smc/ms_smc.py:75\u001b[0m, in \u001b[0;36m<genexpr>\u001b[0;34m(.0)\u001b[0m\n\u001b[1;32m     72\u001b[0m gt_tips \u001b[38;5;241m=\u001b[39m \u001b[38;5;28mset\u001b[39m\u001b[38;5;241m.\u001b[39munion(\u001b[38;5;241m*\u001b[39m[\u001b[38;5;28mset\u001b[39m(imap[i]) \u001b[38;5;28;01mfor\u001b[39;00m i \u001b[38;5;129;01min\u001b[39;00m st_node\u001b[38;5;241m.\u001b[39mget_leaf_names()])\n\u001b[1;32m     74\u001b[0m \u001b[38;5;66;03m# get gtree nodes descended from this interval.\u001b[39;00m\n\u001b[0;32m---> 75\u001b[0m gt_nodes \u001b[38;5;241m=\u001b[39m \u001b[38;5;28mset\u001b[39m(\u001b[43mname_to_node\u001b[49m\u001b[43m[\u001b[49m\u001b[43mi\u001b[49m\u001b[43m]\u001b[49m \u001b[38;5;28;01mfor\u001b[39;00m i \u001b[38;5;129;01min\u001b[39;00m gt_tips)\n\u001b[1;32m     77\u001b[0m \u001b[38;5;66;03m# get internal nodes in this TIME interval (coalescences)\u001b[39;00m\n\u001b[1;32m     78\u001b[0m mask_below \u001b[38;5;241m=\u001b[39m gt_node_heights \u001b[38;5;241m>\u001b[39m st_node\u001b[38;5;241m.\u001b[39mheight \u001b[38;5;241m+\u001b[39m \u001b[38;5;241m0.0001\u001b[39m \u001b[38;5;66;03m# zero-align ipcoal bug\u001b[39;00m\n",
      "\u001b[0;31mKeyError\u001b[0m: 'r2_1'"
     ]
    }
   ],
   "source": [
    "tgen = model._get_tree_sequence_generator(nsites=1e5)\n",
    "# sample the tree sequence for this chromosome\n",
    "tseq = next(tgen)\n",
    "\n",
    "# get a copy of the tree sequence that has been simplified.\n",
    "# Because it was simulated with record_full_arg=True there are\n",
    "# many records of recombination that cause no-change that add\n",
    "# extra nodes to the trees. We need to simplify these to more\n",
    "# easily find the intervals at which changes occur, and to have\n",
    "# simpler trees that can be compared to detect event types.\n",
    "stseq = tseq.simplify(filter_sites=False)\n",
    "\n",
    "# get the starting tree in each tree sequence.\n",
    "tree = tseq.first(sample_lists=True)\n",
    "simple_tree0 = stseq.first(sample_lists=True)\n",
    "\n",
    "# iterate over subsequent intervals until the first topology\n",
    "# change event is observed. Start from that new fresh tree.\n",
    "while 1:\n",
    "    tree.next()\n",
    "    next_simple_tree = stseq.at(tree.interval.left, sample_lists=True)\n",
    "\n",
    "    # if the topology changed then this break and save tree as\n",
    "    # this will be our new starting tree.\n",
    "    dist = next_simple_tree.kc_distance(simple_tree0, lambda_=0)\n",
    "    print(dist)\n",
    "    if dist:\n",
    "        tree1 = next_simple_tree\n",
    "        break\n",
    "        \n",
    "\n",
    "# get sum edge lengths of tree at starting position\n",
    "tsumlen1 = tree1.get_total_branch_length()\n",
    "\n",
    "# compute analytical probabilities of change given tree1\n",
    "toy1 = toytree.tree(tree1.as_newick(node_labels=model.tipdict))\n",
    "prob_tree = ipcoal.smc.get_probability_tree_change(\n",
    "    model.tree, toy1, imap)\n",
    "prob_topo = ipcoal.smc.get_probability_topology_change(\n",
    "    model.tree, toy1, imap)\n",
    "\n",
    "# compute lambda_ (rate) of tree/topo change given sptree and tree1\n",
    "tree_rate = tsumlen1 * prob_tree * recomb\n",
    "topo_rate = tsumlen1 * prob_topo * recomb\n",
    "\n",
    "# RECORD FIRST EVENT TYPE ------------------------------------\n",
    "# iterate over subsequent intervals of non-simplified tree seq\n",
    "# until each change event type is observed.\n",
    "observed_topo_dist = 0.\n",
    "observed_tree_dist = 0.\n",
    "event_type = None\n",
    "\n",
    "# advance to next tree in non-simple treeseq and get simplified tree\n",
    "tree.next()\n",
    "next_simple_tree = stseq.at(tree.interval.left, sample_lists=True)"
   ]
  },
  {
   "cell_type": "code",
   "execution_count": null,
   "id": "0f5833fa",
   "metadata": {},
   "outputs": [],
   "source": []
  },
  {
   "cell_type": "code",
   "execution_count": null,
   "id": "1feb61d3",
   "metadata": {},
   "outputs": [],
   "source": []
  },
  {
   "cell_type": "code",
   "execution_count": 115,
   "id": "5e32c489",
   "metadata": {},
   "outputs": [],
   "source": [
    "ts = model.get_tree_sequence()"
   ]
  },
  {
   "cell_type": "code",
   "execution_count": 116,
   "id": "997948db",
   "metadata": {},
   "outputs": [],
   "source": [
    "tree = ts.first()\n",
    "nodes = tree.nodes()\n",
    "node = next(nodes)"
   ]
  },
  {
   "cell_type": "code",
   "execution_count": 117,
   "id": "d273e725",
   "metadata": {},
   "outputs": [
    {
     "data": {
      "text/plain": [
       "Edge(left=0.0, right=1.0, parent=12, child=11, metadata=b'', id=11)"
      ]
     },
     "execution_count": 117,
     "metadata": {},
     "output_type": "execute_result"
    }
   ],
   "source": [
    "ts.edge(11)"
   ]
  },
  {
   "cell_type": "code",
   "execution_count": 124,
   "id": "948450d2",
   "metadata": {},
   "outputs": [
    {
     "data": {
      "text/html": [
       "\n",
       "        <div>\n",
       "            <style scoped=\"\">\n",
       "                .tskit-table tbody tr th:only-of-type {vertical-align: middle;}\n",
       "                .tskit-table tbody tr th {vertical-align: top;}\n",
       "                .tskit-table tbody td {text-align: right;padding: 0.5em 0.5em;}\n",
       "                .tskit-table tbody th {padding: 0.5em 0.5em;}\n",
       "            </style>\n",
       "            <table border=\"1\" class=\"tskit-table\">\n",
       "                <thead>\n",
       "                    <tr>\n",
       "                        <th>id</th><th>left</th><th>right</th><th>parent</th><th>child</th><th>metadata</th>\n",
       "                    </tr>\n",
       "                </thead>\n",
       "                <tbody>\n",
       "                    <tr><td>0</td><td>0</td><td>1</td><td>7</td><td>0</td><td></td></tr>\n",
       "<tr><td>1</td><td>0</td><td>1</td><td>7</td><td>2</td><td></td></tr>\n",
       "<tr><td>2</td><td>0</td><td>1</td><td>8</td><td>1</td><td></td></tr>\n",
       "<tr><td>3</td><td>0</td><td>1</td><td>8</td><td>7</td><td></td></tr>\n",
       "<tr><td>4</td><td>0</td><td>1</td><td>9</td><td>3</td><td></td></tr>\n",
       "<tr><td>5</td><td>0</td><td>1</td><td>9</td><td>4</td><td></td></tr>\n",
       "<tr><td>6</td><td>0</td><td>1</td><td>10</td><td>8</td><td></td></tr>\n",
       "<tr><td>7</td><td>0</td><td>1</td><td>10</td><td>9</td><td></td></tr>\n",
       "<tr><td>8</td><td>0</td><td>1</td><td>11</td><td>5</td><td></td></tr>\n",
       "<tr><td>9</td><td>0</td><td>1</td><td>11</td><td>10</td><td></td></tr>\n",
       "<tr><td>10</td><td>0</td><td>1</td><td>12</td><td>6</td><td></td></tr>\n",
       "<tr><td>11</td><td>0</td><td>1</td><td>12</td><td>11</td><td></td></tr>\n",
       "\n",
       "                </tbody>\n",
       "            </table>\n",
       "        </div>\n",
       "    "
      ],
      "text/plain": [
       "<tskit.tables.EdgeTable at 0x7f50724606a0>"
      ]
     },
     "execution_count": 124,
     "metadata": {},
     "output_type": "execute_result"
    }
   ],
   "source": [
    "ts.tables_dict[\"edges\"]"
   ]
  },
  {
   "cell_type": "code",
   "execution_count": 129,
   "id": "a7e32865",
   "metadata": {},
   "outputs": [
    {
     "data": {
      "text/plain": [
       "<map at 0x7f507236d0f0>"
      ]
     },
     "execution_count": 129,
     "metadata": {},
     "output_type": "execute_result"
    }
   ],
   "source": [
    "ts.breakpoints()"
   ]
  },
  {
   "cell_type": "code",
   "execution_count": 133,
   "id": "9fd7abda",
   "metadata": {},
   "outputs": [],
   "source": [
    "def get_structured_arg_likelihood(\n",
    "    table: pd.DataFrame,\n",
    ") -> float:\n",
    "    \"\"\"Return likelihood of a genealogy ...\"\"\"\n",
    "    \n",
    "    likelihood_components = {}\n",
    "    for idx in table.index[:-1]:\n",
    "        k = table.nedges[idx]\n",
    "        n = table.neff[idx]\n",
    "        \n",
    "        λc = (k * (k - 1)) / (2 * n)\n",
    "        likelihood_components[idx] = np.exp(-λc * table.dist[idx])\n",
    "    return np.prod(list(likelihood_components.values()))"
   ]
  },
  {
   "cell_type": "code",
   "execution_count": 134,
   "id": "72ce7806",
   "metadata": {},
   "outputs": [
    {
     "data": {
      "text/plain": [
       "1.4100341731076422e-61"
      ]
     },
     "execution_count": 134,
     "metadata": {},
     "output_type": "execute_result"
    }
   ],
   "source": [
    "get_structured_arg_likelihood(table)"
   ]
  },
  {
   "cell_type": "code",
   "execution_count": null,
   "id": "eda6362c",
   "metadata": {},
   "outputs": [],
   "source": []
  },
  {
   "cell_type": "code",
   "execution_count": null,
   "id": "963e7e90",
   "metadata": {},
   "outputs": [],
   "source": []
  }
 ],
 "metadata": {
  "kernelspec": {
   "display_name": "Python 3 (ipykernel)",
   "language": "python",
   "name": "python3"
  },
  "language_info": {
   "codemirror_mode": {
    "name": "ipython",
    "version": 3
   },
   "file_extension": ".py",
   "mimetype": "text/x-python",
   "name": "python",
   "nbconvert_exporter": "python",
   "pygments_lexer": "ipython3",
   "version": "3.10.12"
  }
 },
 "nbformat": 4,
 "nbformat_minor": 5
}
